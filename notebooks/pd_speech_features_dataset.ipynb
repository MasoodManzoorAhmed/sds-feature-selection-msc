{
  "cells": [
    {
      "cell_type": "markdown",
      "id": "8c57d73e",
      "metadata": {
        "id": "8c57d73e"
      },
      "source": [
        "# Parkinson Disease Classification Dataset"
      ]
    },
    {
      "cell_type": "markdown",
      "id": "413ed78a",
      "metadata": {
        "id": "413ed78a"
      },
      "source": [
        "## Optimization and Baseline Model Creation"
      ]
    },
    {
      "cell_type": "code",
      "source": [],
      "metadata": {
        "id": "vitiOVfYvAZx"
      },
      "id": "vitiOVfYvAZx",
      "execution_count": 26,
      "outputs": []
    },
    {
      "cell_type": "code",
      "source": [
        "from google.colab import drive\n",
        "drive.mount('/content/drive')"
      ],
      "metadata": {
        "colab": {
          "base_uri": "https://localhost:8080/"
        },
        "id": "AuSJc7NZvCsL",
        "outputId": "03ddc2be-95d4-4554-c1ab-200eed48de35"
      },
      "id": "AuSJc7NZvCsL",
      "execution_count": 27,
      "outputs": [
        {
          "output_type": "stream",
          "name": "stdout",
          "text": [
            "Drive already mounted at /content/drive; to attempt to forcibly remount, call drive.mount(\"/content/drive\", force_remount=True).\n"
          ]
        }
      ]
    },
    {
      "cell_type": "code",
      "execution_count": 28,
      "id": "eaa91dda-a044-40de-a04d-fcb2d5e8f50d",
      "metadata": {
        "colab": {
          "base_uri": "https://localhost:8080/"
        },
        "id": "eaa91dda-a044-40de-a04d-fcb2d5e8f50d",
        "outputId": "00004de7-11aa-4cc0-9a74-d28825918909",
        "scrolled": true
      },
      "outputs": [
        {
          "output_type": "stream",
          "name": "stdout",
          "text": [
            "Dataset Loaded:\n",
            "   id  gender      PPE      DFA     RPDE  numPulses  numPeriodsPulses  \\\n",
            "0   0       1  0.85247  0.71826  0.57227        240               239   \n",
            "1   0       1  0.76686  0.69481  0.53966        234               233   \n",
            "2   0       1  0.85083  0.67604  0.58982        232               231   \n",
            "3   1       0  0.41121  0.79672  0.59257        178               177   \n",
            "4   1       0  0.32790  0.79782  0.53028        236               235   \n",
            "\n",
            "   meanPeriodPulses  stdDevPeriodPulses  locPctJitter  ...  \\\n",
            "0          0.008064            0.000087       0.00218  ...   \n",
            "1          0.008258            0.000073       0.00195  ...   \n",
            "2          0.008340            0.000060       0.00176  ...   \n",
            "3          0.010858            0.000183       0.00419  ...   \n",
            "4          0.008162            0.002669       0.00535  ...   \n",
            "\n",
            "   tqwt_kurtosisValue_dec_28  tqwt_kurtosisValue_dec_29  \\\n",
            "0                     1.5620                     2.6445   \n",
            "1                     1.5589                     3.6107   \n",
            "2                     1.5643                     2.3308   \n",
            "3                     3.7805                     3.5664   \n",
            "4                     6.1727                     5.8416   \n",
            "\n",
            "   tqwt_kurtosisValue_dec_30  tqwt_kurtosisValue_dec_31  \\\n",
            "0                     3.8686                     4.2105   \n",
            "1                    23.5155                    14.1962   \n",
            "2                     9.4959                    10.7458   \n",
            "3                     5.2558                    14.0403   \n",
            "4                     6.0805                     5.7621   \n",
            "\n",
            "   tqwt_kurtosisValue_dec_32  tqwt_kurtosisValue_dec_33  \\\n",
            "0                     5.1221                     4.4625   \n",
            "1                    11.0261                     9.5082   \n",
            "2                    11.0177                     4.8066   \n",
            "3                     4.2235                     4.6857   \n",
            "4                     7.7817                    11.6891   \n",
            "\n",
            "   tqwt_kurtosisValue_dec_34  tqwt_kurtosisValue_dec_35  \\\n",
            "0                     2.6202                     3.0004   \n",
            "1                     6.5245                     6.3431   \n",
            "2                     2.9199                     3.1495   \n",
            "3                     4.8460                     6.2650   \n",
            "4                     8.2103                     5.0559   \n",
            "\n",
            "   tqwt_kurtosisValue_dec_36  class  \n",
            "0                    18.9405      1  \n",
            "1                    45.1780      1  \n",
            "2                     4.7666      1  \n",
            "3                     4.0603      1  \n",
            "4                     6.1164      1  \n",
            "\n",
            "[5 rows x 755 columns]\n",
            "\n",
            "Shape of the dataset: (756, 755)\n",
            "\n",
            "Dataset Info:\n",
            "<class 'pandas.core.frame.DataFrame'>\n",
            "RangeIndex: 756 entries, 0 to 755\n",
            "Columns: 755 entries, id to class\n",
            "dtypes: float64(749), int64(6)\n",
            "memory usage: 4.4 MB\n",
            "None\n",
            "\n",
            "Missing values in the dataset:\n",
            "id                           0\n",
            "gender                       0\n",
            "PPE                          0\n",
            "DFA                          0\n",
            "RPDE                         0\n",
            "                            ..\n",
            "tqwt_kurtosisValue_dec_33    0\n",
            "tqwt_kurtosisValue_dec_34    0\n",
            "tqwt_kurtosisValue_dec_35    0\n",
            "tqwt_kurtosisValue_dec_36    0\n",
            "class                        0\n",
            "Length: 755, dtype: int64\n"
          ]
        }
      ],
      "source": [
        "## Optimization and Baseline Model Creation# Import necessary libraries\n",
        "import pandas as pd\n",
        "import numpy as np\n",
        "\n",
        "\n",
        "# Replace with the correct file path\n",
        "file_path = '/content/drive/MyDrive/MSc Dessertation/DATASETS/pd_speech_features.csv'\n",
        "data = pd.read_csv(file_path, header=1)\n",
        "\n",
        "# Display the first few rows of the dataset to verify\n",
        "print(\"Dataset Loaded:\")\n",
        "print(data.head())\n",
        "\n",
        "# Check the shape of the dataset (rows, columns)\n",
        "print(\"\\nShape of the dataset:\", data.shape)\n",
        "\n",
        "# Display basic info about the dataset\n",
        "print(\"\\nDataset Info:\")\n",
        "print(data.info())\n",
        "\n",
        "# Check for missing values in the dataset\n",
        "print(\"\\nMissing values in the dataset:\")\n",
        "print(data.isnull().sum())\n"
      ]
    },
    {
      "cell_type": "code",
      "source": [
        "# View the column names in the dataset\n",
        "print(\"Column names in the dataset:\")\n",
        "print(data.columns)\n",
        "\n",
        "# View unique values in the target variable ('class')\n",
        "print(\"\\nUnique values in the target variable:\")\n",
        "print(data['class'].unique())\n"
      ],
      "metadata": {
        "colab": {
          "base_uri": "https://localhost:8080/"
        },
        "id": "KE_KlJIF4_iI",
        "outputId": "cc86cea0-00a2-4c7e-f8b6-932b2c7d3a4a"
      },
      "id": "KE_KlJIF4_iI",
      "execution_count": 29,
      "outputs": [
        {
          "output_type": "stream",
          "name": "stdout",
          "text": [
            "Column names in the dataset:\n",
            "Index(['id', 'gender', 'PPE', 'DFA', 'RPDE', 'numPulses', 'numPeriodsPulses',\n",
            "       'meanPeriodPulses', 'stdDevPeriodPulses', 'locPctJitter',\n",
            "       ...\n",
            "       'tqwt_kurtosisValue_dec_28', 'tqwt_kurtosisValue_dec_29',\n",
            "       'tqwt_kurtosisValue_dec_30', 'tqwt_kurtosisValue_dec_31',\n",
            "       'tqwt_kurtosisValue_dec_32', 'tqwt_kurtosisValue_dec_33',\n",
            "       'tqwt_kurtosisValue_dec_34', 'tqwt_kurtosisValue_dec_35',\n",
            "       'tqwt_kurtosisValue_dec_36', 'class'],\n",
            "      dtype='object', length=755)\n",
            "\n",
            "Unique values in the target variable:\n",
            "[1 0]\n"
          ]
        }
      ]
    },
    {
      "cell_type": "code",
      "execution_count": 30,
      "id": "817d2458-9ad0-4d29-9bdc-092b5aea8ebb",
      "metadata": {
        "colab": {
          "base_uri": "https://localhost:8080/"
        },
        "id": "817d2458-9ad0-4d29-9bdc-092b5aea8ebb",
        "outputId": "cc789e43-a0d2-4180-fa40-6bb0bbd8b294",
        "scrolled": true
      },
      "outputs": [
        {
          "output_type": "stream",
          "name": "stdout",
          "text": [
            "\n",
            "Data types of the columns:\n",
            "id                             int64\n",
            "gender                         int64\n",
            "PPE                          float64\n",
            "DFA                          float64\n",
            "RPDE                         float64\n",
            "                              ...   \n",
            "tqwt_kurtosisValue_dec_33    float64\n",
            "tqwt_kurtosisValue_dec_34    float64\n",
            "tqwt_kurtosisValue_dec_35    float64\n",
            "tqwt_kurtosisValue_dec_36    float64\n",
            "class                          int64\n",
            "Length: 755, dtype: object\n",
            "\n",
            "Missing values after cleaning in numeric columns:\n",
            "id                           0\n",
            "gender                       0\n",
            "PPE                          0\n",
            "DFA                          0\n",
            "RPDE                         0\n",
            "                            ..\n",
            "tqwt_kurtosisValue_dec_33    0\n",
            "tqwt_kurtosisValue_dec_34    0\n",
            "tqwt_kurtosisValue_dec_35    0\n",
            "tqwt_kurtosisValue_dec_36    0\n",
            "class                        0\n",
            "Length: 755, dtype: int64\n"
          ]
        }
      ],
      "source": [
        "# Step 1: Check the data types of each column\n",
        "print(\"\\nData types of the columns:\")\n",
        "print(data.dtypes)\n",
        "\n",
        "# Step 2: Select only the numeric columns\n",
        "numeric_columns = data.select_dtypes(include=[np.number]).columns\n",
        "\n",
        "# Step 3: Apply mean only to numeric columns\n",
        "data_cleaned = data.copy()  # Create a copy to avoid modifying the original dataset\n",
        "\n",
        "# Handle missing values only in numeric columns (you can drop missing or fill with mean)\n",
        "data_cleaned[numeric_columns] = data_cleaned[numeric_columns].fillna(data[numeric_columns].mean())\n",
        "\n",
        "# Step 4: Verify that there are no more missing values in numeric columns\n",
        "print(\"\\nMissing values after cleaning in numeric columns:\")\n",
        "print(data_cleaned[numeric_columns].isnull().sum())\n",
        "\n"
      ]
    },
    {
      "cell_type": "code",
      "execution_count": 31,
      "id": "f62f8c5f-6024-4c70-9795-4b0df9afce36",
      "metadata": {
        "colab": {
          "base_uri": "https://localhost:8080/"
        },
        "id": "f62f8c5f-6024-4c70-9795-4b0df9afce36",
        "outputId": "f18127b0-a661-4858-c542-a092a4d8ed62"
      },
      "outputs": [
        {
          "output_type": "stream",
          "name": "stdout",
          "text": [
            "\n",
            "Number of duplicate rows: 1\n",
            "\n",
            "Shape after removing duplicates: (755, 755)\n",
            "\n",
            "Number of duplicate rows: 0\n",
            "\n",
            "Shape after removing duplicates: (755, 755)\n"
          ]
        }
      ],
      "source": [
        "# Check for duplicates# Check for duplicates\n",
        "duplicate_count = data_cleaned.duplicated().sum()\n",
        "print(f\"\\nNumber of duplicate rows: {duplicate_count}\")\n",
        "\n",
        "# Remove duplicates\n",
        "data_cleaned = data_cleaned.drop_duplicates()\n",
        "\n",
        "# Verify removal\n",
        "print(f\"\\nShape after removing duplicates: {data_cleaned.shape}\")\n",
        "\n",
        "duplicate_count = data_cleaned.duplicated().sum()\n",
        "print(f\"\\nNumber of duplicate rows: {duplicate_count}\")\n",
        "\n",
        "# Remove duplicates\n",
        "data_cleaned = data_cleaned.drop_duplicates()\n",
        "\n",
        "# Verify removal\n",
        "print(f\"\\nShape after removing duplicates: {data_cleaned.shape}\")"
      ]
    },
    {
      "cell_type": "code",
      "execution_count": 32,
      "id": "25cc4232-929a-400c-82d6-39f65f0001a7",
      "metadata": {
        "colab": {
          "base_uri": "https://localhost:8080/"
        },
        "id": "25cc4232-929a-400c-82d6-39f65f0001a7",
        "outputId": "97e31d7d-2cf0-4210-959e-b4d140f09b25"
      },
      "outputs": [
        {
          "output_type": "stream",
          "name": "stdout",
          "text": [
            "\n",
            "Number of outliers in each numerical column (Z-score > 3):\n",
            "id                            0\n",
            "gender                        0\n",
            "PPE                          27\n",
            "DFA                           0\n",
            "RPDE                          0\n",
            "                             ..\n",
            "tqwt_kurtosisValue_dec_33    26\n",
            "tqwt_kurtosisValue_dec_34     1\n",
            "tqwt_kurtosisValue_dec_35     0\n",
            "tqwt_kurtosisValue_dec_36     1\n",
            "class                         0\n",
            "Length: 755, dtype: int64\n"
          ]
        }
      ],
      "source": [
        "import numpy as np\n",
        "\n",
        "# Use Z-score to identify outliers\n",
        "from scipy import stats\n",
        "z_scores = np.abs(stats.zscore(data_cleaned.select_dtypes(include=[np.number])))\n",
        "\n",
        "# Define a threshold to identify outliers (commonly, Z-score > 3 is considered an outlier)\n",
        "outliers = (z_scores > 3).sum(axis=0)\n",
        "\n",
        "print(\"\\nNumber of outliers in each numerical column (Z-score > 3):\")\n",
        "print(outliers)\n"
      ]
    },
    {
      "cell_type": "code",
      "execution_count": 33,
      "id": "937fa232-1011-4dd1-b54c-565844db9ee8",
      "metadata": {
        "colab": {
          "base_uri": "https://localhost:8080/"
        },
        "id": "937fa232-1011-4dd1-b54c-565844db9ee8",
        "outputId": "094b5359-a52f-4ac7-cb61-9a7a979ba64d"
      },
      "outputs": [
        {
          "output_type": "stream",
          "name": "stdout",
          "text": [
            "\n",
            "Data types after cleaning:\n",
            "id                             int64\n",
            "gender                         int64\n",
            "PPE                          float64\n",
            "DFA                          float64\n",
            "RPDE                         float64\n",
            "                              ...   \n",
            "tqwt_kurtosisValue_dec_33    float64\n",
            "tqwt_kurtosisValue_dec_34    float64\n",
            "tqwt_kurtosisValue_dec_35    float64\n",
            "tqwt_kurtosisValue_dec_36    float64\n",
            "class                          int64\n",
            "Length: 755, dtype: object\n"
          ]
        }
      ],
      "source": [
        "\n",
        "# Display the data types\n",
        "print(\"\\nData types after cleaning:\")\n",
        "print(data_cleaned.dtypes)\n"
      ]
    },
    {
      "cell_type": "markdown",
      "id": "897f1bb9-d227-44f8-ab07-9f3c1c83c86b",
      "metadata": {
        "id": "897f1bb9-d227-44f8-ab07-9f3c1c83c86b"
      },
      "source": [
        "#baseline model"
      ]
    },
    {
      "cell_type": "code",
      "execution_count": 34,
      "id": "f3e0d0a2-3af4-41ca-987d-8252b3ddce4e",
      "metadata": {
        "id": "f3e0d0a2-3af4-41ca-987d-8252b3ddce4e"
      },
      "outputs": [],
      "source": [
        "import pandas as pd\n",
        "\n",
        "file_path = '/content/drive/MyDrive/MSc Dessertation/DATASETS/pd_speech_features.csv'\n",
        "# Reload the dataset\n",
        "df_new = pd.read_csv(file_path, header=1)\n",
        "\n",
        "# Clean the dataset: Drop unnecessary columns and rename 'Unnamed: 754' to 'class'\n",
        "df_cleaned_new = df_new.drop(df_new.columns[df_new.columns.str.contains('^Unnamed') & (df_new.columns != 'Unnamed: 754')], axis=1)\n",
        "df_cleaned_new = df_cleaned_new.rename(columns={'Unnamed: 754': 'class'})\n"
      ]
    },
    {
      "cell_type": "code",
      "execution_count": 35,
      "id": "5e344a80-982c-4ec0-a390-18775123e55f",
      "metadata": {
        "colab": {
          "base_uri": "https://localhost:8080/"
        },
        "id": "5e344a80-982c-4ec0-a390-18775123e55f",
        "outputId": "e74997dc-7c19-40f1-db36-9f2638e37c13"
      },
      "outputs": [
        {
          "output_type": "stream",
          "name": "stdout",
          "text": [
            "<class 'pandas.core.frame.DataFrame'>\n",
            "RangeIndex: 756 entries, 0 to 755\n",
            "Columns: 755 entries, id to class\n",
            "dtypes: float64(749), int64(6)\n",
            "memory usage: 4.4 MB\n"
          ]
        }
      ],
      "source": [
        "# Convert columns to numeric types (excluding 'class' column)\n",
        "for column in df_cleaned_new.columns[:-1]:  # Exclude the 'class' column for now\n",
        "    df_cleaned_new[column] = pd.to_numeric(df_cleaned_new[column], errors='coerce')\n",
        "\n",
        "# Convert the 'class' column to integer\n",
        "df_cleaned_new['class'] = pd.to_numeric(df_cleaned_new['class'], errors='coerce')\n",
        "\n",
        "# Drop any rows with missing values that might arise from conversion\n",
        "df_cleaned_new = df_cleaned_new.dropna()\n",
        "\n",
        "# Check if the dataset is ready\n",
        "df_cleaned_new.info()\n",
        "\n"
      ]
    },
    {
      "cell_type": "code",
      "execution_count": 36,
      "id": "3bd1675b-8aeb-4f21-aaaf-ea9c42157406",
      "metadata": {
        "id": "3bd1675b-8aeb-4f21-aaaf-ea9c42157406"
      },
      "outputs": [],
      "source": [
        "# Separate features (X) and target (y)\n",
        "X = df_cleaned_new.drop('class', axis=1)  # Features\n",
        "y = df_cleaned_new['class']               # Target\n",
        "\n"
      ]
    },
    {
      "cell_type": "code",
      "execution_count": 37,
      "id": "oPdZ4mRWGLPY",
      "metadata": {
        "colab": {
          "base_uri": "https://localhost:8080/"
        },
        "id": "oPdZ4mRWGLPY",
        "outputId": "b7c94142-36fa-4e36-9534-73b1070021c3"
      },
      "outputs": [
        {
          "output_type": "stream",
          "name": "stdout",
          "text": [
            "Number of valid classes: 2\n",
            "Size of X_filtered: 756, Size of y_filtered: 756\n"
          ]
        }
      ],
      "source": [
        "# Define a filtering criterion\n",
        "class_counts = y.value_counts()  # Count the occurrences of each class\n",
        "valid_classes = class_counts[class_counts > 10].index  # Keep classes with more than 10 samples\n",
        "\n",
        "# Filter X and y to only include rows with valid classes\n",
        "X_filtered = X[y.isin(valid_classes)]\n",
        "y_filtered = y[y.isin(valid_classes)]\n",
        "\n",
        "# Check how many classes remain after filtering\n",
        "print(f\"Number of valid classes: {len(valid_classes)}\")\n",
        "\n",
        "# Check the size of X_filtered and y_filtered\n",
        "print(f\"Size of X_filtered: {X_filtered.shape[0]}, Size of y_filtered: {y_filtered.shape[0]}\")\n"
      ]
    },
    {
      "cell_type": "code",
      "execution_count": 38,
      "id": "62d4fcd2-f504-4840-94f5-26fcf9379801",
      "metadata": {
        "colab": {
          "base_uri": "https://localhost:8080/"
        },
        "id": "62d4fcd2-f504-4840-94f5-26fcf9379801",
        "outputId": "e024d7c4-a82f-494f-fb7b-c03f845179b7"
      },
      "outputs": [
        {
          "output_type": "stream",
          "name": "stdout",
          "text": [
            "Number of valid classes: 2\n",
            "Size of X_filtered: 756, Size of y_filtered: 756\n"
          ]
        }
      ],
      "source": [
        "# Check how many classes remain after filtering\n",
        "print(f\"Number of valid classes: {len(valid_classes)}\")\n",
        "\n",
        "# Check the size of X_filtered and y_filtered\n",
        "print(f\"Size of X_filtered: {X_filtered.shape[0]}, Size of y_filtered: {y_filtered.shape[0]}\")\n"
      ]
    },
    {
      "cell_type": "code",
      "execution_count": 39,
      "id": "c79bfb9e-c257-483a-b933-d014ea0de028",
      "metadata": {
        "id": "c79bfb9e-c257-483a-b933-d014ea0de028"
      },
      "outputs": [],
      "source": [
        "# Try lowering the threshold, for example, to classes with at least 2 instances\n",
        "valid_classes = class_counts[class_counts > 1].index  # Reduce the threshold if needed\n",
        "X_filtered = X[y.isin(valid_classes)]\n",
        "y_filtered = y[y.isin(valid_classes)]\n"
      ]
    },
    {
      "cell_type": "code",
      "execution_count": 40,
      "id": "9efec131-5e69-4432-bf2a-4616de185577",
      "metadata": {
        "colab": {
          "base_uri": "https://localhost:8080/",
          "height": 790
        },
        "id": "9efec131-5e69-4432-bf2a-4616de185577",
        "outputId": "a6c44279-4df9-45a9-8fcc-278a00b8535a"
      },
      "outputs": [
        {
          "output_type": "stream",
          "name": "stdout",
          "text": [
            "Number of valid classes: 2\n",
            "Size of X_filtered: 756, Size of y_filtered: 756\n",
            "Baseline Accuracy: 83.70%\n",
            "Classification Report:\n",
            "               precision    recall  f1-score   support\n",
            "\n",
            "           0       0.75      0.59      0.66        61\n",
            "           1       0.86      0.93      0.89       166\n",
            "\n",
            "    accuracy                           0.84       227\n",
            "   macro avg       0.81      0.76      0.78       227\n",
            "weighted avg       0.83      0.84      0.83       227\n",
            "\n"
          ]
        },
        {
          "output_type": "display_data",
          "data": {
            "text/plain": [
              "<Figure size 800x600 with 2 Axes>"
            ],
            "image/png": "[encoded data removed]"
          },
          "metadata": {}
        }
      ],
      "source": [
        "from sklearn.model_selection import train_test_split\n",
        "from sklearn.linear_model import LogisticRegression\n",
        "from sklearn.metrics import accuracy_score, classification_report, confusion_matrix\n",
        "from sklearn.preprocessing import StandardScaler\n",
        "import seaborn as sns\n",
        "import matplotlib.pyplot as plt\n",
        "\n",
        "# Define a filtering criterion (example: classes with more than a minimum count)\n",
        "class_counts = y.value_counts()  # Count the occurrences of each class\n",
        "valid_classes = class_counts[class_counts > 10].index  # Keep classes with more than 10 samples\n",
        "\n",
        "# Filter X and y to only include rows with valid classes\n",
        "X_filtered = X[y.isin(valid_classes)]\n",
        "y_filtered = y[y.isin(valid_classes)]\n",
        "\n",
        "# Check how many classes remain after filtering\n",
        "print(f\"Number of valid classes: {len(valid_classes)}\")\n",
        "print(f\"Size of X_filtered: {X_filtered.shape[0]}, Size of y_filtered: {y_filtered.shape[0]}\")\n",
        "\n",
        "# Split the data into train and test sets\n",
        "X_train, X_test, y_train, y_test = train_test_split(X_filtered, y_filtered, test_size=0.3, random_state=42)\n",
        "\n",
        "# Scale the features\n",
        "scaler = StandardScaler()\n",
        "X_train_scaled = scaler.fit_transform(X_train)\n",
        "X_test_scaled = scaler.transform(X_test)\n",
        "\n",
        "# Initialize Logistic Regression model with more iterations\n",
        "lr_model = LogisticRegression(max_iter=2000)\n",
        "\n",
        "# Train the model\n",
        "lr_model.fit(X_train_scaled, y_train)\n",
        "\n",
        "# Predict on the test data\n",
        "y_pred = lr_model.predict(X_test_scaled)\n",
        "\n",
        "\n",
        "\n",
        "# Evaluate the model and store accuracy in a variable\n",
        "baseline_accuracy = accuracy_score(y_test, y_pred) * 100  # Convert accuracy to percentage\n",
        "\n",
        "# Print accuracy\n",
        "print(f\"Baseline Accuracy: {baseline_accuracy:.2f}%\")\n",
        "\n",
        "# Display classification report\n",
        "print(\"Classification Report:\\n\", classification_report(y_test, y_pred))\n",
        "\n",
        "# Display confusion matrix\n",
        "conf_matrix = confusion_matrix(y_test, y_pred)\n",
        "\n",
        "# Plot confusion matrix\n",
        "plt.figure(figsize=(8, 6))\n",
        "sns.heatmap(conf_matrix, annot=True, fmt='d', cmap='Blues', xticklabels=valid_classes, yticklabels=valid_classes)\n",
        "plt.title(\"Confusion Matrix\")\n",
        "plt.xlabel(\"Predicted Labels\")\n",
        "plt.ylabel(\"True Labels\")\n",
        "plt.show()\n"
      ]
    },
    {
      "cell_type": "markdown",
      "id": "5d7ad5c1-b74b-4b8f-b596-57f757aa3cce",
      "metadata": {
        "id": "5d7ad5c1-b74b-4b8f-b596-57f757aa3cce"
      },
      "source": [
        "# Best feature extraction and SDS algorithm"
      ]
    },
    {
      "cell_type": "code",
      "execution_count": 41,
      "id": "29667fc7-527f-495e-8e8f-0c058f318661",
      "metadata": {
        "colab": {
          "base_uri": "https://localhost:8080/"
        },
        "id": "29667fc7-527f-495e-8e8f-0c058f318661",
        "outputId": "c8b93e67-43e4-4a55-8008-3c9bc5c70399"
      },
      "outputs": [
        {
          "output_type": "stream",
          "name": "stdout",
          "text": [
            "Number of total features: 754, selecting 10\n"
          ]
        }
      ],
      "source": [
        "# Ensure that n_features_to_select is defined\n",
        "n_features_to_select = 10  # Define a default number of features to select, or calculate based on logic\n",
        "\n",
        "# Ensure that n_features_to_select is valid\n",
        "n_total_features = X_train.shape[1]\n",
        "n_features_to_select = min(n_total_features, n_features_to_select)  # Ensure no sampling errors\n",
        "\n",
        "print(f\"Number of total features: {n_total_features}, selecting {n_features_to_select}\")\n"
      ]
    },
    {
      "cell_type": "code",
      "execution_count": 42,
      "id": "a7413cb4-8ae0-4a55-9097-a9c493fa9e21",
      "metadata": {
        "colab": {
          "base_uri": "https://localhost:8080/",
          "height": 1000
        },
        "id": "a7413cb4-8ae0-4a55-9097-a9c493fa9e21",
        "outputId": "33a9a69c-f59f-4e0d-a90d-6f68a9f16eb7"
      },
      "outputs": [
        {
          "output_type": "stream",
          "name": "stdout",
          "text": [
            "\n",
            "Accuracy with Top 10 Features: 86.84%\n",
            "Number of Features Used (sds_features): 10\n",
            "Confusion Matrix:\n",
            "[[ 24  14]\n",
            " [  6 108]]\n",
            "\n",
            "Classification Report:\n",
            "              precision    recall  f1-score   support\n",
            "\n",
            "           0       0.80      0.63      0.71        38\n",
            "           1       0.89      0.95      0.92       114\n",
            "\n",
            "    accuracy                           0.87       152\n",
            "   macro avg       0.84      0.79      0.81       152\n",
            "weighted avg       0.86      0.87      0.86       152\n",
            "\n",
            "\n",
            "Top 10 Selected Features:\n",
            "                        Feature  Importance\n",
            "110        std_delta_log_energy    0.017037\n",
            "124  std_delta_delta_log_energy    0.011750\n",
            "11                    ddpJitter    0.010059\n",
            "474        tqwt_TKEO_std_dec_11    0.007612\n",
            "439       tqwt_TKEO_mean_dec_12    0.007161\n",
            "118               std_7th_delta    0.007103\n",
            "583        tqwt_stdValue_dec_12    0.006901\n",
            "137        std_12th_delta_delta    0.006706\n",
            "330          tqwt_energy_dec_11    0.006694\n",
            "345          tqwt_energy_dec_26    0.006110\n"
          ]
        },
        {
          "output_type": "display_data",
          "data": {
            "text/plain": [
              "<Figure size 800x600 with 2 Axes>"
            ],
            "image/png": "[encoded data removed]"
          },
          "metadata": {}
        },
        {
          "output_type": "stream",
          "name": "stderr",
          "text": [
            "<ipython-input-42-569107aec8ba>:94: FutureWarning:\n",
            "\n",
            "\n",
            "\n",
            "Passing `palette` without assigning `hue` is deprecated and will be removed in v0.14.0. Assign the `y` variable to `hue` and set `legend=False` for the same effect.\n",
            "\n",
            "\n"
          ]
        },
        {
          "output_type": "display_data",
          "data": {
            "text/plain": [
              "<Figure size 1000x600 with 1 Axes>"
            ],
            "image/png": "[encoded data removed]"
          },
          "metadata": {}
        }
      ],
      "source": [
        "from sklearn.model_selection import train_test_split\n",
        "from sklearn.ensemble import RandomForestClassifier\n",
        "from sklearn.metrics import confusion_matrix, accuracy_score, classification_report\n",
        "import seaborn as sns\n",
        "import matplotlib.pyplot as plt\n",
        "import pandas as pd\n",
        "\n",
        "# Load the dataset\n",
        "file_path = '/content/drive/MyDrive/MSc Dessertation/DATASETS/pd_speech_features.csv'\n",
        "data = pd.read_csv(file_path)\n",
        "\n",
        "# Preprocess the data\n",
        "data.columns = data.iloc[0]  # Use the first row as column headers\n",
        "data = data[1:]  # Remove the header row from the dataset\n",
        "data = data.rename(columns={'class': 'target'})  # Rename target column\n",
        "\n",
        "# Select features and the target\n",
        "features = data.drop(columns=['id', 'gender', 'target'], errors='ignore')  # Drop non-feature columns\n",
        "target = data['target']\n",
        "\n",
        "# Convert features to numeric, coerce errors to handle invalid entries\n",
        "features = features.apply(pd.to_numeric, errors='coerce')\n",
        "\n",
        "# Drop rows with NaN values\n",
        "data_cleaned = features.dropna()\n",
        "target_cleaned = target.loc[data_cleaned.index].astype(int)\n",
        "\n",
        "# Split the data into training and testing sets\n",
        "X_train, X_test, y_train, y_test = train_test_split(\n",
        "    data_cleaned, target_cleaned, test_size=0.2, random_state=42\n",
        ")\n",
        "\n",
        "# Train the Random Forest classifier to get feature importance\n",
        "rf_model = RandomForestClassifier(random_state=42, n_estimators=100)\n",
        "rf_model.fit(X_train, y_train)\n",
        "\n",
        "# Feature importance\n",
        "feature_importance = rf_model.feature_importances_\n",
        "feature_names = X_train.columns\n",
        "\n",
        "# Create a DataFrame for visualization\n",
        "importance_df = pd.DataFrame({\n",
        "    'Feature': feature_names,\n",
        "    'Importance': feature_importance\n",
        "}).sort_values(by='Importance', ascending=False)\n",
        "\n",
        "# Select top 10 features\n",
        "top_features = importance_df.head(10)\n",
        "top_feature_names = top_features['Feature']\n",
        "\n",
        "# Store the number of selected features\n",
        "n_total_features = len(top_feature_names)\n",
        "\n",
        "# Use only the top 10 features for training and testing\n",
        "X_train_top = X_train[top_feature_names]\n",
        "X_test_top = X_test[top_feature_names]\n",
        "\n",
        "# Train a new Random Forest classifier on the top 10 features\n",
        "rf_top_model = RandomForestClassifier(random_state=42, n_estimators=100)\n",
        "rf_top_model.fit(X_train_top, y_train)\n",
        "\n",
        "# Make predictions\n",
        "y_pred_top = rf_top_model.predict(X_test_top)\n",
        "\n",
        "# Evaluate the model\n",
        "conf_matrix = confusion_matrix(y_test, y_pred_top)\n",
        "\n",
        "sds_accuracy = accuracy_score(y_test, y_pred_top) * 100  # Convert accuracy to percentage\n",
        "\n",
        "# Print accuracy and number of features\n",
        "print(\"\\nAccuracy with Top 10 Features: {:.2f}%\".format(sds_accuracy))\n",
        "print(f\"Number of Features Used (sds_features): {n_total_features}\")\n",
        "\n",
        "# Display results\n",
        "print(\"Confusion Matrix:\")\n",
        "print(conf_matrix)\n",
        "\n",
        "print(\"\\nClassification Report:\")\n",
        "print(classification_report(y_test, y_pred_top))\n",
        "\n",
        "print(\"\\nTop 10 Selected Features:\")\n",
        "print(top_features)\n",
        "\n",
        "# Visualize the confusion matrix\n",
        "plt.figure(figsize=(8, 6))\n",
        "sns.heatmap(conf_matrix, annot=True, fmt='d', cmap='Blues', xticklabels=rf_model.classes_, yticklabels=rf_model.classes_)\n",
        "plt.title(\"Confusion Matrix (Top 10 Features)\")\n",
        "plt.xlabel(\"Predicted\")\n",
        "plt.ylabel(\"Actual\")\n",
        "plt.show()\n",
        "\n",
        "# Plot the top 10 features\n",
        "plt.figure(figsize=(10, 6))\n",
        "sns.barplot(x='Importance', y='Feature', data=top_features, palette='viridis')\n",
        "plt.title(\"Top 10 Features by Importance\")\n",
        "plt.xlabel(\"Feature Importance\")\n",
        "plt.ylabel(\"Feature\")\n",
        "plt.show()\n"
      ]
    },
    {
      "cell_type": "code",
      "execution_count": 43,
      "id": "a1d19b81-c7bc-41a3-843a-9b4d26e797d6",
      "metadata": {
        "colab": {
          "base_uri": "https://localhost:8080/"
        },
        "id": "a1d19b81-c7bc-41a3-843a-9b4d26e797d6",
        "outputId": "eb912b6c-6520-46bf-e6ad-3560e3510604"
      },
      "outputs": [
        {
          "output_type": "stream",
          "name": "stdout",
          "text": [
            "Selected Features Indices (SDS): [110, 124, 11, 474, 439, 118, 583, 137, 330, 345]\n",
            "Accuracy (SDS selected features): 86.84%\n",
            "Classification Report:\n",
            "               precision    recall  f1-score   support\n",
            "\n",
            "           0       0.80      0.63      0.71        38\n",
            "           1       0.89      0.95      0.92       114\n",
            "\n",
            "    accuracy                           0.87       152\n",
            "   macro avg       0.84      0.79      0.81       152\n",
            "weighted avg       0.86      0.87      0.86       152\n",
            "\n"
          ]
        }
      ],
      "source": [
        "from sklearn.ensemble import RandomForestClassifier\n",
        "from sklearn.metrics import accuracy_score, classification_report\n",
        "\n",
        "# Get the top 10 most important features based on Random Forest feature importance\n",
        "top_feature_indices = top_features.index  # Indices of the top features\n",
        "best_features_sds = list(top_feature_indices)  # Ensure it's a list of indices\n",
        "\n",
        "# Select the top features for the train and test sets\n",
        "X_train_selected = X_train.iloc[:, best_features_sds]  # Use top feature indices\n",
        "X_test_selected = X_test.iloc[:, best_features_sds]\n",
        "\n",
        "# Train a new model using only the selected features\n",
        "model = RandomForestClassifier(random_state=42)\n",
        "model.fit(X_train_selected, y_train)\n",
        "\n",
        "# Make predictions and evaluate on the test set\n",
        "y_pred = model.predict(X_test_selected)\n",
        "\n",
        "# Evaluation metrics\n",
        "print(\"Selected Features Indices (SDS):\", best_features_sds)\n",
        "print(\"Accuracy (SDS selected features): {:.2f}%\".format(accuracy_score(y_test, y_pred) * 100))\n",
        "print(\"Classification Report:\\n\", classification_report(y_test, y_pred))\n"
      ]
    },
    {
      "cell_type": "markdown",
      "id": "54d7be37",
      "metadata": {
        "id": "54d7be37"
      },
      "source": [
        "## Applying Principal Component Analysis (PCA)"
      ]
    },
    {
      "cell_type": "code",
      "execution_count": 44,
      "id": "sBW3_s50mwcE",
      "metadata": {
        "colab": {
          "base_uri": "https://localhost:8080/"
        },
        "id": "sBW3_s50mwcE",
        "outputId": "f5e06731-237d-432a-d8db-c70cb867822a"
      },
      "outputs": [
        {
          "output_type": "stream",
          "name": "stdout",
          "text": [
            "Columns in dataset: Index(['id', 'gender', 'PPE', 'DFA', 'RPDE', 'numPulses', 'numPeriodsPulses',\n",
            "       'meanPeriodPulses', 'stdDevPeriodPulses', 'locPctJitter',\n",
            "       ...\n",
            "       'tqwt_kurtosisValue_dec_28', 'tqwt_kurtosisValue_dec_29',\n",
            "       'tqwt_kurtosisValue_dec_30', 'tqwt_kurtosisValue_dec_31',\n",
            "       'tqwt_kurtosisValue_dec_32', 'tqwt_kurtosisValue_dec_33',\n",
            "       'tqwt_kurtosisValue_dec_34', 'tqwt_kurtosisValue_dec_35',\n",
            "       'tqwt_kurtosisValue_dec_36', 'class'],\n",
            "      dtype='object', length=755)\n"
          ]
        }
      ],
      "source": [
        "# Load the dataset\n",
        "file_path = '/content/drive/MyDrive/MSc Dessertation/DATASETS/pd_speech_features.csv'\n",
        "data = pd.read_csv(file_path, header=1)\n",
        "\n",
        "# Display the column names to identify the correct name for the target variable\n",
        "print(\"Columns in dataset:\", data.columns)\n",
        "\n",
        "# After identifying the correct target column name, adjust the following lines accordingly\n",
        "X = data.drop(columns=['class'])  # Adjust 'class' to the correct column name if needed\n",
        "y = data['class']  # Adjust 'class' to the correct column name if needed\n"
      ]
    },
    {
      "cell_type": "code",
      "execution_count": 45,
      "id": "LQi0-k2XnD6Y",
      "metadata": {
        "id": "LQi0-k2XnD6Y"
      },
      "outputs": [],
      "source": [
        "# Remove any leading/trailing whitespace from column names\n",
        "data.columns = data.columns.str.strip()\n",
        "\n",
        "# Now extract features and target\n",
        "X = data.drop(columns=['class'])\n",
        "y = data['class']\n"
      ]
    },
    {
      "cell_type": "code",
      "execution_count": 46,
      "id": "0p8xqFl2nSdM",
      "metadata": {
        "colab": {
          "base_uri": "https://localhost:8080/",
          "height": 1000
        },
        "id": "0p8xqFl2nSdM",
        "outputId": "cf2a9751-eeb5-47b0-d0e3-d29494bf1056"
      },
      "outputs": [
        {
          "output_type": "stream",
          "name": "stdout",
          "text": [
            "Accuracy Using PCA: 82.89%\n",
            "Number of principal components selected: 169\n",
            "\n",
            "Explained Variance by each principal component:\n",
            " [0.12945498 0.09377605 0.08241923 0.04285396 0.03563514 0.02992421\n",
            " 0.02508248 0.02211802 0.02032795 0.01821969 0.01764888 0.01493275\n",
            " 0.01305154 0.01271243 0.012675   0.01166227 0.01067751 0.0105697\n",
            " 0.00948421 0.00934399 0.00866449 0.00805449 0.00761902 0.00738673\n",
            " 0.00667549 0.00626964 0.00623053 0.00608104 0.00586315 0.00558779\n",
            " 0.00526356 0.00521934 0.0049849  0.00481553 0.00469215 0.00457372\n",
            " 0.00441116 0.00415405 0.0040295  0.00380608 0.00377276 0.00368792\n",
            " 0.00360373 0.00350389 0.00346006 0.00341504 0.00335675 0.00314943\n",
            " 0.00312678 0.00305825 0.00299024 0.00296891 0.00291581 0.00284695\n",
            " 0.00283163 0.00277559 0.0027241  0.00267313 0.00258502 0.00256841\n",
            " 0.00251384 0.0024909  0.00245088 0.00240598 0.00232592 0.00231459\n",
            " 0.00227202 0.0022462  0.00222486 0.0022058  0.00220011 0.00212588\n",
            " 0.00211183 0.00208199 0.00204935 0.00201948 0.00196505 0.00193755\n",
            " 0.00192143 0.00190636 0.00190131 0.00186709 0.00183614 0.00182306\n",
            " 0.00181316 0.00179739 0.00175953 0.0017387  0.00170906 0.00170077\n",
            " 0.00169704 0.00169398 0.00167686 0.00163691 0.00160982 0.00159938\n",
            " 0.00158309 0.00156658 0.0015644  0.00155148 0.00152298 0.00149285\n",
            " 0.00148275 0.00145919 0.001435   0.00143037 0.00140741 0.00137612\n",
            " 0.00137346 0.00136425 0.00135276 0.00134481 0.00132858 0.00130158\n",
            " 0.00129174 0.00127526 0.0012663  0.00124664 0.00122724 0.00122162\n",
            " 0.001215   0.00119782 0.00118547 0.00117572 0.00116347 0.00115547\n",
            " 0.00114921 0.00112352 0.00110735 0.00109085 0.00107873 0.0010748\n",
            " 0.0010465  0.00104469 0.00103704 0.00103316 0.00101285 0.00101272\n",
            " 0.00100163 0.00097713 0.00097055 0.00096846 0.0009641  0.00095052\n",
            " 0.00094237 0.0009299  0.00092817 0.00092129 0.00090626 0.00089637\n",
            " 0.00087656 0.00087023 0.00086788 0.00085292 0.00084343 0.00083095\n",
            " 0.00082084 0.00081342 0.00080757 0.0007877  0.00078374 0.00078292\n",
            " 0.0007792  0.00076597 0.00075044 0.00074563 0.00073568 0.00072145\n",
            " 0.00071285]\n",
            "\n",
            "Confusion Matrix:\n",
            "[[ 22  16]\n",
            " [ 10 104]]\n",
            "\n",
            "Classification Report:\n",
            "              precision    recall  f1-score   support\n",
            "\n",
            "           0       0.69      0.58      0.63        38\n",
            "           1       0.87      0.91      0.89       114\n",
            "\n",
            "    accuracy                           0.83       152\n",
            "   macro avg       0.78      0.75      0.76       152\n",
            "weighted avg       0.82      0.83      0.82       152\n",
            "\n"
          ]
        },
        {
          "output_type": "display_data",
          "data": {
            "text/plain": [
              "<Figure size 800x600 with 2 Axes>"
            ],
            "image/png": "[encoded data removed]"
          },
          "metadata": {}
        },
        {
          "output_type": "stream",
          "name": "stdout",
          "text": [
            "Accuracy Using PCA: 82.89%\n"
          ]
        }
      ],
      "source": [
        "# Import necessary libraries\n",
        "import pandas as pd\n",
        "from sklearn.preprocessing import StandardScaler\n",
        "from sklearn.decomposition import PCA\n",
        "from sklearn.model_selection import train_test_split\n",
        "from sklearn.linear_model import LogisticRegression\n",
        "from sklearn.metrics import accuracy_score, confusion_matrix, classification_report\n",
        "import seaborn as sns\n",
        "import matplotlib.pyplot as plt\n",
        "\n",
        "# Load the dataset\n",
        "file_path = '/content/drive/MyDrive/MSc Dessertation/DATASETS/pd_speech_features.csv'\n",
        "data = pd.read_csv(file_path, header=1)\n",
        "\n",
        "# Remove any leading/trailing whitespace from column names\n",
        "data.columns = data.columns.str.strip()\n",
        "\n",
        "# Separate features and target variable\n",
        "X = data.drop(columns=['class'])\n",
        "y = data['class']\n",
        "\n",
        "# Standardize the data\n",
        "scaler = StandardScaler()\n",
        "X_scaled = scaler.fit_transform(X)\n",
        "\n",
        "# Apply PCA, choosing a number of components that explain 95% of the variance\n",
        "pca = PCA(n_components=0.95)\n",
        "X_pca = pca.fit_transform(X_scaled)\n",
        "\n",
        "# Split the dataset into training and test sets\n",
        "X_train, X_test, y_train, y_test = train_test_split(X_pca, y, test_size=0.2, random_state=42)\n",
        "\n",
        "# Train a logistic regression model\n",
        "model = LogisticRegression(max_iter=10000)  # Increased max_iter to prevent convergence warnings\n",
        "model.fit(X_train, y_train)\n",
        "\n",
        "# Make predictions\n",
        "y_pred = model.predict(X_test)\n",
        "\n",
        "# Calculate accuracy\n",
        "PCAfinal_r2_score = accuracy_score(y_test, y_pred)\n",
        "print(f'Accuracy Using PCA: {PCAfinal_r2_score * 100:.2f}%')\n",
        "\n",
        "# Print the number of principal components used\n",
        "print(f'Number of principal components selected: {X_pca.shape[1]}')\n",
        "\n",
        "# Optional: Check explained variance for each principal component\n",
        "explained_variance = pca.explained_variance_ratio_\n",
        "print(\"\\nExplained Variance by each principal component:\\n\", explained_variance)\n",
        "\n",
        "# Confusion Matrix\n",
        "conf_matrix = confusion_matrix(y_test, y_pred)\n",
        "\n",
        "print(\"\\nConfusion Matrix:\")\n",
        "print(conf_matrix)\n",
        "\n",
        "# Classification Report\n",
        "print(\"\\nClassification Report:\")\n",
        "print(classification_report(y_test, y_pred))\n",
        "\n",
        "# Visualize Confusion Matrix\n",
        "plt.figure(figsize=(8, 6))\n",
        "sns.heatmap(conf_matrix, annot=True, fmt='d', cmap='Blues', xticklabels=model.classes_, yticklabels=model.classes_)\n",
        "plt.title(\"Confusion Matrix\")\n",
        "plt.xlabel(\"Predicted Labels\")\n",
        "plt.ylabel(\"True Labels\")\n",
        "plt.show()\n",
        "\n",
        "# Calculate accuracy and store it in a variable\n",
        "PCAfinal_r2_score = accuracy_score(y_test, y_pred)\n",
        "PCA_accuracy_percentage = PCAfinal_r2_score * 100  # Convert to percentage\n",
        "\n",
        "# Print the accuracy\n",
        "print(f'Accuracy Using PCA: {PCA_accuracy_percentage:.2f}%')\n",
        "\n",
        "# Store the accuracy in a variable for later use\n",
        "accuracy_pca_model = PCA_accuracy_percentage\n",
        "\n"
      ]
    },
    {
      "cell_type": "code",
      "execution_count": 47,
      "id": "nVXNMa8unhk2",
      "metadata": {
        "colab": {
          "base_uri": "https://localhost:8080/"
        },
        "id": "nVXNMa8unhk2",
        "outputId": "5f581008-4fee-4245-ec35-1b83b5c265c0"
      },
      "outputs": [
        {
          "output_type": "stream",
          "name": "stdout",
          "text": [
            "Number of original features: 754\n",
            "Number of features after PCA (principal components): 169\n"
          ]
        }
      ],
      "source": [
        "# Print the number of original features\n",
        "print(f'Number of original features: {X.shape[1]}')\n",
        "\n",
        "# Print the number of principal components used after PCA\n",
        "print(f'Number of features after PCA (principal components): {X_pca.shape[1]}')\n"
      ]
    },
    {
      "cell_type": "markdown",
      "id": "80c18e99",
      "metadata": {
        "id": "80c18e99"
      },
      "source": [
        "## Applying Recursive Feature Elimination (RFE)"
      ]
    },
    {
      "cell_type": "code",
      "execution_count": 48,
      "id": "f06009e2-66ee-4d41-8315-c47cf13391c5",
      "metadata": {
        "colab": {
          "base_uri": "https://localhost:8080/",
          "height": 948
        },
        "id": "f06009e2-66ee-4d41-8315-c47cf13391c5",
        "outputId": "7ad070e2-24a1-43d3-bb68-114145b10550"
      },
      "outputs": [
        {
          "output_type": "stream",
          "name": "stdout",
          "text": [
            "Selected Features:\n",
            "['gender', 'mean_MFCC_7th_coef', 'mean_delta_log_energy', 'std_MFCC_3rd_coef', 'std_delta_delta_log_energy', 'std_6th_delta_delta', 'std_7th_delta_delta', 'tqwt_energy_dec_15', 'tqwt_entropy_shannon_dec_27', 'tqwt_entropy_log_dec_1', 'tqwt_entropy_log_dec_7', 'tqwt_TKEO_mean_dec_18', 'tqwt_TKEO_mean_dec_21', 'tqwt_TKEO_std_dec_11', 'tqwt_stdValue_dec_9', 'tqwt_stdValue_dec_33', 'tqwt_minValue_dec_5', 'tqwt_minValue_dec_17', 'tqwt_kurtosisValue_dec_31', 'tqwt_kurtosisValue_dec_33']\n",
            "Accuracy with selected features using RFE: 86.84%\n",
            "Number of original features: 754\n",
            "Number of features after RFE: 20\n",
            "\n",
            "Confusion Matrix:\n",
            "[[ 22  16]\n",
            " [  4 110]]\n"
          ]
        },
        {
          "output_type": "display_data",
          "data": {
            "text/plain": [
              "<Figure size 800x600 with 2 Axes>"
            ],
            "image/png": "[encoded data removed]"
          },
          "metadata": {}
        },
        {
          "output_type": "stream",
          "name": "stdout",
          "text": [
            "\n",
            "Classification Report:\n",
            "              precision    recall  f1-score   support\n",
            "\n",
            "           0       0.85      0.58      0.69        38\n",
            "           1       0.87      0.96      0.92       114\n",
            "\n",
            "    accuracy                           0.87       152\n",
            "   macro avg       0.86      0.77      0.80       152\n",
            "weighted avg       0.87      0.87      0.86       152\n",
            "\n",
            "Accuracy with selected features using RFE: 86.84%\n"
          ]
        }
      ],
      "source": [
        "# Import necessary libraries\n",
        "import pandas as pd\n",
        "from sklearn.preprocessing import StandardScaler\n",
        "from sklearn.model_selection import train_test_split\n",
        "from sklearn.linear_model import LogisticRegression\n",
        "from sklearn.feature_selection import RFE\n",
        "from sklearn.metrics import accuracy_score, confusion_matrix, classification_report\n",
        "import seaborn as sns\n",
        "import matplotlib.pyplot as plt\n",
        "\n",
        "# Load the dataset\n",
        "file_path = '/content/drive/MyDrive/MSc Dessertation/DATASETS/pd_speech_features.csv'\n",
        "data = pd.read_csv(file_path, header=1)\n",
        "\n",
        "# Remove any leading/trailing whitespace from column names\n",
        "data.columns = data.columns.str.strip()\n",
        "\n",
        "# Separate features and target variable\n",
        "X = data.drop(columns=['class'])\n",
        "y = data['class']\n",
        "\n",
        "# Standardize the data\n",
        "scaler = StandardScaler()\n",
        "X_scaled = scaler.fit_transform(X)\n",
        "\n",
        "# Split the dataset into training and test sets\n",
        "X_train, X_test, y_train, y_test = train_test_split(X_scaled, y, test_size=0.2, random_state=42)\n",
        "\n",
        "# Initialize the logistic regression model\n",
        "model = LogisticRegression(max_iter=10000)\n",
        "\n",
        "# Apply RFE (you can adjust the number of selected features by changing n_features_to_select)\n",
        "rfe = RFE(model, n_features_to_select=20)  # Here we select the top 20 features\n",
        "rfe = rfe.fit(X_train, y_train)\n",
        "\n",
        "# Print selected features\n",
        "print(\"Selected Features:\")\n",
        "selected_features = [f for i, f in enumerate(data.columns[:-1]) if rfe.support_[i]]\n",
        "print(selected_features)\n",
        "\n",
        "# Train model using the selected features\n",
        "X_train_rfe = rfe.transform(X_train)\n",
        "X_test_rfe = rfe.transform(X_test)\n",
        "\n",
        "# Train the logistic regression model\n",
        "model.fit(X_train_rfe, y_train)\n",
        "\n",
        "# Make predictions\n",
        "y_pred = model.predict(X_test_rfe)\n",
        "\n",
        "# Calculate accuracy\n",
        "RFEfinal_r2_score = accuracy_score(y_test, y_pred)\n",
        "print(f'Accuracy with selected features using RFE: {RFEfinal_r2_score * 100:.2f}%')\n",
        "\n",
        "# Print the number of original and selected features\n",
        "print(f'Number of original features: {X.shape[1]}')\n",
        "print(f'Number of features after RFE: {X_train_rfe.shape[1]}')\n",
        "\n",
        "# Confusion matrix\n",
        "conf_matrix = confusion_matrix(y_test, y_pred)\n",
        "print(\"\\nConfusion Matrix:\")\n",
        "print(conf_matrix)\n",
        "\n",
        "# Visualize the confusion matrix\n",
        "plt.figure(figsize=(8, 6))\n",
        "sns.heatmap(conf_matrix, annot=True, fmt='d', cmap='Blues', xticklabels=model.classes_, yticklabels=model.classes_)\n",
        "plt.title(\"Confusion Matrix for Logistic Regression with RFE\")\n",
        "plt.xlabel(\"Predicted\")\n",
        "plt.ylabel(\"Actual\")\n",
        "plt.show()\n",
        "\n",
        "# Optional: Print classification report\n",
        "print(\"\\nClassification Report:\")\n",
        "print(classification_report(y_test, y_pred))\n",
        "\n",
        "# Calculate accuracy and store in a variable\n",
        "RFEfinal_r2_score = accuracy_score(y_test, y_pred)\n",
        "RFE_accuracy_percentage = RFEfinal_r2_score * 100  # Convert to percentage\n",
        "\n",
        "# Print the accuracy\n",
        "print(f'Accuracy with selected features using RFE: {RFE_accuracy_percentage:.2f}%')\n",
        "\n",
        "# Store the accuracy in a variable for later use\n",
        "accuracy_rfe_model = RFE_accuracy_percentage\n",
        "\n"
      ]
    },
    {
      "cell_type": "markdown",
      "id": "191a865c-6991-48ce-8c6b-eba448e55b0a",
      "metadata": {
        "id": "191a865c-6991-48ce-8c6b-eba448e55b0a"
      },
      "source": [
        "## Applying Filter Method - Mutual Information"
      ]
    },
    {
      "cell_type": "code",
      "execution_count": 49,
      "id": "51aced02-33e5-4152-886c-431c3392a51e",
      "metadata": {
        "colab": {
          "base_uri": "https://localhost:8080/",
          "height": 1000
        },
        "id": "51aced02-33e5-4152-886c-431c3392a51e",
        "outputId": "23279796-2457-4efb-f5f9-a2c5617e543b"
      },
      "outputs": [
        {
          "output_type": "stream",
          "name": "stdout",
          "text": [
            "Top 10 Features by Mutual Information:\n",
            " 0\n",
            "tqwt_entropy_log_dec_35        0.107912\n",
            "std_delta_delta_log_energy     0.104319\n",
            "mean_MFCC_2nd_coef             0.097416\n",
            "std_8th_delta_delta            0.096369\n",
            "tqwt_TKEO_mean_dec_16          0.095862\n",
            "tqwt_entropy_shannon_dec_35    0.094599\n",
            "tqwt_TKEO_std_dec_12           0.093602\n",
            "tqwt_maxValue_dec_12           0.092444\n",
            "tqwt_entropy_log_dec_11        0.092258\n",
            "tqwt_TKEO_mean_dec_12          0.091449\n",
            "dtype: float64\n",
            "\n",
            "Accuracy with Top 20 Features (MI): 88.16%\n",
            "\n",
            "Classification Report:\n",
            "              precision    recall  f1-score   support\n",
            "\n",
            "           0       0.86      0.63      0.73        38\n",
            "           1       0.89      0.96      0.92       114\n",
            "\n",
            "    accuracy                           0.88       152\n",
            "   macro avg       0.87      0.80      0.83       152\n",
            "weighted avg       0.88      0.88      0.88       152\n",
            "\n",
            "\n",
            "Confusion Matrix:\n",
            "[[ 24  14]\n",
            " [  4 110]]\n"
          ]
        },
        {
          "output_type": "display_data",
          "data": {
            "text/plain": [
              "<Figure size 800x600 with 2 Axes>"
            ],
            "image/png": "[encoded data removed]"
          },
          "metadata": {}
        }
      ],
      "source": [
        "from sklearn.feature_selection import mutual_info_classif\n",
        "import pandas as pd\n",
        "from sklearn.ensemble import RandomForestClassifier\n",
        "from sklearn.model_selection import train_test_split\n",
        "from sklearn.metrics import accuracy_score, classification_report, confusion_matrix\n",
        "import seaborn as sns\n",
        "import matplotlib.pyplot as plt\n",
        "\n",
        "# Load the dataset\n",
        "file_path = '/content/drive/MyDrive/MSc Dessertation/DATASETS/pd_speech_features.csv'\n",
        "data = pd.read_csv(file_path)\n",
        "\n",
        "# Preprocess the data\n",
        "data.columns = data.iloc[0]  # Use the first row as column headers\n",
        "data = data[1:]  # Remove the header row from the dataset\n",
        "data = data.rename(columns={'class': 'target'})  # Rename target column\n",
        "\n",
        "# Select features and the target\n",
        "features = data.drop(columns=['id', 'gender', 'target'], errors='ignore')  # Drop non-feature columns\n",
        "target = data['target']\n",
        "\n",
        "# Convert features to numeric and drop rows with NaN values\n",
        "features = features.apply(pd.to_numeric, errors='coerce').dropna()\n",
        "target = target.loc[features.index].astype(int)\n",
        "\n",
        "# Calculate Mutual Information scores\n",
        "mi_scores = mutual_info_classif(features, target, random_state=42)\n",
        "mi_scores_series = pd.Series(mi_scores, index=features.columns)\n",
        "\n",
        "# Rank features by Mutual Information scores\n",
        "mi_scores_sorted = mi_scores_series.sort_values(ascending=False)\n",
        "print(\"Top 10 Features by Mutual Information:\\n\", mi_scores_sorted.head(10))\n",
        "\n",
        "# Select the top N features based on MI scores\n",
        "N = 20  # Select top 20 features\n",
        "top_features = mi_scores_sorted.head(N).index\n",
        "X_top_features = features[top_features]\n",
        "\n",
        "# Split the dataset using selected features\n",
        "X_train, X_test, y_train, y_test = train_test_split(X_top_features, target, test_size=0.2, random_state=42)\n",
        "\n",
        "# Train and test a Random Forest classifier with selected features\n",
        "model = RandomForestClassifier(random_state=42)\n",
        "model.fit(X_train, y_train)\n",
        "y_pred = model.predict(X_test)\n",
        "\n",
        "# Evaluate model performance\n",
        "mi_accuracy = accuracy_score(y_test, y_pred)\n",
        "print(f\"\\nAccuracy with Top {N} Features (MI): {mi_accuracy * 100:.2f}%\")\n",
        "\n",
        "print(\"\\nClassification Report:\")\n",
        "print(classification_report(y_test, y_pred))\n",
        "\n",
        "print(\"\\nConfusion Matrix:\")\n",
        "conf_matrix = confusion_matrix(y_test, y_pred)\n",
        "print(conf_matrix)\n",
        "\n",
        "# Visualize the confusion matrix\n",
        "plt.figure(figsize=(8, 6))\n",
        "sns.heatmap(conf_matrix, annot=True, fmt='d', cmap='Blues', xticklabels=model.classes_, yticklabels=model.classes_)\n",
        "plt.title(f\"Confusion Matrix (Top {N} Features - MI)\")\n",
        "plt.xlabel(\"Predicted\")\n",
        "plt.ylabel(\"Actual\")\n",
        "plt.show()\n"
      ]
    },
    {
      "cell_type": "markdown",
      "id": "681ddcc7",
      "metadata": {
        "id": "681ddcc7"
      },
      "source": [
        "## Model Performance Comparison and Visualization of Models"
      ]
    },
    {
      "cell_type": "code",
      "source": [
        "# Baseline model accuracies and features\n",
        "baseline_r2 = baseline_accuracy\n",
        "baseline_features = X.shape[1]  # total features before any feature selection\n",
        "\n",
        "# SDS model accuracies and features\n",
        "sds_r2 = sds_accuracy  # this should be directly from the SDS output\n",
        "sds_features = n_total_features  # directly from the SDS output\n",
        "\n",
        "# RFE model accuracies and features\n",
        "rfe_r2 = RFEfinal_r2_score\n",
        "rfe_features = X_train_rfe.shape[1]  # from the RFECV model after fitting\n",
        "\n",
        "# PCA model accuracies and features\n",
        "pca_r2 = PCAfinal_r2_score\n",
        "pca_features = X_pca.shape[1]  # number of features after applying PCA\n",
        "\n",
        "# MI model accuracies and features\n",
        "mi_accuracy_percentage = mi_accuracy * 100  # convert to percentage\n",
        "mi_features = len(top_features)  # number of features selected by MI\n",
        "\n",
        "# Compile all the data into a dictionary for easier comparison\n",
        "model_performances = {\n",
        "    'Baseline': {'Accuracy (%)': baseline_accuracy, 'Number of Features': baseline_features},\n",
        "    'SDS': {'Accuracy (%)': sds_accuracy, 'Number of Features': sds_features},\n",
        "    'PCA': {'Accuracy (%)': PCA_accuracy_percentage, 'Number of Features': pca_features},\n",
        "    'RFE': {'Accuracy (%)': RFE_accuracy_percentage, 'Number of Features': rfe_features},\n",
        "    'Mutual Information': {'Accuracy (%)': mi_accuracy_percentage, 'Number of Features': mi_features},\n",
        "}\n",
        "\n",
        "# Display the comparison in a formatted way\n",
        "print(\"Model Performance Comparison:\")\n",
        "for model_name, metrics in model_performances.items():\n",
        "    print(f\"{model_name} Model: Accuracy = {metrics['Accuracy (%)']:.2f}%, Features Used = {metrics['Number of Features']}\")\n"
      ],
      "metadata": {
        "colab": {
          "base_uri": "https://localhost:8080/"
        },
        "id": "IHi0koOu1eXP",
        "outputId": "58073244-df40-492c-ee62-df6e9bc254e2"
      },
      "id": "IHi0koOu1eXP",
      "execution_count": 50,
      "outputs": [
        {
          "output_type": "stream",
          "name": "stdout",
          "text": [
            "Model Performance Comparison:\n",
            "Baseline Model: Accuracy = 83.70%, Features Used = 754\n",
            "SDS Model: Accuracy = 86.84%, Features Used = 10\n",
            "PCA Model: Accuracy = 82.89%, Features Used = 169\n",
            "RFE Model: Accuracy = 86.84%, Features Used = 20\n",
            "Mutual Information Model: Accuracy = 88.16%, Features Used = 20\n"
          ]
        }
      ]
    },
    {
      "cell_type": "code",
      "execution_count": 51,
      "id": "f46c8e85-b43f-446d-8eee-c73b3c76f77b",
      "metadata": {
        "colab": {
          "base_uri": "https://localhost:8080/",
          "height": 542
        },
        "id": "f46c8e85-b43f-446d-8eee-c73b3c76f77b",
        "outputId": "8994b8d8-56ac-42d1-81a2-ec972c7c08aa"
      },
      "outputs": [
        {
          "output_type": "display_data",
          "data": {
            "text/html": [
              "<html>\n",
              "<head><meta charset=\"utf-8\" /></head>\n",
              "<body>\n",
              "    <div>            <script src=\"https://cdnjs.cloudflare.com/ajax/libs/mathjax/2.7.5/MathJax.js?config=TeX-AMS-MML_SVG\"></script><script type=\"text/javascript\">if (window.MathJax && window.MathJax.Hub && window.MathJax.Hub.Config) {window.MathJax.Hub.Config({SVG: {font: \"STIX-Web\"}});}</script>                <script type=\"text/javascript\">window.PlotlyConfig = {MathJaxConfig: 'local'};</script>\n",
              "        <script charset=\"utf-8\" src=\"https://cdn.plot.ly/plotly-2.35.2.min.js\"></script>                <div id=\"b35197e3-be00-4f6e-86c6-b04124988572\" class=\"plotly-graph-div\" style=\"height:525px; width:100%;\"></div>            <script type=\"text/javascript\">                                    window.PLOTLYENV=window.PLOTLYENV || {};                                    if (document.getElementById(\"b35197e3-be00-4f6e-86c6-b04124988572\")) {                    Plotly.newPlot(                        \"b35197e3-be00-4f6e-86c6-b04124988572\",                        [{\"marker\":{\"color\":[\"#FF7F0E\",\"#1F77B4\",\"#2CA02C\",\"#D62728\",\"#9467BD\"]},\"name\":\"Accuracy (%)\",\"x\":[\"Baseline\",\"SDS\",\"PCA\",\"RFE\",\"MIFS\"],\"y\":[83.70044052863436,86.8421052631579,82.89473684210526,86.8421052631579,88.1578947368421],\"type\":\"bar\"},{\"marker\":{\"color\":\"lightblue\"},\"name\":\"Number of Features\",\"x\":[\"Baseline\",\"SDS\",\"PCA\",\"RFE\",\"MIFS\"],\"y\":[754,10,169,20,20],\"yaxis\":\"y2\",\"type\":\"scatter\"}],                        {\"template\":{\"data\":{\"barpolar\":[{\"marker\":{\"line\":{\"color\":\"white\",\"width\":0.5},\"pattern\":{\"fillmode\":\"overlay\",\"size\":10,\"solidity\":0.2}},\"type\":\"barpolar\"}],\"bar\":[{\"error_x\":{\"color\":\"#2a3f5f\"},\"error_y\":{\"color\":\"#2a3f5f\"},\"marker\":{\"line\":{\"color\":\"white\",\"width\":0.5},\"pattern\":{\"fillmode\":\"overlay\",\"size\":10,\"solidity\":0.2}},\"type\":\"bar\"}],\"carpet\":[{\"aaxis\":{\"endlinecolor\":\"#2a3f5f\",\"gridcolor\":\"#C8D4E3\",\"linecolor\":\"#C8D4E3\",\"minorgridcolor\":\"#C8D4E3\",\"startlinecolor\":\"#2a3f5f\"},\"baxis\":{\"endlinecolor\":\"#2a3f5f\",\"gridcolor\":\"#C8D4E3\",\"linecolor\":\"#C8D4E3\",\"minorgridcolor\":\"#C8D4E3\",\"startlinecolor\":\"#2a3f5f\"},\"type\":\"carpet\"}],\"choropleth\":[{\"colorbar\":{\"outlinewidth\":0,\"ticks\":\"\"},\"type\":\"choropleth\"}],\"contourcarpet\":[{\"colorbar\":{\"outlinewidth\":0,\"ticks\":\"\"},\"type\":\"contourcarpet\"}],\"contour\":[{\"colorbar\":{\"outlinewidth\":0,\"ticks\":\"\"},\"colorscale\":[[0.0,\"#0d0887\"],[0.1111111111111111,\"#46039f\"],[0.2222222222222222,\"#7201a8\"],[0.3333333333333333,\"#9c179e\"],[0.4444444444444444,\"#bd3786\"],[0.5555555555555556,\"#d8576b\"],[0.6666666666666666,\"#ed7953\"],[0.7777777777777778,\"#fb9f3a\"],[0.8888888888888888,\"#fdca26\"],[1.0,\"#f0f921\"]],\"type\":\"contour\"}],\"heatmapgl\":[{\"colorbar\":{\"outlinewidth\":0,\"ticks\":\"\"},\"colorscale\":[[0.0,\"#0d0887\"],[0.1111111111111111,\"#46039f\"],[0.2222222222222222,\"#7201a8\"],[0.3333333333333333,\"#9c179e\"],[0.4444444444444444,\"#bd3786\"],[0.5555555555555556,\"#d8576b\"],[0.6666666666666666,\"#ed7953\"],[0.7777777777777778,\"#fb9f3a\"],[0.8888888888888888,\"#fdca26\"],[1.0,\"#f0f921\"]],\"type\":\"heatmapgl\"}],\"heatmap\":[{\"colorbar\":{\"outlinewidth\":0,\"ticks\":\"\"},\"colorscale\":[[0.0,\"#0d0887\"],[0.1111111111111111,\"#46039f\"],[0.2222222222222222,\"#7201a8\"],[0.3333333333333333,\"#9c179e\"],[0.4444444444444444,\"#bd3786\"],[0.5555555555555556,\"#d8576b\"],[0.6666666666666666,\"#ed7953\"],[0.7777777777777778,\"#fb9f3a\"],[0.8888888888888888,\"#fdca26\"],[1.0,\"#f0f921\"]],\"type\":\"heatmap\"}],\"histogram2dcontour\":[{\"colorbar\":{\"outlinewidth\":0,\"ticks\":\"\"},\"colorscale\":[[0.0,\"#0d0887\"],[0.1111111111111111,\"#46039f\"],[0.2222222222222222,\"#7201a8\"],[0.3333333333333333,\"#9c179e\"],[0.4444444444444444,\"#bd3786\"],[0.5555555555555556,\"#d8576b\"],[0.6666666666666666,\"#ed7953\"],[0.7777777777777778,\"#fb9f3a\"],[0.8888888888888888,\"#fdca26\"],[1.0,\"#f0f921\"]],\"type\":\"histogram2dcontour\"}],\"histogram2d\":[{\"colorbar\":{\"outlinewidth\":0,\"ticks\":\"\"},\"colorscale\":[[0.0,\"#0d0887\"],[0.1111111111111111,\"#46039f\"],[0.2222222222222222,\"#7201a8\"],[0.3333333333333333,\"#9c179e\"],[0.4444444444444444,\"#bd3786\"],[0.5555555555555556,\"#d8576b\"],[0.6666666666666666,\"#ed7953\"],[0.7777777777777778,\"#fb9f3a\"],[0.8888888888888888,\"#fdca26\"],[1.0,\"#f0f921\"]],\"type\":\"histogram2d\"}],\"histogram\":[{\"marker\":{\"pattern\":{\"fillmode\":\"overlay\",\"size\":10,\"solidity\":0.2}},\"type\":\"histogram\"}],\"mesh3d\":[{\"colorbar\":{\"outlinewidth\":0,\"ticks\":\"\"},\"type\":\"mesh3d\"}],\"parcoords\":[{\"line\":{\"colorbar\":{\"outlinewidth\":0,\"ticks\":\"\"}},\"type\":\"parcoords\"}],\"pie\":[{\"automargin\":true,\"type\":\"pie\"}],\"scatter3d\":[{\"line\":{\"colorbar\":{\"outlinewidth\":0,\"ticks\":\"\"}},\"marker\":{\"colorbar\":{\"outlinewidth\":0,\"ticks\":\"\"}},\"type\":\"scatter3d\"}],\"scattercarpet\":[{\"marker\":{\"colorbar\":{\"outlinewidth\":0,\"ticks\":\"\"}},\"type\":\"scattercarpet\"}],\"scattergeo\":[{\"marker\":{\"colorbar\":{\"outlinewidth\":0,\"ticks\":\"\"}},\"type\":\"scattergeo\"}],\"scattergl\":[{\"marker\":{\"colorbar\":{\"outlinewidth\":0,\"ticks\":\"\"}},\"type\":\"scattergl\"}],\"scattermapbox\":[{\"marker\":{\"colorbar\":{\"outlinewidth\":0,\"ticks\":\"\"}},\"type\":\"scattermapbox\"}],\"scatterpolargl\":[{\"marker\":{\"colorbar\":{\"outlinewidth\":0,\"ticks\":\"\"}},\"type\":\"scatterpolargl\"}],\"scatterpolar\":[{\"marker\":{\"colorbar\":{\"outlinewidth\":0,\"ticks\":\"\"}},\"type\":\"scatterpolar\"}],\"scatter\":[{\"fillpattern\":{\"fillmode\":\"overlay\",\"size\":10,\"solidity\":0.2},\"type\":\"scatter\"}],\"scatterternary\":[{\"marker\":{\"colorbar\":{\"outlinewidth\":0,\"ticks\":\"\"}},\"type\":\"scatterternary\"}],\"surface\":[{\"colorbar\":{\"outlinewidth\":0,\"ticks\":\"\"},\"colorscale\":[[0.0,\"#0d0887\"],[0.1111111111111111,\"#46039f\"],[0.2222222222222222,\"#7201a8\"],[0.3333333333333333,\"#9c179e\"],[0.4444444444444444,\"#bd3786\"],[0.5555555555555556,\"#d8576b\"],[0.6666666666666666,\"#ed7953\"],[0.7777777777777778,\"#fb9f3a\"],[0.8888888888888888,\"#fdca26\"],[1.0,\"#f0f921\"]],\"type\":\"surface\"}],\"table\":[{\"cells\":{\"fill\":{\"color\":\"#EBF0F8\"},\"line\":{\"color\":\"white\"}},\"header\":{\"fill\":{\"color\":\"#C8D4E3\"},\"line\":{\"color\":\"white\"}},\"type\":\"table\"}]},\"layout\":{\"annotationdefaults\":{\"arrowcolor\":\"#2a3f5f\",\"arrowhead\":0,\"arrowwidth\":1},\"autotypenumbers\":\"strict\",\"coloraxis\":{\"colorbar\":{\"outlinewidth\":0,\"ticks\":\"\"}},\"colorscale\":{\"diverging\":[[0,\"#8e0152\"],[0.1,\"#c51b7d\"],[0.2,\"#de77ae\"],[0.3,\"#f1b6da\"],[0.4,\"#fde0ef\"],[0.5,\"#f7f7f7\"],[0.6,\"#e6f5d0\"],[0.7,\"#b8e186\"],[0.8,\"#7fbc41\"],[0.9,\"#4d9221\"],[1,\"#276419\"]],\"sequential\":[[0.0,\"#0d0887\"],[0.1111111111111111,\"#46039f\"],[0.2222222222222222,\"#7201a8\"],[0.3333333333333333,\"#9c179e\"],[0.4444444444444444,\"#bd3786\"],[0.5555555555555556,\"#d8576b\"],[0.6666666666666666,\"#ed7953\"],[0.7777777777777778,\"#fb9f3a\"],[0.8888888888888888,\"#fdca26\"],[1.0,\"#f0f921\"]],\"sequentialminus\":[[0.0,\"#0d0887\"],[0.1111111111111111,\"#46039f\"],[0.2222222222222222,\"#7201a8\"],[0.3333333333333333,\"#9c179e\"],[0.4444444444444444,\"#bd3786\"],[0.5555555555555556,\"#d8576b\"],[0.6666666666666666,\"#ed7953\"],[0.7777777777777778,\"#fb9f3a\"],[0.8888888888888888,\"#fdca26\"],[1.0,\"#f0f921\"]]},\"colorway\":[\"#636efa\",\"#EF553B\",\"#00cc96\",\"#ab63fa\",\"#FFA15A\",\"#19d3f3\",\"#FF6692\",\"#B6E880\",\"#FF97FF\",\"#FECB52\"],\"font\":{\"color\":\"#2a3f5f\"},\"geo\":{\"bgcolor\":\"white\",\"lakecolor\":\"white\",\"landcolor\":\"white\",\"showlakes\":true,\"showland\":true,\"subunitcolor\":\"#C8D4E3\"},\"hoverlabel\":{\"align\":\"left\"},\"hovermode\":\"closest\",\"mapbox\":{\"style\":\"light\"},\"paper_bgcolor\":\"white\",\"plot_bgcolor\":\"white\",\"polar\":{\"angularaxis\":{\"gridcolor\":\"#EBF0F8\",\"linecolor\":\"#EBF0F8\",\"ticks\":\"\"},\"bgcolor\":\"white\",\"radialaxis\":{\"gridcolor\":\"#EBF0F8\",\"linecolor\":\"#EBF0F8\",\"ticks\":\"\"}},\"scene\":{\"xaxis\":{\"backgroundcolor\":\"white\",\"gridcolor\":\"#DFE8F3\",\"gridwidth\":2,\"linecolor\":\"#EBF0F8\",\"showbackground\":true,\"ticks\":\"\",\"zerolinecolor\":\"#EBF0F8\"},\"yaxis\":{\"backgroundcolor\":\"white\",\"gridcolor\":\"#DFE8F3\",\"gridwidth\":2,\"linecolor\":\"#EBF0F8\",\"showbackground\":true,\"ticks\":\"\",\"zerolinecolor\":\"#EBF0F8\"},\"zaxis\":{\"backgroundcolor\":\"white\",\"gridcolor\":\"#DFE8F3\",\"gridwidth\":2,\"linecolor\":\"#EBF0F8\",\"showbackground\":true,\"ticks\":\"\",\"zerolinecolor\":\"#EBF0F8\"}},\"shapedefaults\":{\"line\":{\"color\":\"#2a3f5f\"}},\"ternary\":{\"aaxis\":{\"gridcolor\":\"#DFE8F3\",\"linecolor\":\"#A2B1C6\",\"ticks\":\"\"},\"baxis\":{\"gridcolor\":\"#DFE8F3\",\"linecolor\":\"#A2B1C6\",\"ticks\":\"\"},\"bgcolor\":\"white\",\"caxis\":{\"gridcolor\":\"#DFE8F3\",\"linecolor\":\"#A2B1C6\",\"ticks\":\"\"}},\"title\":{\"x\":0.05},\"xaxis\":{\"automargin\":true,\"gridcolor\":\"#EBF0F8\",\"linecolor\":\"#EBF0F8\",\"ticks\":\"\",\"title\":{\"standoff\":15},\"zerolinecolor\":\"#EBF0F8\",\"zerolinewidth\":2},\"yaxis\":{\"automargin\":true,\"gridcolor\":\"#EBF0F8\",\"linecolor\":\"#EBF0F8\",\"ticks\":\"\",\"title\":{\"standoff\":15},\"zerolinecolor\":\"#EBF0F8\",\"zerolinewidth\":2}}},\"yaxis\":{\"title\":{\"text\":\"Accuracy (%)\"},\"range\":[0,100]},\"yaxis2\":{\"title\":{\"text\":\"Number of Features\"},\"overlaying\":\"y\",\"side\":\"right\",\"showgrid\":false},\"legend\":{\"x\":1.03,\"y\":1.3,\"xanchor\":\"left\",\"yanchor\":\"top\",\"bordercolor\":\"Black\",\"borderwidth\":1},\"margin\":{\"r\":200},\"title\":{\"text\":\"Comparison of Model Performances\"},\"xaxis\":{\"title\":{\"text\":\"Model\"}}},                        {\"responsive\": true}                    ).then(function(){\n",
              "                            \n",
              "var gd = document.getElementById('b35197e3-be00-4f6e-86c6-b04124988572');\n",
              "var x = new MutationObserver(function (mutations, observer) {{\n",
              "        var display = window.getComputedStyle(gd).display;\n",
              "        if (!display || display === 'none') {{\n",
              "            console.log([gd, 'removed!']);\n",
              "            Plotly.purge(gd);\n",
              "            observer.disconnect();\n",
              "        }}\n",
              "}});\n",
              "\n",
              "// Listen for the removal of the full notebook cells\n",
              "var notebookContainer = gd.closest('#notebook-container');\n",
              "if (notebookContainer) {{\n",
              "    x.observe(notebookContainer, {childList: true});\n",
              "}}\n",
              "\n",
              "// Listen for the clearing of the current output cell\n",
              "var outputEl = gd.closest('.output');\n",
              "if (outputEl) {{\n",
              "    x.observe(outputEl, {childList: true});\n",
              "}}\n",
              "\n",
              "                        })                };                            </script>        </div>\n",
              "</body>\n",
              "</html>"
            ]
          },
          "metadata": {}
        }
      ],
      "source": [
        "import plotly.graph_objects as go\n",
        "\n",
        "# Define the MI feature count (e.g., top N features selected using MI)\n",
        "mi_features = len(mi_scores_sorted.head(20))\n",
        "\n",
        "model_performances = {\n",
        "    'Baseline': {'Accuracy (%)': baseline_accuracy, 'Number of Features': baseline_features},\n",
        "    'SDS': {'Accuracy (%)': sds_accuracy, 'Number of Features': sds_features},\n",
        "    'PCA': {'Accuracy (%)': PCA_accuracy_percentage, 'Number of Features': pca_features},\n",
        "    'RFE': {'Accuracy (%)': RFE_accuracy_percentage, 'Number of Features': rfe_features},\n",
        "    'MIFS': {'Accuracy (%)': mi_accuracy * 100, 'Number of Features': mi_features}  # Add MI performance\n",
        "}\n",
        "\n",
        "# Create traces\n",
        "fig = go.Figure()\n",
        "\n",
        "# Add bar chart for Accuracy\n",
        "fig.add_trace(go.Bar(\n",
        "    x=list(model_performances.keys()),\n",
        "    y=[data['Accuracy (%)'] for data in model_performances.values()],\n",
        "    name='Accuracy (%)',\n",
        "    marker_color=[\"#FF7F0E\", \"#1F77B4\", \"#2CA02C\", \"#D62728\", \"#9467BD\"]\n",
        "))\n",
        "\n",
        "# Add line chart for Number of Features\n",
        "fig.add_trace(go.Scatter(\n",
        "    x=list(model_performances.keys()),\n",
        "    y=[data['Number of Features'] for data in model_performances.values()],\n",
        "    name='Number of Features',\n",
        "    marker_color='lightblue',\n",
        "    yaxis='y2'\n",
        "))\n",
        "\n",
        "# Layout adjustments\n",
        "fig.update_layout(\n",
        "    title=\"Comparison of Model Performances\",\n",
        "    xaxis=dict(title='Model'),\n",
        "    yaxis=dict(\n",
        "        title='Accuracy (%)',\n",
        "        range=[0, 100]  # Set range for Accuracy in percentage\n",
        "    ),\n",
        "    yaxis2=dict(\n",
        "        title='Number of Features',\n",
        "        overlaying='y',\n",
        "        side=\"right\",\n",
        "        showgrid=False  # Hide secondary grid\n",
        "    ),\n",
        "    legend=dict(\n",
        "        x=1.03,  # Legend outside the graph\n",
        "        y=1.3,\n",
        "        xanchor=\"left\",\n",
        "        yanchor=\"top\",\n",
        "        bordercolor=\"Black\",\n",
        "        borderwidth=1\n",
        "    ),\n",
        "    template='plotly_white',  # Clean white background\n",
        "    margin=dict(r=200)  # Adjust right margin for legend\n",
        ")\n",
        "\n",
        "# Show plot\n",
        "fig.show()\n"
      ]
    },
    {
      "cell_type": "code",
      "execution_count": 52,
      "id": "4b2aba52",
      "metadata": {
        "colab": {
          "base_uri": "https://localhost:8080/",
          "height": 542
        },
        "id": "4b2aba52",
        "outputId": "41e91713-fece-4933-9b79-8c609fd6d445"
      },
      "outputs": [
        {
          "output_type": "display_data",
          "data": {
            "text/html": [
              "<html>\n",
              "<head><meta charset=\"utf-8\" /></head>\n",
              "<body>\n",
              "    <div>            <script src=\"https://cdnjs.cloudflare.com/ajax/libs/mathjax/2.7.5/MathJax.js?config=TeX-AMS-MML_SVG\"></script><script type=\"text/javascript\">if (window.MathJax && window.MathJax.Hub && window.MathJax.Hub.Config) {window.MathJax.Hub.Config({SVG: {font: \"STIX-Web\"}});}</script>                <script type=\"text/javascript\">window.PlotlyConfig = {MathJaxConfig: 'local'};</script>\n",
              "        <script charset=\"utf-8\" src=\"https://cdn.plot.ly/plotly-2.35.2.min.js\"></script>                <div id=\"afa44185-9554-43d7-8567-c102a19be210\" class=\"plotly-graph-div\" style=\"height:525px; width:100%;\"></div>            <script type=\"text/javascript\">                                    window.PLOTLYENV=window.PLOTLYENV || {};                                    if (document.getElementById(\"afa44185-9554-43d7-8567-c102a19be210\")) {                    Plotly.newPlot(                        \"afa44185-9554-43d7-8567-c102a19be210\",                        [{\"marker\":{\"color\":\"indianred\"},\"name\":\"Accuracy (%)\",\"x\":[\"Baseline\",\"SDS\",\"PCA\",\"RFE\"],\"y\":[83.70044052863436,86.8421052631579,82.89473684210526,86.8421052631579],\"type\":\"bar\"},{\"marker\":{\"color\":\"lightblue\"},\"name\":\"Number of Features\",\"x\":[\"Baseline\",\"SDS\",\"PCA\",\"RFE\"],\"y\":[754,10,169,20],\"yaxis\":\"y2\",\"type\":\"scatter\"}],                        {\"template\":{\"data\":{\"barpolar\":[{\"marker\":{\"line\":{\"color\":\"white\",\"width\":0.5},\"pattern\":{\"fillmode\":\"overlay\",\"size\":10,\"solidity\":0.2}},\"type\":\"barpolar\"}],\"bar\":[{\"error_x\":{\"color\":\"#2a3f5f\"},\"error_y\":{\"color\":\"#2a3f5f\"},\"marker\":{\"line\":{\"color\":\"white\",\"width\":0.5},\"pattern\":{\"fillmode\":\"overlay\",\"size\":10,\"solidity\":0.2}},\"type\":\"bar\"}],\"carpet\":[{\"aaxis\":{\"endlinecolor\":\"#2a3f5f\",\"gridcolor\":\"#C8D4E3\",\"linecolor\":\"#C8D4E3\",\"minorgridcolor\":\"#C8D4E3\",\"startlinecolor\":\"#2a3f5f\"},\"baxis\":{\"endlinecolor\":\"#2a3f5f\",\"gridcolor\":\"#C8D4E3\",\"linecolor\":\"#C8D4E3\",\"minorgridcolor\":\"#C8D4E3\",\"startlinecolor\":\"#2a3f5f\"},\"type\":\"carpet\"}],\"choropleth\":[{\"colorbar\":{\"outlinewidth\":0,\"ticks\":\"\"},\"type\":\"choropleth\"}],\"contourcarpet\":[{\"colorbar\":{\"outlinewidth\":0,\"ticks\":\"\"},\"type\":\"contourcarpet\"}],\"contour\":[{\"colorbar\":{\"outlinewidth\":0,\"ticks\":\"\"},\"colorscale\":[[0.0,\"#0d0887\"],[0.1111111111111111,\"#46039f\"],[0.2222222222222222,\"#7201a8\"],[0.3333333333333333,\"#9c179e\"],[0.4444444444444444,\"#bd3786\"],[0.5555555555555556,\"#d8576b\"],[0.6666666666666666,\"#ed7953\"],[0.7777777777777778,\"#fb9f3a\"],[0.8888888888888888,\"#fdca26\"],[1.0,\"#f0f921\"]],\"type\":\"contour\"}],\"heatmapgl\":[{\"colorbar\":{\"outlinewidth\":0,\"ticks\":\"\"},\"colorscale\":[[0.0,\"#0d0887\"],[0.1111111111111111,\"#46039f\"],[0.2222222222222222,\"#7201a8\"],[0.3333333333333333,\"#9c179e\"],[0.4444444444444444,\"#bd3786\"],[0.5555555555555556,\"#d8576b\"],[0.6666666666666666,\"#ed7953\"],[0.7777777777777778,\"#fb9f3a\"],[0.8888888888888888,\"#fdca26\"],[1.0,\"#f0f921\"]],\"type\":\"heatmapgl\"}],\"heatmap\":[{\"colorbar\":{\"outlinewidth\":0,\"ticks\":\"\"},\"colorscale\":[[0.0,\"#0d0887\"],[0.1111111111111111,\"#46039f\"],[0.2222222222222222,\"#7201a8\"],[0.3333333333333333,\"#9c179e\"],[0.4444444444444444,\"#bd3786\"],[0.5555555555555556,\"#d8576b\"],[0.6666666666666666,\"#ed7953\"],[0.7777777777777778,\"#fb9f3a\"],[0.8888888888888888,\"#fdca26\"],[1.0,\"#f0f921\"]],\"type\":\"heatmap\"}],\"histogram2dcontour\":[{\"colorbar\":{\"outlinewidth\":0,\"ticks\":\"\"},\"colorscale\":[[0.0,\"#0d0887\"],[0.1111111111111111,\"#46039f\"],[0.2222222222222222,\"#7201a8\"],[0.3333333333333333,\"#9c179e\"],[0.4444444444444444,\"#bd3786\"],[0.5555555555555556,\"#d8576b\"],[0.6666666666666666,\"#ed7953\"],[0.7777777777777778,\"#fb9f3a\"],[0.8888888888888888,\"#fdca26\"],[1.0,\"#f0f921\"]],\"type\":\"histogram2dcontour\"}],\"histogram2d\":[{\"colorbar\":{\"outlinewidth\":0,\"ticks\":\"\"},\"colorscale\":[[0.0,\"#0d0887\"],[0.1111111111111111,\"#46039f\"],[0.2222222222222222,\"#7201a8\"],[0.3333333333333333,\"#9c179e\"],[0.4444444444444444,\"#bd3786\"],[0.5555555555555556,\"#d8576b\"],[0.6666666666666666,\"#ed7953\"],[0.7777777777777778,\"#fb9f3a\"],[0.8888888888888888,\"#fdca26\"],[1.0,\"#f0f921\"]],\"type\":\"histogram2d\"}],\"histogram\":[{\"marker\":{\"pattern\":{\"fillmode\":\"overlay\",\"size\":10,\"solidity\":0.2}},\"type\":\"histogram\"}],\"mesh3d\":[{\"colorbar\":{\"outlinewidth\":0,\"ticks\":\"\"},\"type\":\"mesh3d\"}],\"parcoords\":[{\"line\":{\"colorbar\":{\"outlinewidth\":0,\"ticks\":\"\"}},\"type\":\"parcoords\"}],\"pie\":[{\"automargin\":true,\"type\":\"pie\"}],\"scatter3d\":[{\"line\":{\"colorbar\":{\"outlinewidth\":0,\"ticks\":\"\"}},\"marker\":{\"colorbar\":{\"outlinewidth\":0,\"ticks\":\"\"}},\"type\":\"scatter3d\"}],\"scattercarpet\":[{\"marker\":{\"colorbar\":{\"outlinewidth\":0,\"ticks\":\"\"}},\"type\":\"scattercarpet\"}],\"scattergeo\":[{\"marker\":{\"colorbar\":{\"outlinewidth\":0,\"ticks\":\"\"}},\"type\":\"scattergeo\"}],\"scattergl\":[{\"marker\":{\"colorbar\":{\"outlinewidth\":0,\"ticks\":\"\"}},\"type\":\"scattergl\"}],\"scattermapbox\":[{\"marker\":{\"colorbar\":{\"outlinewidth\":0,\"ticks\":\"\"}},\"type\":\"scattermapbox\"}],\"scatterpolargl\":[{\"marker\":{\"colorbar\":{\"outlinewidth\":0,\"ticks\":\"\"}},\"type\":\"scatterpolargl\"}],\"scatterpolar\":[{\"marker\":{\"colorbar\":{\"outlinewidth\":0,\"ticks\":\"\"}},\"type\":\"scatterpolar\"}],\"scatter\":[{\"fillpattern\":{\"fillmode\":\"overlay\",\"size\":10,\"solidity\":0.2},\"type\":\"scatter\"}],\"scatterternary\":[{\"marker\":{\"colorbar\":{\"outlinewidth\":0,\"ticks\":\"\"}},\"type\":\"scatterternary\"}],\"surface\":[{\"colorbar\":{\"outlinewidth\":0,\"ticks\":\"\"},\"colorscale\":[[0.0,\"#0d0887\"],[0.1111111111111111,\"#46039f\"],[0.2222222222222222,\"#7201a8\"],[0.3333333333333333,\"#9c179e\"],[0.4444444444444444,\"#bd3786\"],[0.5555555555555556,\"#d8576b\"],[0.6666666666666666,\"#ed7953\"],[0.7777777777777778,\"#fb9f3a\"],[0.8888888888888888,\"#fdca26\"],[1.0,\"#f0f921\"]],\"type\":\"surface\"}],\"table\":[{\"cells\":{\"fill\":{\"color\":\"#EBF0F8\"},\"line\":{\"color\":\"white\"}},\"header\":{\"fill\":{\"color\":\"#C8D4E3\"},\"line\":{\"color\":\"white\"}},\"type\":\"table\"}]},\"layout\":{\"annotationdefaults\":{\"arrowcolor\":\"#2a3f5f\",\"arrowhead\":0,\"arrowwidth\":1},\"autotypenumbers\":\"strict\",\"coloraxis\":{\"colorbar\":{\"outlinewidth\":0,\"ticks\":\"\"}},\"colorscale\":{\"diverging\":[[0,\"#8e0152\"],[0.1,\"#c51b7d\"],[0.2,\"#de77ae\"],[0.3,\"#f1b6da\"],[0.4,\"#fde0ef\"],[0.5,\"#f7f7f7\"],[0.6,\"#e6f5d0\"],[0.7,\"#b8e186\"],[0.8,\"#7fbc41\"],[0.9,\"#4d9221\"],[1,\"#276419\"]],\"sequential\":[[0.0,\"#0d0887\"],[0.1111111111111111,\"#46039f\"],[0.2222222222222222,\"#7201a8\"],[0.3333333333333333,\"#9c179e\"],[0.4444444444444444,\"#bd3786\"],[0.5555555555555556,\"#d8576b\"],[0.6666666666666666,\"#ed7953\"],[0.7777777777777778,\"#fb9f3a\"],[0.8888888888888888,\"#fdca26\"],[1.0,\"#f0f921\"]],\"sequentialminus\":[[0.0,\"#0d0887\"],[0.1111111111111111,\"#46039f\"],[0.2222222222222222,\"#7201a8\"],[0.3333333333333333,\"#9c179e\"],[0.4444444444444444,\"#bd3786\"],[0.5555555555555556,\"#d8576b\"],[0.6666666666666666,\"#ed7953\"],[0.7777777777777778,\"#fb9f3a\"],[0.8888888888888888,\"#fdca26\"],[1.0,\"#f0f921\"]]},\"colorway\":[\"#636efa\",\"#EF553B\",\"#00cc96\",\"#ab63fa\",\"#FFA15A\",\"#19d3f3\",\"#FF6692\",\"#B6E880\",\"#FF97FF\",\"#FECB52\"],\"font\":{\"color\":\"#2a3f5f\"},\"geo\":{\"bgcolor\":\"white\",\"lakecolor\":\"white\",\"landcolor\":\"white\",\"showlakes\":true,\"showland\":true,\"subunitcolor\":\"#C8D4E3\"},\"hoverlabel\":{\"align\":\"left\"},\"hovermode\":\"closest\",\"mapbox\":{\"style\":\"light\"},\"paper_bgcolor\":\"white\",\"plot_bgcolor\":\"white\",\"polar\":{\"angularaxis\":{\"gridcolor\":\"#EBF0F8\",\"linecolor\":\"#EBF0F8\",\"ticks\":\"\"},\"bgcolor\":\"white\",\"radialaxis\":{\"gridcolor\":\"#EBF0F8\",\"linecolor\":\"#EBF0F8\",\"ticks\":\"\"}},\"scene\":{\"xaxis\":{\"backgroundcolor\":\"white\",\"gridcolor\":\"#DFE8F3\",\"gridwidth\":2,\"linecolor\":\"#EBF0F8\",\"showbackground\":true,\"ticks\":\"\",\"zerolinecolor\":\"#EBF0F8\"},\"yaxis\":{\"backgroundcolor\":\"white\",\"gridcolor\":\"#DFE8F3\",\"gridwidth\":2,\"linecolor\":\"#EBF0F8\",\"showbackground\":true,\"ticks\":\"\",\"zerolinecolor\":\"#EBF0F8\"},\"zaxis\":{\"backgroundcolor\":\"white\",\"gridcolor\":\"#DFE8F3\",\"gridwidth\":2,\"linecolor\":\"#EBF0F8\",\"showbackground\":true,\"ticks\":\"\",\"zerolinecolor\":\"#EBF0F8\"}},\"shapedefaults\":{\"line\":{\"color\":\"#2a3f5f\"}},\"ternary\":{\"aaxis\":{\"gridcolor\":\"#DFE8F3\",\"linecolor\":\"#A2B1C6\",\"ticks\":\"\"},\"baxis\":{\"gridcolor\":\"#DFE8F3\",\"linecolor\":\"#A2B1C6\",\"ticks\":\"\"},\"bgcolor\":\"white\",\"caxis\":{\"gridcolor\":\"#DFE8F3\",\"linecolor\":\"#A2B1C6\",\"ticks\":\"\"}},\"title\":{\"x\":0.05},\"xaxis\":{\"automargin\":true,\"gridcolor\":\"#EBF0F8\",\"linecolor\":\"#EBF0F8\",\"ticks\":\"\",\"title\":{\"standoff\":15},\"zerolinecolor\":\"#EBF0F8\",\"zerolinewidth\":2},\"yaxis\":{\"automargin\":true,\"gridcolor\":\"#EBF0F8\",\"linecolor\":\"#EBF0F8\",\"ticks\":\"\",\"title\":{\"standoff\":15},\"zerolinecolor\":\"#EBF0F8\",\"zerolinewidth\":2}}},\"yaxis\":{\"title\":{\"text\":\"Accuracy (%)\"},\"range\":[0,100]},\"yaxis2\":{\"title\":{\"text\":\"Number of Features\"},\"overlaying\":\"y\",\"side\":\"right\",\"showgrid\":false},\"legend\":{\"x\":1.03,\"y\":1.3,\"xanchor\":\"left\",\"yanchor\":\"top\",\"bordercolor\":\"Black\",\"borderwidth\":1},\"margin\":{\"r\":200},\"title\":{\"text\":\"Comparison of Model Performances\"},\"xaxis\":{\"title\":{\"text\":\"Model\"}}},                        {\"responsive\": true}                    ).then(function(){\n",
              "                            \n",
              "var gd = document.getElementById('afa44185-9554-43d7-8567-c102a19be210');\n",
              "var x = new MutationObserver(function (mutations, observer) {{\n",
              "        var display = window.getComputedStyle(gd).display;\n",
              "        if (!display || display === 'none') {{\n",
              "            console.log([gd, 'removed!']);\n",
              "            Plotly.purge(gd);\n",
              "            observer.disconnect();\n",
              "        }}\n",
              "}});\n",
              "\n",
              "// Listen for the removal of the full notebook cells\n",
              "var notebookContainer = gd.closest('#notebook-container');\n",
              "if (notebookContainer) {{\n",
              "    x.observe(notebookContainer, {childList: true});\n",
              "}}\n",
              "\n",
              "// Listen for the clearing of the current output cell\n",
              "var outputEl = gd.closest('.output');\n",
              "if (outputEl) {{\n",
              "    x.observe(outputEl, {childList: true});\n",
              "}}\n",
              "\n",
              "                        })                };                            </script>        </div>\n",
              "</body>\n",
              "</html>"
            ]
          },
          "metadata": {}
        }
      ],
      "source": [
        "import plotly.graph_objects as go\n",
        "\n",
        "\n",
        "model_performances = {\n",
        "    'Baseline': {'Accuracy (%)': baseline_accuracy, 'Number of Features': baseline_features},\n",
        "    'SDS': {'Accuracy (%)': sds_accuracy, 'Number of Features': sds_features},\n",
        "    'PCA': {'Accuracy (%)': PCA_accuracy_percentage, 'Number of Features': pca_features},\n",
        "    'RFE': {'Accuracy (%)': RFE_accuracy_percentage, 'Number of Features': rfe_features}\n",
        "}\n",
        "\n",
        "# Create traces\n",
        "fig = go.Figure()\n",
        "\n",
        "# Add bar chart for Accuracy\n",
        "fig.add_trace(go.Bar(\n",
        "    x=list(model_performances.keys()),\n",
        "    y=[data['Accuracy (%)'] for data in model_performances.values()],\n",
        "    name='Accuracy (%)',\n",
        "    marker_color='indianred'\n",
        "))\n",
        "\n",
        "# Add line chart for Number of Features\n",
        "fig.add_trace(go.Scatter(\n",
        "    x=list(model_performances.keys()),\n",
        "    y=[data['Number of Features'] for data in model_performances.values()],\n",
        "    name='Number of Features',\n",
        "    marker_color='lightblue',\n",
        "    yaxis='y2'\n",
        "))\n",
        "\n",
        "# Layout adjustments\n",
        "fig.update_layout(\n",
        "    title=\"Comparison of Model Performances\",\n",
        "    xaxis=dict(title='Model'),\n",
        "    yaxis=dict(\n",
        "        title='Accuracy (%)',\n",
        "        range=[0, 100]  # Set range for Accuracy in percentage\n",
        "    ),\n",
        "    yaxis2=dict(\n",
        "        title='Number of Features',\n",
        "        overlaying='y',\n",
        "        side=\"right\",\n",
        "        showgrid=False  # Hide secondary grid\n",
        "    ),\n",
        "    legend=dict(\n",
        "        x=1.03,  # Legend outside the graph\n",
        "        y=1.3,\n",
        "        xanchor=\"left\",\n",
        "        yanchor=\"top\",\n",
        "        bordercolor=\"Black\",\n",
        "        borderwidth=1\n",
        "    ),\n",
        "    template='plotly_white',  # Clean white background\n",
        "    margin=dict(r=200)  # Adjust right margin for legend\n",
        ")\n",
        "\n",
        "# Show plot\n",
        "fig.show()\n"
      ]
    },
    {
      "cell_type": "code",
      "execution_count": 52,
      "id": "47269378-ae16-44c5-a19c-0ecc82cfb324",
      "metadata": {
        "id": "47269378-ae16-44c5-a19c-0ecc82cfb324"
      },
      "outputs": [],
      "source": []
    }
  ],
  "metadata": {
    "colab": {
      "provenance": []
    },
    "kernelspec": {
      "display_name": "Python 3 (ipykernel)",
      "language": "python",
      "name": "python3"
    },
    "language_info": {
      "codemirror_mode": {
        "name": "ipython",
        "version": 3
      },
      "file_extension": ".py",
      "mimetype": "text/x-python",
      "name": "python",
      "nbconvert_exporter": "python",
      "pygments_lexer": "ipython3",
      "version": "3.12.4"
    }
  },
  "nbformat": 4,
  "nbformat_minor": 5
}