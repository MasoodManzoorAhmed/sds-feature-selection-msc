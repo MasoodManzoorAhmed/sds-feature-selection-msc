{
  "cells": [
    {
      "cell_type": "markdown",
      "id": "1f1800bf",
      "metadata": {
        "id": "1f1800bf"
      },
      "source": [
        "# Period-Changer Dataset"
      ]
    },
    {
      "cell_type": "markdown",
      "source": [
        "## Data Exploration"
      ],
      "metadata": {
        "id": "zwolYLgtN-K8"
      },
      "id": "zwolYLgtN-K8"
    },
    {
      "cell_type": "code",
      "source": [
        "from google.colab import drive\n",
        "drive.mount('/content/drive')"
      ],
      "metadata": {
        "colab": {
          "base_uri": "https://localhost:8080/"
        },
        "id": "6t9uFKtBwHxC",
        "outputId": "ce51c2aa-8c22-41eb-f505-0f2a632cc301"
      },
      "id": "6t9uFKtBwHxC",
      "execution_count": 1,
      "outputs": [
        {
          "output_type": "stream",
          "name": "stdout",
          "text": [
            "Mounted at /content/drive\n"
          ]
        }
      ]
    },
    {
      "cell_type": "code",
      "source": [
        " ## Optimization and Baseline Model Creation\n",
        "import pandas as pd\n",
        "from google.colab import drive\n",
        "\n",
        "# Define the file path in Google Drive\n",
        "file_path = '/content/drive/MyDrive/MSc Dessertation/DATASETS/period+changer-2/data.csv'\n",
        "\n",
        "# Load the dataset\n",
        "data = pd.read_csv(file_path)\n",
        "\n",
        "# Display the first few rows to ensure it has been loaded correctly\n",
        "data.head()\n"
      ],
      "metadata": {
        "colab": {
          "base_uri": "https://localhost:8080/",
          "height": 273
        },
        "id": "yhNu8C2GODDA",
        "outputId": "c7fc64b5-b08f-4d4d-b0b0-0015ac67ae33"
      },
      "id": "yhNu8C2GODDA",
      "execution_count": 2,
      "outputs": [
        {
          "output_type": "execute_result",
          "data": {
            "text/plain": [
              "   MATS3v  nHBint10  MATS3s  MATS3p  nHBDon_Lipinski  minHBint8  MATS3e  \\\n",
              "0  0.0908         0  0.0075  0.0173                0        0.0 -0.0436   \n",
              "1  0.0213         0  0.1144 -0.0410                0        0.0  0.1231   \n",
              "2  0.0018         0 -0.0156 -0.0765                2        0.0 -0.1138   \n",
              "3 -0.0251         0 -0.0064 -0.0894                3        0.0 -0.0747   \n",
              "4 -0.0094         0  0.0132 -0.1035                0        0.0 -0.0046   \n",
              "\n",
              "   MATS3c  minHBint2  MATS3m  ...   WTPT-4   WTPT-5  ETA_EtaP_L  ETA_EtaP_F  \\\n",
              "0  0.0409        0.0  0.1368  ...   0.0000   0.0000      0.1780      1.5488   \n",
              "1 -0.0316        0.0  0.1318  ...   8.8660  19.3525      0.1739      1.3718   \n",
              "2 -0.1791        0.0  0.0615  ...   5.2267  27.8796      0.1688      1.4395   \n",
              "3 -0.1151        0.0  0.0361  ...   7.7896  24.7336      0.1702      1.4654   \n",
              "4 -0.0870        0.0  0.1063  ...  13.0472   7.0536      0.1785      1.4507   \n",
              "\n",
              "   ETA_EtaP_B  nT5Ring  SHdNH  ETA_dEpsilon_C  MDEO-22      Class  \n",
              "0      0.0088        0    0.0         -0.0868     0.00  NoChanger  \n",
              "1      0.0048        2    0.0         -0.0810     0.25  NoChanger  \n",
              "2      0.0116        2    0.0         -0.1004     0.00  NoChanger  \n",
              "3      0.0133        2    0.0         -0.1010     0.00  NoChanger  \n",
              "4      0.0113        2    0.0         -0.0824     0.00  NoChanger  \n",
              "\n",
              "[5 rows x 1178 columns]"
            ],
            "text/html": [
              "\n",
              "  <div id=\"df-5c2fe46e-f8e6-4807-9bfb-7912dde14ebd\" class=\"colab-df-container\">\n",
              "    <div>\n",
              "<style scoped>\n",
              "    .dataframe tbody tr th:only-of-type {\n",
              "        vertical-align: middle;\n",
              "    }\n",
              "\n",
              "    .dataframe tbody tr th {\n",
              "        vertical-align: top;\n",
              "    }\n",
              "\n",
              "    .dataframe thead th {\n",
              "        text-align: right;\n",
              "    }\n",
              "</style>\n",
              "<table border=\"1\" class=\"dataframe\">\n",
              "  <thead>\n",
              "    <tr style=\"text-align: right;\">\n",
              "      <th></th>\n",
              "      <th>MATS3v</th>\n",
              "      <th>nHBint10</th>\n",
              "      <th>MATS3s</th>\n",
              "      <th>MATS3p</th>\n",
              "      <th>nHBDon_Lipinski</th>\n",
              "      <th>minHBint8</th>\n",
              "      <th>MATS3e</th>\n",
              "      <th>MATS3c</th>\n",
              "      <th>minHBint2</th>\n",
              "      <th>MATS3m</th>\n",
              "      <th>...</th>\n",
              "      <th>WTPT-4</th>\n",
              "      <th>WTPT-5</th>\n",
              "      <th>ETA_EtaP_L</th>\n",
              "      <th>ETA_EtaP_F</th>\n",
              "      <th>ETA_EtaP_B</th>\n",
              "      <th>nT5Ring</th>\n",
              "      <th>SHdNH</th>\n",
              "      <th>ETA_dEpsilon_C</th>\n",
              "      <th>MDEO-22</th>\n",
              "      <th>Class</th>\n",
              "    </tr>\n",
              "  </thead>\n",
              "  <tbody>\n",
              "    <tr>\n",
              "      <th>0</th>\n",
              "      <td>0.0908</td>\n",
              "      <td>0</td>\n",
              "      <td>0.0075</td>\n",
              "      <td>0.0173</td>\n",
              "      <td>0</td>\n",
              "      <td>0.0</td>\n",
              "      <td>-0.0436</td>\n",
              "      <td>0.0409</td>\n",
              "      <td>0.0</td>\n",
              "      <td>0.1368</td>\n",
              "      <td>...</td>\n",
              "      <td>0.0000</td>\n",
              "      <td>0.0000</td>\n",
              "      <td>0.1780</td>\n",
              "      <td>1.5488</td>\n",
              "      <td>0.0088</td>\n",
              "      <td>0</td>\n",
              "      <td>0.0</td>\n",
              "      <td>-0.0868</td>\n",
              "      <td>0.00</td>\n",
              "      <td>NoChanger</td>\n",
              "    </tr>\n",
              "    <tr>\n",
              "      <th>1</th>\n",
              "      <td>0.0213</td>\n",
              "      <td>0</td>\n",
              "      <td>0.1144</td>\n",
              "      <td>-0.0410</td>\n",
              "      <td>0</td>\n",
              "      <td>0.0</td>\n",
              "      <td>0.1231</td>\n",
              "      <td>-0.0316</td>\n",
              "      <td>0.0</td>\n",
              "      <td>0.1318</td>\n",
              "      <td>...</td>\n",
              "      <td>8.8660</td>\n",
              "      <td>19.3525</td>\n",
              "      <td>0.1739</td>\n",
              "      <td>1.3718</td>\n",
              "      <td>0.0048</td>\n",
              "      <td>2</td>\n",
              "      <td>0.0</td>\n",
              "      <td>-0.0810</td>\n",
              "      <td>0.25</td>\n",
              "      <td>NoChanger</td>\n",
              "    </tr>\n",
              "    <tr>\n",
              "      <th>2</th>\n",
              "      <td>0.0018</td>\n",
              "      <td>0</td>\n",
              "      <td>-0.0156</td>\n",
              "      <td>-0.0765</td>\n",
              "      <td>2</td>\n",
              "      <td>0.0</td>\n",
              "      <td>-0.1138</td>\n",
              "      <td>-0.1791</td>\n",
              "      <td>0.0</td>\n",
              "      <td>0.0615</td>\n",
              "      <td>...</td>\n",
              "      <td>5.2267</td>\n",
              "      <td>27.8796</td>\n",
              "      <td>0.1688</td>\n",
              "      <td>1.4395</td>\n",
              "      <td>0.0116</td>\n",
              "      <td>2</td>\n",
              "      <td>0.0</td>\n",
              "      <td>-0.1004</td>\n",
              "      <td>0.00</td>\n",
              "      <td>NoChanger</td>\n",
              "    </tr>\n",
              "    <tr>\n",
              "      <th>3</th>\n",
              "      <td>-0.0251</td>\n",
              "      <td>0</td>\n",
              "      <td>-0.0064</td>\n",
              "      <td>-0.0894</td>\n",
              "      <td>3</td>\n",
              "      <td>0.0</td>\n",
              "      <td>-0.0747</td>\n",
              "      <td>-0.1151</td>\n",
              "      <td>0.0</td>\n",
              "      <td>0.0361</td>\n",
              "      <td>...</td>\n",
              "      <td>7.7896</td>\n",
              "      <td>24.7336</td>\n",
              "      <td>0.1702</td>\n",
              "      <td>1.4654</td>\n",
              "      <td>0.0133</td>\n",
              "      <td>2</td>\n",
              "      <td>0.0</td>\n",
              "      <td>-0.1010</td>\n",
              "      <td>0.00</td>\n",
              "      <td>NoChanger</td>\n",
              "    </tr>\n",
              "    <tr>\n",
              "      <th>4</th>\n",
              "      <td>-0.0094</td>\n",
              "      <td>0</td>\n",
              "      <td>0.0132</td>\n",
              "      <td>-0.1035</td>\n",
              "      <td>0</td>\n",
              "      <td>0.0</td>\n",
              "      <td>-0.0046</td>\n",
              "      <td>-0.0870</td>\n",
              "      <td>0.0</td>\n",
              "      <td>0.1063</td>\n",
              "      <td>...</td>\n",
              "      <td>13.0472</td>\n",
              "      <td>7.0536</td>\n",
              "      <td>0.1785</td>\n",
              "      <td>1.4507</td>\n",
              "      <td>0.0113</td>\n",
              "      <td>2</td>\n",
              "      <td>0.0</td>\n",
              "      <td>-0.0824</td>\n",
              "      <td>0.00</td>\n",
              "      <td>NoChanger</td>\n",
              "    </tr>\n",
              "  </tbody>\n",
              "</table>\n",
              "<p>5 rows × 1178 columns</p>\n",
              "</div>\n",
              "    <div class=\"colab-df-buttons\">\n",
              "\n",
              "  <div class=\"colab-df-container\">\n",
              "    <button class=\"colab-df-convert\" onclick=\"convertToInteractive('df-5c2fe46e-f8e6-4807-9bfb-7912dde14ebd')\"\n",
              "            title=\"Convert this dataframe to an interactive table.\"\n",
              "            style=\"display:none;\">\n",
              "\n",
              "  <svg xmlns=\"http://www.w3.org/2000/svg\" height=\"24px\" viewBox=\"0 -960 960 960\">\n",
              "    <path d=\"M120-120v-720h720v720H120Zm60-500h600v-160H180v160Zm220 220h160v-160H400v160Zm0 220h160v-160H400v160ZM180-400h160v-160H180v160Zm440 0h160v-160H620v160ZM180-180h160v-160H180v160Zm440 0h160v-160H620v160Z\"/>\n",
              "  </svg>\n",
              "    </button>\n",
              "\n",
              "  <style>\n",
              "    .colab-df-container {\n",
              "      display:flex;\n",
              "      gap: 12px;\n",
              "    }\n",
              "\n",
              "    .colab-df-convert {\n",
              "      background-color: #E8F0FE;\n",
              "      border: none;\n",
              "      border-radius: 50%;\n",
              "      cursor: pointer;\n",
              "      display: none;\n",
              "      fill: #1967D2;\n",
              "      height: 32px;\n",
              "      padding: 0 0 0 0;\n",
              "      width: 32px;\n",
              "    }\n",
              "\n",
              "    .colab-df-convert:hover {\n",
              "      background-color: #E2EBFA;\n",
              "      box-shadow: 0px 1px 2px rgba(60, 64, 67, 0.3), 0px 1px 3px 1px rgba(60, 64, 67, 0.15);\n",
              "      fill: #174EA6;\n",
              "    }\n",
              "\n",
              "    .colab-df-buttons div {\n",
              "      margin-bottom: 4px;\n",
              "    }\n",
              "\n",
              "    [theme=dark] .colab-df-convert {\n",
              "      background-color: #3B4455;\n",
              "      fill: #D2E3FC;\n",
              "    }\n",
              "\n",
              "    [theme=dark] .colab-df-convert:hover {\n",
              "      background-color: #434B5C;\n",
              "      box-shadow: 0px 1px 3px 1px rgba(0, 0, 0, 0.15);\n",
              "      filter: drop-shadow(0px 1px 2px rgba(0, 0, 0, 0.3));\n",
              "      fill: #FFFFFF;\n",
              "    }\n",
              "  </style>\n",
              "\n",
              "    <script>\n",
              "      const buttonEl =\n",
              "        document.querySelector('#df-5c2fe46e-f8e6-4807-9bfb-7912dde14ebd button.colab-df-convert');\n",
              "      buttonEl.style.display =\n",
              "        google.colab.kernel.accessAllowed ? 'block' : 'none';\n",
              "\n",
              "      async function convertToInteractive(key) {\n",
              "        const element = document.querySelector('#df-5c2fe46e-f8e6-4807-9bfb-7912dde14ebd');\n",
              "        const dataTable =\n",
              "          await google.colab.kernel.invokeFunction('convertToInteractive',\n",
              "                                                    [key], {});\n",
              "        if (!dataTable) return;\n",
              "\n",
              "        const docLinkHtml = 'Like what you see? Visit the ' +\n",
              "          '<a target=\"_blank\" href=https://colab.research.google.com/notebooks/data_table.ipynb>data table notebook</a>'\n",
              "          + ' to learn more about interactive tables.';\n",
              "        element.innerHTML = '';\n",
              "        dataTable['output_type'] = 'display_data';\n",
              "        await google.colab.output.renderOutput(dataTable, element);\n",
              "        const docLink = document.createElement('div');\n",
              "        docLink.innerHTML = docLinkHtml;\n",
              "        element.appendChild(docLink);\n",
              "      }\n",
              "    </script>\n",
              "  </div>\n",
              "\n",
              "\n",
              "<div id=\"df-26757bee-7938-4be4-8fff-0501d2b20238\">\n",
              "  <button class=\"colab-df-quickchart\" onclick=\"quickchart('df-26757bee-7938-4be4-8fff-0501d2b20238')\"\n",
              "            title=\"Suggest charts\"\n",
              "            style=\"display:none;\">\n",
              "\n",
              "<svg xmlns=\"http://www.w3.org/2000/svg\" height=\"24px\"viewBox=\"0 0 24 24\"\n",
              "     width=\"24px\">\n",
              "    <g>\n",
              "        <path d=\"M19 3H5c-1.1 0-2 .9-2 2v14c0 1.1.9 2 2 2h14c1.1 0 2-.9 2-2V5c0-1.1-.9-2-2-2zM9 17H7v-7h2v7zm4 0h-2V7h2v10zm4 0h-2v-4h2v4z\"/>\n",
              "    </g>\n",
              "</svg>\n",
              "  </button>\n",
              "\n",
              "<style>\n",
              "  .colab-df-quickchart {\n",
              "      --bg-color: #E8F0FE;\n",
              "      --fill-color: #1967D2;\n",
              "      --hover-bg-color: #E2EBFA;\n",
              "      --hover-fill-color: #174EA6;\n",
              "      --disabled-fill-color: #AAA;\n",
              "      --disabled-bg-color: #DDD;\n",
              "  }\n",
              "\n",
              "  [theme=dark] .colab-df-quickchart {\n",
              "      --bg-color: #3B4455;\n",
              "      --fill-color: #D2E3FC;\n",
              "      --hover-bg-color: #434B5C;\n",
              "      --hover-fill-color: #FFFFFF;\n",
              "      --disabled-bg-color: #3B4455;\n",
              "      --disabled-fill-color: #666;\n",
              "  }\n",
              "\n",
              "  .colab-df-quickchart {\n",
              "    background-color: var(--bg-color);\n",
              "    border: none;\n",
              "    border-radius: 50%;\n",
              "    cursor: pointer;\n",
              "    display: none;\n",
              "    fill: var(--fill-color);\n",
              "    height: 32px;\n",
              "    padding: 0;\n",
              "    width: 32px;\n",
              "  }\n",
              "\n",
              "  .colab-df-quickchart:hover {\n",
              "    background-color: var(--hover-bg-color);\n",
              "    box-shadow: 0 1px 2px rgba(60, 64, 67, 0.3), 0 1px 3px 1px rgba(60, 64, 67, 0.15);\n",
              "    fill: var(--button-hover-fill-color);\n",
              "  }\n",
              "\n",
              "  .colab-df-quickchart-complete:disabled,\n",
              "  .colab-df-quickchart-complete:disabled:hover {\n",
              "    background-color: var(--disabled-bg-color);\n",
              "    fill: var(--disabled-fill-color);\n",
              "    box-shadow: none;\n",
              "  }\n",
              "\n",
              "  .colab-df-spinner {\n",
              "    border: 2px solid var(--fill-color);\n",
              "    border-color: transparent;\n",
              "    border-bottom-color: var(--fill-color);\n",
              "    animation:\n",
              "      spin 1s steps(1) infinite;\n",
              "  }\n",
              "\n",
              "  @keyframes spin {\n",
              "    0% {\n",
              "      border-color: transparent;\n",
              "      border-bottom-color: var(--fill-color);\n",
              "      border-left-color: var(--fill-color);\n",
              "    }\n",
              "    20% {\n",
              "      border-color: transparent;\n",
              "      border-left-color: var(--fill-color);\n",
              "      border-top-color: var(--fill-color);\n",
              "    }\n",
              "    30% {\n",
              "      border-color: transparent;\n",
              "      border-left-color: var(--fill-color);\n",
              "      border-top-color: var(--fill-color);\n",
              "      border-right-color: var(--fill-color);\n",
              "    }\n",
              "    40% {\n",
              "      border-color: transparent;\n",
              "      border-right-color: var(--fill-color);\n",
              "      border-top-color: var(--fill-color);\n",
              "    }\n",
              "    60% {\n",
              "      border-color: transparent;\n",
              "      border-right-color: var(--fill-color);\n",
              "    }\n",
              "    80% {\n",
              "      border-color: transparent;\n",
              "      border-right-color: var(--fill-color);\n",
              "      border-bottom-color: var(--fill-color);\n",
              "    }\n",
              "    90% {\n",
              "      border-color: transparent;\n",
              "      border-bottom-color: var(--fill-color);\n",
              "    }\n",
              "  }\n",
              "</style>\n",
              "\n",
              "  <script>\n",
              "    async function quickchart(key) {\n",
              "      const quickchartButtonEl =\n",
              "        document.querySelector('#' + key + ' button');\n",
              "      quickchartButtonEl.disabled = true;  // To prevent multiple clicks.\n",
              "      quickchartButtonEl.classList.add('colab-df-spinner');\n",
              "      try {\n",
              "        const charts = await google.colab.kernel.invokeFunction(\n",
              "            'suggestCharts', [key], {});\n",
              "      } catch (error) {\n",
              "        console.error('Error during call to suggestCharts:', error);\n",
              "      }\n",
              "      quickchartButtonEl.classList.remove('colab-df-spinner');\n",
              "      quickchartButtonEl.classList.add('colab-df-quickchart-complete');\n",
              "    }\n",
              "    (() => {\n",
              "      let quickchartButtonEl =\n",
              "        document.querySelector('#df-26757bee-7938-4be4-8fff-0501d2b20238 button');\n",
              "      quickchartButtonEl.style.display =\n",
              "        google.colab.kernel.accessAllowed ? 'block' : 'none';\n",
              "    })();\n",
              "  </script>\n",
              "</div>\n",
              "\n",
              "    </div>\n",
              "  </div>\n"
            ],
            "application/vnd.google.colaboratory.intrinsic+json": {
              "type": "dataframe",
              "variable_name": "data"
            }
          },
          "metadata": {},
          "execution_count": 2
        }
      ]
    },
    {
      "cell_type": "code",
      "source": [
        "# Check for missing values\n",
        "missing_values = data.isnull().sum()\n",
        "\n",
        "# Display columns with missing values\n",
        "missing_columns = missing_values[missing_values > 0]\n",
        "missing_columns"
      ],
      "metadata": {
        "colab": {
          "base_uri": "https://localhost:8080/",
          "height": 84
        },
        "id": "KQ8GKkaWOvLH",
        "outputId": "a34be830-909e-47b9-c9e4-41542cc28427"
      },
      "id": "KQ8GKkaWOvLH",
      "execution_count": 3,
      "outputs": [
        {
          "output_type": "execute_result",
          "data": {
            "text/plain": [
              "Series([], dtype: int64)"
            ],
            "text/html": [
              "<div>\n",
              "<style scoped>\n",
              "    .dataframe tbody tr th:only-of-type {\n",
              "        vertical-align: middle;\n",
              "    }\n",
              "\n",
              "    .dataframe tbody tr th {\n",
              "        vertical-align: top;\n",
              "    }\n",
              "\n",
              "    .dataframe thead th {\n",
              "        text-align: right;\n",
              "    }\n",
              "</style>\n",
              "<table border=\"1\" class=\"dataframe\">\n",
              "  <thead>\n",
              "    <tr style=\"text-align: right;\">\n",
              "      <th></th>\n",
              "      <th>0</th>\n",
              "    </tr>\n",
              "  </thead>\n",
              "  <tbody>\n",
              "  </tbody>\n",
              "</table>\n",
              "</div><br><label><b>dtype:</b> int64</label>"
            ]
          },
          "metadata": {},
          "execution_count": 3
        }
      ]
    },
    {
      "cell_type": "code",
      "source": [
        "print(f\"Unique values in the 'class' column: {data['Class'].unique()}\")"
      ],
      "metadata": {
        "colab": {
          "base_uri": "https://localhost:8080/"
        },
        "id": "Kr2Td-6A0r-W",
        "outputId": "ae1ecaa1-7a2b-47ff-8f7c-1c8304e41f9d"
      },
      "id": "Kr2Td-6A0r-W",
      "execution_count": 4,
      "outputs": [
        {
          "output_type": "stream",
          "name": "stdout",
          "text": [
            "Unique values in the 'class' column: ['NoChanger' 'Changer']\n"
          ]
        }
      ]
    },
    {
      "cell_type": "markdown",
      "id": "116f3893",
      "metadata": {
        "id": "116f3893"
      },
      "source": [
        "## Optimization and Baseline Model Creation"
      ]
    },
    {
      "cell_type": "code",
      "execution_count": 5,
      "id": "5513700f",
      "metadata": {
        "colab": {
          "base_uri": "https://localhost:8080/"
        },
        "id": "5513700f",
        "outputId": "05b1603c-e499-4299-930d-dae70970170e"
      },
      "outputs": [
        {
          "output_type": "stream",
          "name": "stdout",
          "text": [
            "Drive already mounted at /content/drive; to attempt to forcibly remount, call drive.mount(\"/content/drive\", force_remount=True).\n",
            "Number of features after variance thresholding: 1177\n",
            "Baseline Accuracy: 0.5555555555555556\n",
            "\n",
            "Classification Report:\n",
            "               precision    recall  f1-score   support\n",
            "\n",
            "     Changer       0.25      0.50      0.33         4\n",
            "   NoChanger       0.80      0.57      0.67        14\n",
            "\n",
            "    accuracy                           0.56        18\n",
            "   macro avg       0.53      0.54      0.50        18\n",
            "weighted avg       0.68      0.56      0.59        18\n",
            "\n"
          ]
        }
      ],
      "source": [
        "# Import required libraries\n",
        "import pandas as pd\n",
        "from google.colab import drive\n",
        "from sklearn.feature_selection import VarianceThreshold\n",
        "from sklearn.model_selection import train_test_split\n",
        "from sklearn.preprocessing import StandardScaler\n",
        "from sklearn.linear_model import LogisticRegression\n",
        "from sklearn.metrics import accuracy_score, classification_report\n",
        "\n",
        "# Mount Google Drive\n",
        "drive.mount('/content/drive')\n",
        "\n",
        "# Define the file path in Google Drive\n",
        "file_path = '/content/drive/MyDrive/MSc Dessertation/DATASETS/period+changer-2/data.csv'\n",
        "\n",
        "# Load the dataset\n",
        "data = pd.read_csv(file_path)\n",
        "\n",
        "# Step 2: Remove features with zero variance\n",
        "selector = VarianceThreshold(threshold=0)\n",
        "optimized_data = selector.fit_transform(data.drop('Class', axis=1))\n",
        "\n",
        "# Extract the retained feature names after variance thresholding\n",
        "retained_columns = data.drop('Class', axis=1).columns[selector.get_support()]\n",
        "\n",
        "# Print the number of features after variance thresholding\n",
        "print(\"Number of features after variance thresholding:\", len(retained_columns))\n",
        "\n",
        "# Step 3: Check for missing values\n",
        "# Append the 'Class' column back to the optimized dataset\n",
        "optimized_df = pd.DataFrame(optimized_data, columns=retained_columns)\n",
        "optimized_df['Class'] = data['Class']\n",
        "\n",
        "# Step 4: Split the data into training and testing sets\n",
        "X = optimized_df.drop('Class', axis=1)\n",
        "y = optimized_df['Class']\n",
        "X_train, X_test, y_train, y_test = train_test_split(X, y, test_size=0.2, random_state=42)\n",
        "\n",
        "# Step 5: Normalize the data (Standardization)\n",
        "scaler = StandardScaler()\n",
        "X_train_scaled = scaler.fit_transform(X_train)\n",
        "X_test_scaled = scaler.transform(X_test)\n",
        "\n",
        "# Step 6: Train a baseline model (Logistic Regression)\n",
        "log_reg_model = LogisticRegression(max_iter=1000, random_state=42)\n",
        "log_reg_model.fit(X_train_scaled, y_train)\n",
        "\n",
        "# Step 7: Make predictions and evaluate the model\n",
        "y_pred = log_reg_model.predict(X_test_scaled)\n",
        "r2_Baseline = accuracy_score(y_test, y_pred)\n",
        "report = classification_report(y_test, y_pred)\n",
        "\n",
        "# Print the accuracy and classification report\n",
        "print(\"Baseline Accuracy:\", r2_Baseline)\n",
        "print(\"\\nClassification Report:\\n\", report)\n"
      ]
    },
    {
      "cell_type": "code",
      "source": [
        "from sklearn.metrics import confusion_matrix\n",
        "import seaborn as sns\n",
        "import matplotlib.pyplot as plt\n",
        "\n",
        "# Generate the confusion matrix\n",
        "conf_matrix = confusion_matrix(y_test, y_pred)\n",
        "\n",
        "# Print the confusion matrix\n",
        "print(\"Confusion Matrix:\\n\", conf_matrix)\n",
        "\n",
        "# Plot the confusion matrix\n",
        "plt.figure(figsize=(8, 6))\n",
        "sns.heatmap(conf_matrix, annot=True, fmt=\"d\", cmap=\"Blues\", xticklabels=log_reg_model.classes_, yticklabels=log_reg_model.classes_)\n",
        "plt.xlabel('Predicted Label')\n",
        "plt.ylabel('True Label')\n",
        "plt.title('Confusion Matrix')\n",
        "plt.show()\n"
      ],
      "metadata": {
        "colab": {
          "base_uri": "https://localhost:8080/",
          "height": 616
        },
        "id": "a0Tu2RhhcwGW",
        "outputId": "8b8b85a0-46b8-40a9-8d3c-eab4e1a3fd5e"
      },
      "id": "a0Tu2RhhcwGW",
      "execution_count": 6,
      "outputs": [
        {
          "output_type": "stream",
          "name": "stdout",
          "text": [
            "Confusion Matrix:\n",
            " [[2 2]\n",
            " [6 8]]\n"
          ]
        },
        {
          "output_type": "display_data",
          "data": {
            "text/plain": [
              "<Figure size 800x600 with 2 Axes>"
            ],
            "image/png": "[encoded data removed]"
          },
          "metadata": {}
        }
      ]
    },
    {
      "cell_type": "markdown",
      "id": "98aae280",
      "metadata": {
        "id": "98aae280"
      },
      "source": [
        "## Applying Stochastic Diffusion Search (SDS)"
      ]
    },
    {
      "cell_type": "code",
      "execution_count": 7,
      "id": "81b2074d",
      "metadata": {
        "colab": {
          "base_uri": "https://localhost:8080/"
        },
        "id": "81b2074d",
        "outputId": "9f32419b-7b35-4636-cbea-f15d49adeb12"
      },
      "outputs": [
        {
          "output_type": "stream",
          "name": "stdout",
          "text": [
            "Iteration 1/50 - Best Accuracy: 0.7777777777777778\n",
            "Iteration 2/50 - Best Accuracy: 0.7777777777777778\n",
            "Iteration 3/50 - Best Accuracy: 0.7777777777777778\n",
            "Iteration 4/50 - Best Accuracy: 0.7777777777777778\n",
            "Iteration 5/50 - Best Accuracy: 0.7777777777777778\n",
            "Iteration 6/50 - Best Accuracy: 0.7777777777777778\n",
            "Iteration 7/50 - Best Accuracy: 0.7777777777777778\n",
            "Iteration 8/50 - Best Accuracy: 0.7777777777777778\n",
            "Iteration 9/50 - Best Accuracy: 0.7777777777777778\n",
            "Iteration 10/50 - Best Accuracy: 0.7777777777777778\n",
            "Iteration 11/50 - Best Accuracy: 0.7777777777777778\n",
            "Iteration 12/50 - Best Accuracy: 0.7777777777777778\n",
            "Iteration 13/50 - Best Accuracy: 0.7777777777777778\n",
            "Iteration 14/50 - Best Accuracy: 0.7777777777777778\n",
            "Iteration 15/50 - Best Accuracy: 0.7777777777777778\n",
            "Iteration 16/50 - Best Accuracy: 0.7777777777777778\n",
            "Iteration 17/50 - Best Accuracy: 0.7777777777777778\n",
            "Iteration 18/50 - Best Accuracy: 0.7777777777777778\n",
            "Iteration 19/50 - Best Accuracy: 0.7777777777777778\n",
            "Iteration 20/50 - Best Accuracy: 0.7777777777777778\n",
            "Iteration 21/50 - Best Accuracy: 0.7777777777777778\n",
            "Iteration 22/50 - Best Accuracy: 0.7777777777777778\n",
            "Iteration 23/50 - Best Accuracy: 0.7777777777777778\n",
            "Iteration 24/50 - Best Accuracy: 0.7777777777777778\n",
            "Iteration 25/50 - Best Accuracy: 0.7777777777777778\n",
            "Iteration 26/50 - Best Accuracy: 0.7777777777777778\n",
            "Iteration 27/50 - Best Accuracy: 0.7777777777777778\n",
            "Iteration 28/50 - Best Accuracy: 0.7777777777777778\n",
            "Iteration 29/50 - Best Accuracy: 0.7777777777777778\n",
            "Iteration 30/50 - Best Accuracy: 0.7777777777777778\n",
            "Iteration 31/50 - Best Accuracy: 0.7777777777777778\n",
            "Iteration 32/50 - Best Accuracy: 0.7777777777777778\n",
            "Iteration 33/50 - Best Accuracy: 0.7777777777777778\n",
            "Iteration 34/50 - Best Accuracy: 0.7777777777777778\n",
            "Iteration 35/50 - Best Accuracy: 0.7777777777777778\n",
            "Iteration 36/50 - Best Accuracy: 0.7777777777777778\n",
            "Iteration 37/50 - Best Accuracy: 0.7777777777777778\n",
            "Iteration 38/50 - Best Accuracy: 0.7777777777777778\n",
            "Iteration 39/50 - Best Accuracy: 0.7777777777777778\n",
            "Iteration 40/50 - Best Accuracy: 0.7777777777777778\n",
            "Iteration 41/50 - Best Accuracy: 0.7777777777777778\n",
            "Iteration 42/50 - Best Accuracy: 0.7777777777777778\n",
            "Iteration 43/50 - Best Accuracy: 0.7777777777777778\n",
            "Iteration 44/50 - Best Accuracy: 0.7777777777777778\n",
            "Iteration 45/50 - Best Accuracy: 0.7777777777777778\n",
            "Iteration 46/50 - Best Accuracy: 0.7777777777777778\n",
            "Iteration 47/50 - Best Accuracy: 0.7777777777777778\n",
            "Iteration 48/50 - Best Accuracy: 0.7777777777777778\n",
            "Iteration 49/50 - Best Accuracy: 0.7777777777777778\n",
            "Iteration 50/50 - Best Accuracy: 0.7777777777777778\n",
            "\n",
            "Final SDS Model Accuracy: 0.7777777777777778\n",
            "\n",
            "Classification Report:\n",
            "               precision    recall  f1-score   support\n",
            "\n",
            "     Changer       0.50      0.50      0.50         4\n",
            "   NoChanger       0.86      0.86      0.86        14\n",
            "\n",
            "    accuracy                           0.78        18\n",
            "   macro avg       0.68      0.68      0.68        18\n",
            "weighted avg       0.78      0.78      0.78        18\n",
            "\n",
            "\n",
            "Best Features Selected by SDS:\n",
            " [ 722  645  469  401  654  418  561  833  679  210  276  586  985  980\n",
            "  248 1139 1036   54  867  610]\n",
            "\n",
            "Number of Features Selected: 20\n"
          ]
        }
      ],
      "source": [
        "import numpy as np\n",
        "import pandas as pd\n",
        "from sklearn.model_selection import train_test_split\n",
        "from sklearn.preprocessing import StandardScaler\n",
        "from sklearn.linear_model import LogisticRegression\n",
        "from sklearn.metrics import accuracy_score, classification_report\n",
        "\n",
        "# Extract features and target\n",
        "X = data.drop('Class', axis=1)\n",
        "y = data['Class']\n",
        "\n",
        "# Step 2: Normalize the data (Standardization)\n",
        "scaler = StandardScaler()\n",
        "X_scaled = scaler.fit_transform(X)\n",
        "\n",
        "# Step 3: Define SDS-like feature selection\n",
        "def stochastic_diffusion_search(X, y, n_agents=10, n_iterations=50, n_features_to_select=20):\n",
        "    n_samples, n_features = X.shape\n",
        "\n",
        "    # Initialize agents with random feature sets\n",
        "    agents = [np.random.choice(range(n_features), n_features_to_select, replace=False) for _ in range(n_agents)]\n",
        "\n",
        "    best_features = None\n",
        "    best_accuracy = 0\n",
        "\n",
        "    for iteration in range(n_iterations):\n",
        "        for i in range(n_agents):\n",
        "            # Get subset of features selected by the agent\n",
        "            selected_features = agents[i]\n",
        "            X_agent = X[:, selected_features]\n",
        "\n",
        "            # Train a logistic regression model on these features\n",
        "            X_train, X_test, y_train, y_test = train_test_split(X_agent, y, test_size=0.2, random_state=42)\n",
        "            model = LogisticRegression(max_iter=1000, random_state=42)\n",
        "            model.fit(X_train, y_train)\n",
        "\n",
        "            # Evaluate accuracy\n",
        "            y_pred = model.predict(X_test)\n",
        "            accuracy = accuracy_score(y_test, y_pred)\n",
        "\n",
        "            # If current agent's features perform better, update best features\n",
        "            if accuracy > best_accuracy:\n",
        "                best_accuracy = accuracy\n",
        "                best_features = selected_features\n",
        "\n",
        "            # Stochastic diffusion: randomly select a peer agent and share features\n",
        "            peer = np.random.choice(range(n_agents))\n",
        "            if np.random.rand() < 0.7:\n",
        "                agents[i] = agents[i]  # Keep current agent's features\n",
        "            else:\n",
        "                agents[i] = agents[peer]  # Adopt the peer agent's features\n",
        "\n",
        "        print(f\"Iteration {iteration + 1}/{n_iterations} - Best Accuracy: {best_accuracy}\")\n",
        "\n",
        "    return best_features, best_accuracy\n",
        "\n",
        "# Step 4: Run SDS-based feature selection\n",
        "best_features, best_accuracy = stochastic_diffusion_search(X_scaled, y, n_agents=10, n_iterations=50, n_features_to_select=20)\n",
        "\n",
        "# Step 5: Train final model using best features\n",
        "X_train, X_test, y_train, y_test = train_test_split(X_scaled[:, best_features], y, test_size=0.2, random_state=42)\n",
        "final_model = LogisticRegression(max_iter=1000, random_state=42)\n",
        "final_model.fit(X_train, y_train)\n",
        "\n",
        "# Step 6: Evaluate final model\n",
        "y_pred = final_model.predict(X_test)\n",
        "SDSfinal_r2_score = accuracy_score(y_test, y_pred)\n",
        "classification_report_output = classification_report(y_test, y_pred)\n",
        "\n",
        "# Step 7: Output results\n",
        "print(\"\\nFinal SDS Model Accuracy:\", SDSfinal_r2_score)\n",
        "print(\"\\nClassification Report:\\n\", classification_report_output)\n",
        "print(\"\\nBest Features Selected by SDS:\\n\", best_features)\n",
        "print(\"\\nNumber of Features Selected:\", len(best_features))\n"
      ]
    },
    {
      "cell_type": "code",
      "source": [
        "from sklearn.metrics import confusion_matrix\n",
        "import seaborn as sns\n",
        "import matplotlib.pyplot as plt\n",
        "\n",
        "# Generate the confusion matrix\n",
        "conf_matrix = confusion_matrix(y_test, y_pred)\n",
        "\n",
        "# Print the confusion matrix\n",
        "print(\"\\nConfusion Matrix:\\n\", conf_matrix)\n",
        "\n",
        "# Plot the confusion matrix\n",
        "plt.figure(figsize=(8, 6))\n",
        "sns.heatmap(conf_matrix, annot=True, fmt=\"d\", cmap=\"Blues\", xticklabels=final_model.classes_, yticklabels=final_model.classes_)\n",
        "plt.xlabel('Predicted Label')\n",
        "plt.ylabel('True Label')\n",
        "plt.title('Confusion Matrix for Final SDS Model')\n",
        "plt.show()\n"
      ],
      "metadata": {
        "colab": {
          "base_uri": "https://localhost:8080/",
          "height": 633
        },
        "id": "MZztoy-GcyFA",
        "outputId": "6388009d-710c-42d3-f2f4-f20bfe1825c6"
      },
      "id": "MZztoy-GcyFA",
      "execution_count": 8,
      "outputs": [
        {
          "output_type": "stream",
          "name": "stdout",
          "text": [
            "\n",
            "Confusion Matrix:\n",
            " [[ 2  2]\n",
            " [ 2 12]]\n"
          ]
        },
        {
          "output_type": "display_data",
          "data": {
            "text/plain": [
              "<Figure size 800x600 with 2 Axes>"
            ],
            "image/png": "[encoded data removed]"
          },
          "metadata": {}
        }
      ]
    },
    {
      "cell_type": "markdown",
      "id": "bd37cda9",
      "metadata": {
        "id": "bd37cda9"
      },
      "source": [
        "## Applying Principal Component Analysis (PCA)"
      ]
    },
    {
      "cell_type": "code",
      "execution_count": 9,
      "id": "2cce9994",
      "metadata": {
        "colab": {
          "base_uri": "https://localhost:8080/"
        },
        "id": "2cce9994",
        "outputId": "90518f0b-f831-4007-d033-9235b7b5d3f7"
      },
      "outputs": [
        {
          "output_type": "stream",
          "name": "stdout",
          "text": [
            "\n",
            "Best PCA components: 2\n",
            "Accuracy after PCA-based feature reduction: 0.8333333333333334\n",
            "\n",
            "Classification Report:\n",
            "               precision    recall  f1-score   support\n",
            "\n",
            "     Changer       1.00      0.25      0.40         4\n",
            "   NoChanger       0.82      1.00      0.90        14\n",
            "\n",
            "    accuracy                           0.83        18\n",
            "   macro avg       0.91      0.62      0.65        18\n",
            "weighted avg       0.86      0.83      0.79        18\n",
            "\n",
            "\n",
            "Explained Variance by each principal component:\n",
            " [0.15562861 0.12757082]\n",
            "\n",
            "Number of principal components selected: 2\n",
            "\n",
            "Number of features after PCA-based reduction: 2\n"
          ]
        }
      ],
      "source": [
        "# Import required libraries\n",
        "import pandas as pd\n",
        "from sklearn.decomposition import PCA\n",
        "from sklearn.model_selection import train_test_split, GridSearchCV\n",
        "from sklearn.preprocessing import StandardScaler\n",
        "from sklearn.linear_model import LogisticRegression\n",
        "from sklearn.metrics import accuracy_score, classification_report\n",
        "\n",
        "# Extract features and target\n",
        "X = data.drop('Class', axis=1)\n",
        "y = data['Class']\n",
        "\n",
        "# Step 2: Normalize the data (Standardization)\n",
        "scaler = StandardScaler()\n",
        "X_scaled = scaler.fit_transform(X)\n",
        "\n",
        "# Step 3: Apply PCA with varying number of components to find the best number\n",
        "def tune_pca(X, y):\n",
        "    best_accuracy = 0\n",
        "    best_n_components = 0\n",
        "    best_model = None\n",
        "    best_pca = None\n",
        "\n",
        "    # Ensure we don't exceed the number of features or samples\n",
        "    for n_components in range(2, min(X.shape[1], X.shape[0]) + 1):\n",
        "        pca = PCA(n_components=n_components)\n",
        "        X_pca = pca.fit_transform(X)\n",
        "\n",
        "        # Split the data\n",
        "        X_train, X_test, y_train, y_test = train_test_split(X_pca, y, test_size=0.2, random_state=42)\n",
        "\n",
        "        # Train logistic regression with hyperparameter tuning\n",
        "        log_reg = LogisticRegression(max_iter=1000, random_state=42)\n",
        "        param_grid = {'C': [0.01, 0.1, 1, 10, 100]}  # Tuning the regularization strength\n",
        "        grid_search = GridSearchCV(log_reg, param_grid, cv=5)\n",
        "        grid_search.fit(X_train, y_train)\n",
        "\n",
        "        # Evaluate model performance\n",
        "        y_pred = grid_search.predict(X_test)\n",
        "        accuracy = accuracy_score(y_test, y_pred)\n",
        "\n",
        "        # If this model has better accuracy, store it\n",
        "        if accuracy > best_accuracy:\n",
        "            best_accuracy = accuracy\n",
        "            best_n_components = n_components\n",
        "            best_model = grid_search.best_estimator_\n",
        "            best_pca = pca\n",
        "\n",
        "    return best_model, best_pca, best_n_components, best_accuracy\n",
        "\n",
        "# Step 4: Tune PCA and logistic regression model\n",
        "best_model, best_pca, best_n_components, best_accuracy = tune_pca(X_scaled, y)\n",
        "\n",
        "# Step 5: Final evaluation with the best number of principal components\n",
        "X_final_pca = best_pca.transform(X_scaled)\n",
        "X_train, X_test, y_train, y_test = train_test_split(X_final_pca, y, test_size=0.2, random_state=42)\n",
        "\n",
        "best_model.fit(X_train, y_train)\n",
        "y_pred = best_model.predict(X_test)\n",
        "PCAfinal_r2_score = accuracy_score(y_test, y_pred)\n",
        "classification_report_output = classification_report(y_test, y_pred)\n",
        "\n",
        "# Step 6: Output results\n",
        "print(f\"\\nBest PCA components: {best_n_components}\")\n",
        "print(f\"Accuracy after PCA-based feature reduction: {PCAfinal_r2_score}\")\n",
        "print(\"\\nClassification Report:\\n\", classification_report_output)\n",
        "\n",
        "# Step 7: Print the explained variance ratio (which indicates the importance of each principal component)\n",
        "explained_variance = best_pca.explained_variance_ratio_\n",
        "print(\"\\nExplained Variance by each principal component:\\n\", explained_variance)\n",
        "\n",
        "# Step 8: Print the number of principal components (reduced features)\n",
        "print(f\"\\nNumber of principal components selected: {best_n_components}\")\n",
        "print(f\"\\nNumber of features after PCA-based reduction: {len(explained_variance)}\")\n"
      ]
    },
    {
      "cell_type": "code",
      "source": [
        "from sklearn.metrics import confusion_matrix\n",
        "import seaborn as sns\n",
        "import matplotlib.pyplot as plt\n",
        "\n",
        "# Step 9: Generate the confusion matrix\n",
        "conf_matrix = confusion_matrix(y_test, y_pred)\n",
        "\n",
        "# Print the confusion matrix\n",
        "print(\"\\nConfusion Matrix:\\n\", conf_matrix)\n",
        "\n",
        "# Plot the confusion matrix\n",
        "plt.figure(figsize=(8, 6))\n",
        "sns.heatmap(conf_matrix, annot=True, fmt=\"d\", cmap=\"Blues\", xticklabels=best_model.classes_, yticklabels=best_model.classes_)\n",
        "plt.xlabel('Predicted Label')\n",
        "plt.ylabel('True Label')\n",
        "plt.title('Confusion Matrix for Final PCA Model')\n",
        "plt.show()\n"
      ],
      "metadata": {
        "colab": {
          "base_uri": "https://localhost:8080/",
          "height": 633
        },
        "id": "HTEsSVx1dWo3",
        "outputId": "8d80a6a6-4d3d-4c8f-cbe8-71946aa5227f"
      },
      "id": "HTEsSVx1dWo3",
      "execution_count": 10,
      "outputs": [
        {
          "output_type": "stream",
          "name": "stdout",
          "text": [
            "\n",
            "Confusion Matrix:\n",
            " [[ 1  3]\n",
            " [ 0 14]]\n"
          ]
        },
        {
          "output_type": "display_data",
          "data": {
            "text/plain": [
              "<Figure size 800x600 with 2 Axes>"
            ],
            "image/png": "[encoded data removed]"
          },
          "metadata": {}
        }
      ]
    },
    {
      "cell_type": "markdown",
      "id": "2d85cda2",
      "metadata": {
        "id": "2d85cda2"
      },
      "source": [
        "## Applying Recursive Feature Elimination (RFE)"
      ]
    },
    {
      "cell_type": "code",
      "execution_count": 11,
      "id": "4dd3d5b4",
      "metadata": {
        "colab": {
          "base_uri": "https://localhost:8080/"
        },
        "id": "4dd3d5b4",
        "outputId": "8bf91063-9a83-4dd1-ad74-f162db710962"
      },
      "outputs": [
        {
          "output_type": "stream",
          "name": "stdout",
          "text": [
            "Selected features:\n",
            "['ATS4m', 'ATS5s', 'SdO', 'ATSC3v', 'ATSC7i', 'ATSC5v', 'ATS0m', 'VR1_Dzp', 'VR1_Dzv', 'VE3_D']\n",
            "Number of features selected by RFE: 10\n",
            "Accuracy after feature reduction with RFE: 0.6111111111111112\n",
            "\n",
            "Classification Report:\n",
            "               precision    recall  f1-score   support\n",
            "\n",
            "     Changer       0.29      0.50      0.36         4\n",
            "   NoChanger       0.82      0.64      0.72        14\n",
            "\n",
            "    accuracy                           0.61        18\n",
            "   macro avg       0.55      0.57      0.54        18\n",
            "weighted avg       0.70      0.61      0.64        18\n",
            "\n"
          ]
        }
      ],
      "source": [
        "# Import required libraries\n",
        "import pandas as pd\n",
        "from sklearn.model_selection import train_test_split, GridSearchCV\n",
        "from sklearn.preprocessing import StandardScaler\n",
        "from sklearn.linear_model import LogisticRegression\n",
        "from sklearn.metrics import accuracy_score, classification_report\n",
        "from sklearn.feature_selection import RFE\n",
        "\n",
        "# Extract features and target\n",
        "X = data.drop('Class', axis=1)\n",
        "y = data['Class']\n",
        "\n",
        "# Step 2: Normalize the data (Standardization)\n",
        "scaler = StandardScaler()\n",
        "X_scaled = scaler.fit_transform(X)\n",
        "\n",
        "# Step 3: Apply RFE to select features\n",
        "def perform_rfe(X, y):\n",
        "    model = LogisticRegression(max_iter=2000, solver='liblinear', random_state=42)  # Increased max_iter and changed solver\n",
        "\n",
        "    # Initialize RFE with logistic regression\n",
        "    rfe = RFE(estimator=model, n_features_to_select=10)  # Select top 10 features (adjust as needed)\n",
        "    rfe.fit(X, y)\n",
        "\n",
        "    # Get the selected features\n",
        "    selected_features = X.columns[rfe.support_]\n",
        "\n",
        "    return selected_features\n",
        "\n",
        "# Step 4: Perform RFE\n",
        "selected_features = perform_rfe(X, y)\n",
        "\n",
        "# Step 5: Prepare the final dataset with selected features\n",
        "X_selected = X[selected_features]\n",
        "\n",
        "# Step 6: Split the data into training and testing sets\n",
        "X_train, X_test, y_train, y_test = train_test_split(X_selected, y, test_size=0.2, random_state=42)\n",
        "\n",
        "# Step 7: Train the logistic regression model\n",
        "log_reg = LogisticRegression(max_iter=2000, solver='liblinear', random_state=42)  # Increased max_iter and changed solver\n",
        "log_reg.fit(X_train, y_train)\n",
        "\n",
        "# Step 8: Make predictions and evaluate the model\n",
        "y_pred = log_reg.predict(X_test)\n",
        "RFEfinal_r2_score = accuracy_score(y_test, y_pred)\n",
        "classification_report_output = classification_report(y_test, y_pred)\n",
        "\n",
        "# Step 9: Output results\n",
        "print(f\"Selected features:\\n{selected_features.tolist()}\")\n",
        "print(f\"Number of features selected by RFE: {len(selected_features)}\")\n",
        "print(f\"Accuracy after feature reduction with RFE: {RFEfinal_r2_score}\")\n",
        "print(\"\\nClassification Report:\\n\", classification_report_output)\n"
      ]
    },
    {
      "cell_type": "code",
      "source": [
        "from sklearn.metrics import confusion_matrix\n",
        "import seaborn as sns\n",
        "import matplotlib.pyplot as plt\n",
        "\n",
        "# Step 10: Generate the confusion matrix\n",
        "conf_matrix = confusion_matrix(y_test, y_pred)\n",
        "\n",
        "# Print the confusion matrix\n",
        "print(\"\\nConfusion Matrix:\\n\", conf_matrix)\n",
        "\n",
        "# Plot the confusion matrix\n",
        "plt.figure(figsize=(8, 6))\n",
        "sns.heatmap(conf_matrix, annot=True, fmt=\"d\", cmap=\"Blues\", xticklabels=log_reg.classes_, yticklabels=log_reg.classes_)\n",
        "plt.xlabel('Predicted Label')\n",
        "plt.ylabel('True Label')\n",
        "plt.title('Confusion Matrix for RFE Model')\n",
        "plt.show()\n"
      ],
      "metadata": {
        "colab": {
          "base_uri": "https://localhost:8080/",
          "height": 633
        },
        "id": "VrfNhm3fde87",
        "outputId": "fa721097-3832-4708-dad3-c930d5e37d09"
      },
      "id": "VrfNhm3fde87",
      "execution_count": 12,
      "outputs": [
        {
          "output_type": "stream",
          "name": "stdout",
          "text": [
            "\n",
            "Confusion Matrix:\n",
            " [[2 2]\n",
            " [5 9]]\n"
          ]
        },
        {
          "output_type": "display_data",
          "data": {
            "text/plain": [
              "<Figure size 800x600 with 2 Axes>"
            ],
            "image/png": "[encoded data removed]"
          },
          "metadata": {}
        }
      ]
    },
    {
      "cell_type": "markdown",
      "source": [
        "# Mutual Information Filter method"
      ],
      "metadata": {
        "id": "bDFAWSQ7qxt_"
      },
      "id": "bDFAWSQ7qxt_"
    },
    {
      "cell_type": "code",
      "source": [
        "# Import necessary libraries for filter-based selection\n",
        "from sklearn.feature_selection import mutual_info_classif\n",
        "\n",
        "# Step 10: Apply a filter method based on Mutual Information after RFE\n",
        "def apply_filter_method(X, y, n_features=5):\n",
        "    mi_scores = mutual_info_classif(X, y, random_state=42)\n",
        "    feature_indices = mi_scores.argsort()[-n_features:][::-1]  # Select top n_features\n",
        "    selected_features = X.columns[feature_indices]\n",
        "    return selected_features\n",
        "\n",
        "# Perform filter-based selection after RFE\n",
        "filter_selected_features = apply_filter_method(X[selected_features], y, n_features=5)\n",
        "\n",
        "# Final dataset with selected features from the filter method\n",
        "X_filter_selected = X[filter_selected_features]\n",
        "\n",
        "# Step 11: Split the data for model training and evaluation\n",
        "X_train, X_test, y_train, y_test = train_test_split(X_filter_selected, y, test_size=0.2, random_state=42)\n",
        "\n",
        "# Train a logistic regression model\n",
        "log_reg = LogisticRegression(max_iter=2000, solver='liblinear', random_state=42)\n",
        "log_reg.fit(X_train, y_train)\n",
        "\n",
        "# Evaluate the model performance\n",
        "y_pred = log_reg.predict(X_test)\n",
        "filter_r2_score = accuracy_score(y_test, y_pred)\n",
        "classification_report_output = classification_report(y_test, y_pred)\n",
        "\n",
        "# Output the results\n",
        "print(f\"Features selected by Filter Method:\\n{filter_selected_features.tolist()}\")\n",
        "print(f\"Number of features selected by Filter Method: {len(filter_selected_features)}\")\n",
        "print(f\"Accuracy after filter-based feature selection: {filter_r2_score}\")\n",
        "print(\"\\nClassification Report:\\n\", classification_report_output)\n"
      ],
      "metadata": {
        "colab": {
          "base_uri": "https://localhost:8080/"
        },
        "id": "SZyPFpWuqwTQ",
        "outputId": "1d5b5ae5-a23c-4ab4-9926-7c9d9bed32e9"
      },
      "id": "SZyPFpWuqwTQ",
      "execution_count": 13,
      "outputs": [
        {
          "output_type": "stream",
          "name": "stdout",
          "text": [
            "Features selected by Filter Method:\n",
            "['ATSC7i', 'SdO', 'VE3_D', 'VR1_Dzp', 'ATSC5v']\n",
            "Number of features selected by Filter Method: 5\n",
            "Accuracy after filter-based feature selection: 0.5\n",
            "\n",
            "Classification Report:\n",
            "               precision    recall  f1-score   support\n",
            "\n",
            "     Changer       0.14      0.25      0.18         4\n",
            "   NoChanger       0.73      0.57      0.64        14\n",
            "\n",
            "    accuracy                           0.50        18\n",
            "   macro avg       0.44      0.41      0.41        18\n",
            "weighted avg       0.60      0.50      0.54        18\n",
            "\n"
          ]
        }
      ]
    },
    {
      "cell_type": "code",
      "source": [
        "from sklearn.metrics import confusion_matrix\n",
        "import seaborn as sns\n",
        "import matplotlib.pyplot as plt\n",
        "\n",
        "# Step 12: Generate the confusion matrix\n",
        "conf_matrix = confusion_matrix(y_test, y_pred)\n",
        "\n",
        "# Print the confusion matrix\n",
        "print(\"\\nConfusion Matrix:\\n\", conf_matrix)\n",
        "\n",
        "# Plot the confusion matrix\n",
        "plt.figure(figsize=(8, 6))\n",
        "sns.heatmap(conf_matrix, annot=True, fmt=\"d\", cmap=\"Blues\", xticklabels=log_reg.classes_, yticklabels=log_reg.classes_)\n",
        "plt.xlabel('Predicted Label')\n",
        "plt.ylabel('True Label')\n",
        "plt.title('Confusion Matrix for Filter-Based Feature Selection')\n",
        "plt.show()\n"
      ],
      "metadata": {
        "colab": {
          "base_uri": "https://localhost:8080/",
          "height": 633
        },
        "id": "pMDE_um4dwrQ",
        "outputId": "c930824a-284c-4b1e-f626-47f1a949fa5e"
      },
      "id": "pMDE_um4dwrQ",
      "execution_count": 14,
      "outputs": [
        {
          "output_type": "stream",
          "name": "stdout",
          "text": [
            "\n",
            "Confusion Matrix:\n",
            " [[1 3]\n",
            " [6 8]]\n"
          ]
        },
        {
          "output_type": "display_data",
          "data": {
            "text/plain": [
              "<Figure size 800x600 with 2 Axes>"
            ],
            "image/png": "[encoded data removed]"
          },
          "metadata": {}
        }
      ]
    },
    {
      "cell_type": "markdown",
      "id": "80844cc3",
      "metadata": {
        "id": "80844cc3"
      },
      "source": [
        "## Model Performance Comparison and Visualization of Models"
      ]
    },
    {
      "cell_type": "code",
      "execution_count": 15,
      "id": "e412e766",
      "metadata": {
        "colab": {
          "base_uri": "https://localhost:8080/"
        },
        "id": "e412e766",
        "outputId": "ccad56b5-0723-4768-f6cb-b076e81c8e6a",
        "scrolled": true
      },
      "outputs": [
        {
          "output_type": "stream",
          "name": "stdout",
          "text": [
            "Model Performance Comparison:\n",
            "Baseline Model: R2 Score = 0.556, Features Used = 1177\n",
            "SDS Model: R2 Score = 0.778, Features Used = 20\n",
            "RFE Model: R2 Score = 0.611, Features Used = 10\n",
            "PCA Model: R2 Score = 0.833, Features Used = 2\n"
          ]
        }
      ],
      "source": [
        "# Baseline model accuracies and features\n",
        "baseline_r2 = r2_Baseline\n",
        "baseline_features = len(retained_columns)  # total features before any feature selection\n",
        "\n",
        "# SDS model accuracies and features\n",
        "sds_r2 = SDSfinal_r2_score\n",
        "sds_features = len(best_features)  # directly from the SDS output\n",
        "\n",
        "# RFE model accuracies and features\n",
        "rfe_r2 = RFEfinal_r2_score\n",
        "rfe_features = len(selected_features)  # from the RFECV model after fitting\n",
        "\n",
        "# PCA model accuracies and features\n",
        "pca_r2 = PCAfinal_r2_score\n",
        "pca_features = best_n_components  # number of features after applying PCA\n",
        "\n",
        "# Compile all the data into a dictionary for easier comparison\n",
        "model_performances = {\n",
        "    'Baseline': {'R2 Score': baseline_r2, 'Number of Features': baseline_features},\n",
        "    'SDS': {'R2 Score': sds_r2, 'Number of Features': sds_features},\n",
        "    'RFE': {'R2 Score': rfe_r2, 'Number of Features': rfe_features},\n",
        "    'PCA': {'R2 Score': pca_r2, 'Number of Features': pca_features}\n",
        "}\n",
        "\n",
        "# Display the comparison in a formatted way\n",
        "print(\"Model Performance Comparison:\")\n",
        "for model_name, metrics in model_performances.items():\n",
        "    print(f\"{model_name} Model: R2 Score = {metrics['R2 Score']:.3f}, Features Used = {metrics['Number of Features']}\")"
      ]
    },
    {
      "cell_type": "code",
      "source": [
        "# Filter method accuracies and features\n",
        "filter_r2 = filter_r2_score\n",
        "filter_features = len(filter_selected_features)\n",
        "\n",
        "# Add filter method to the performance comparison dictionary\n",
        "model_performances = {\n",
        "    'Baseline': {'R2 Score': baseline_r2, 'Number of Features': baseline_features},\n",
        "    'SDS': {'R2 Score': sds_r2, 'Number of Features': sds_features},\n",
        "    'RFE': {'R2 Score': rfe_r2, 'Number of Features': rfe_features},\n",
        "    'PCA': {'R2 Score': pca_r2, 'Number of Features': pca_features},\n",
        "    'Filter': {'R2 Score': filter_r2, 'Number of Features': filter_features}\n",
        "}\n",
        "\n",
        "# Display updated performance comparison\n",
        "print(\"Model Performance Comparison:\")\n",
        "for model_name, metrics in model_performances.items():\n",
        "    print(f\"{model_name} Model: Accuracy = {metrics['R2 Score']:.3f}, Features Used = {metrics['Number of Features']}\")\n"
      ],
      "metadata": {
        "colab": {
          "base_uri": "https://localhost:8080/"
        },
        "id": "zIhXNhakq71z",
        "outputId": "2d4195b3-93ab-42db-fba1-687e1605ecfd"
      },
      "id": "zIhXNhakq71z",
      "execution_count": 16,
      "outputs": [
        {
          "output_type": "stream",
          "name": "stdout",
          "text": [
            "Model Performance Comparison:\n",
            "Baseline Model: Accuracy = 0.556, Features Used = 1177\n",
            "SDS Model: Accuracy = 0.778, Features Used = 20\n",
            "RFE Model: Accuracy = 0.611, Features Used = 10\n",
            "PCA Model: Accuracy = 0.833, Features Used = 2\n",
            "Filter Model: Accuracy = 0.500, Features Used = 5\n"
          ]
        }
      ]
    },
    {
      "cell_type": "code",
      "source": [
        "\n",
        "import plotly.graph_objects as go\n",
        "\n",
        "# Assuming the model_performances dictionary is already defined\n",
        "model_performances = {\n",
        "    'Baseline': {'R2 Score': baseline_r2, 'Number of Features': baseline_features},\n",
        "    'SDS': {'R2 Score': sds_r2, 'Number of Features': sds_features},\n",
        "    'RFE': {'R2 Score': rfe_r2, 'Number of Features': rfe_features},\n",
        "    'PCA': {'R2 Score': pca_r2, 'Number of Features': pca_features},\n",
        "    'Filter': {'R2 Score': filter_r2, 'Number of Features': filter_features}\n",
        "}\n",
        "\n",
        "# Initialize the Plotly figure\n",
        "fig = go.Figure()\n",
        "\n",
        "# Add bar chart for R2 Scores\n",
        "fig.add_trace(go.Bar(\n",
        "    x=list(model_performances.keys()),\n",
        "    y=[data['R2 Score'] for data in model_performances.values()],\n",
        "    name='Accuracy(%)',\n",
        "    marker_color=[\"#FF7F0E\", \"#1F77B4\", \"#2CA02C\", \"#D62728\", \"#9467BD\"]\n",
        "))\n",
        "\n",
        "# Add line chart for Number of Features\n",
        "fig.add_trace(go.Scatter(\n",
        "    x=list(model_performances.keys()),\n",
        "    y=[data['Number of Features'] for data in model_performances.values()],\n",
        "    name='Number of Features',\n",
        "    yaxis='y2'\n",
        "))\n",
        "\n",
        "# Customize layout\n",
        "fig.update_layout(\n",
        "    title='Comparison of Model Performances (Updated with Filter Method)',\n",
        "    xaxis=dict(title='Model'),\n",
        "    yaxis=dict(title=' Accuracy(%)'),\n",
        "    yaxis2=dict(title='Number of Features', overlaying='y', side='right'),\n",
        "    legend=dict(\n",
        "        x=1.05,  # Position the legend to the right of the plot\n",
        "        y=1,\n",
        "        xanchor='left',\n",
        "        yanchor='top',\n",
        "        bordercolor=\"Black\",\n",
        "        borderwidth=1\n",
        "    )\n",
        ")\n",
        "\n",
        "# Show the plot\n",
        "fig.show()\n"
      ],
      "metadata": {
        "colab": {
          "base_uri": "https://localhost:8080/",
          "height": 542
        },
        "id": "BWkEdZu0rBav",
        "outputId": "f18a74b8-6a8c-4ba6-c70d-7219812329ea"
      },
      "id": "BWkEdZu0rBav",
      "execution_count": 17,
      "outputs": [
        {
          "output_type": "display_data",
          "data": {
            "text/html": [
              "<html>\n",
              "<head><meta charset=\"utf-8\" /></head>\n",
              "<body>\n",
              "    <div>            <script src=\"https://cdnjs.cloudflare.com/ajax/libs/mathjax/2.7.5/MathJax.js?config=TeX-AMS-MML_SVG\"></script><script type=\"text/javascript\">if (window.MathJax && window.MathJax.Hub && window.MathJax.Hub.Config) {window.MathJax.Hub.Config({SVG: {font: \"STIX-Web\"}});}</script>                <script type=\"text/javascript\">window.PlotlyConfig = {MathJaxConfig: 'local'};</script>\n",
              "        <script charset=\"utf-8\" src=\"https://cdn.plot.ly/plotly-2.35.2.min.js\"></script>                <div id=\"faa82a31-2eb4-405d-b7ab-aba6ca4d2d6e\" class=\"plotly-graph-div\" style=\"height:525px; width:100%;\"></div>            <script type=\"text/javascript\">                                    window.PLOTLYENV=window.PLOTLYENV || {};                                    if (document.getElementById(\"faa82a31-2eb4-405d-b7ab-aba6ca4d2d6e\")) {                    Plotly.newPlot(                        \"faa82a31-2eb4-405d-b7ab-aba6ca4d2d6e\",                        [{\"marker\":{\"color\":[\"#FF7F0E\",\"#1F77B4\",\"#2CA02C\",\"#D62728\",\"#9467BD\"]},\"name\":\"Accuracy(%)\",\"x\":[\"Baseline\",\"SDS\",\"RFE\",\"PCA\",\"Filter\"],\"y\":[0.5555555555555556,0.7777777777777778,0.6111111111111112,0.8333333333333334,0.5],\"type\":\"bar\"},{\"name\":\"Number of Features\",\"x\":[\"Baseline\",\"SDS\",\"RFE\",\"PCA\",\"Filter\"],\"y\":[1177,20,10,2,5],\"yaxis\":\"y2\",\"type\":\"scatter\"}],                        {\"template\":{\"data\":{\"histogram2dcontour\":[{\"type\":\"histogram2dcontour\",\"colorbar\":{\"outlinewidth\":0,\"ticks\":\"\"},\"colorscale\":[[0.0,\"#0d0887\"],[0.1111111111111111,\"#46039f\"],[0.2222222222222222,\"#7201a8\"],[0.3333333333333333,\"#9c179e\"],[0.4444444444444444,\"#bd3786\"],[0.5555555555555556,\"#d8576b\"],[0.6666666666666666,\"#ed7953\"],[0.7777777777777778,\"#fb9f3a\"],[0.8888888888888888,\"#fdca26\"],[1.0,\"#f0f921\"]]}],\"choropleth\":[{\"type\":\"choropleth\",\"colorbar\":{\"outlinewidth\":0,\"ticks\":\"\"}}],\"histogram2d\":[{\"type\":\"histogram2d\",\"colorbar\":{\"outlinewidth\":0,\"ticks\":\"\"},\"colorscale\":[[0.0,\"#0d0887\"],[0.1111111111111111,\"#46039f\"],[0.2222222222222222,\"#7201a8\"],[0.3333333333333333,\"#9c179e\"],[0.4444444444444444,\"#bd3786\"],[0.5555555555555556,\"#d8576b\"],[0.6666666666666666,\"#ed7953\"],[0.7777777777777778,\"#fb9f3a\"],[0.8888888888888888,\"#fdca26\"],[1.0,\"#f0f921\"]]}],\"heatmap\":[{\"type\":\"heatmap\",\"colorbar\":{\"outlinewidth\":0,\"ticks\":\"\"},\"colorscale\":[[0.0,\"#0d0887\"],[0.1111111111111111,\"#46039f\"],[0.2222222222222222,\"#7201a8\"],[0.3333333333333333,\"#9c179e\"],[0.4444444444444444,\"#bd3786\"],[0.5555555555555556,\"#d8576b\"],[0.6666666666666666,\"#ed7953\"],[0.7777777777777778,\"#fb9f3a\"],[0.8888888888888888,\"#fdca26\"],[1.0,\"#f0f921\"]]}],\"heatmapgl\":[{\"type\":\"heatmapgl\",\"colorbar\":{\"outlinewidth\":0,\"ticks\":\"\"},\"colorscale\":[[0.0,\"#0d0887\"],[0.1111111111111111,\"#46039f\"],[0.2222222222222222,\"#7201a8\"],[0.3333333333333333,\"#9c179e\"],[0.4444444444444444,\"#bd3786\"],[0.5555555555555556,\"#d8576b\"],[0.6666666666666666,\"#ed7953\"],[0.7777777777777778,\"#fb9f3a\"],[0.8888888888888888,\"#fdca26\"],[1.0,\"#f0f921\"]]}],\"contourcarpet\":[{\"type\":\"contourcarpet\",\"colorbar\":{\"outlinewidth\":0,\"ticks\":\"\"}}],\"contour\":[{\"type\":\"contour\",\"colorbar\":{\"outlinewidth\":0,\"ticks\":\"\"},\"colorscale\":[[0.0,\"#0d0887\"],[0.1111111111111111,\"#46039f\"],[0.2222222222222222,\"#7201a8\"],[0.3333333333333333,\"#9c179e\"],[0.4444444444444444,\"#bd3786\"],[0.5555555555555556,\"#d8576b\"],[0.6666666666666666,\"#ed7953\"],[0.7777777777777778,\"#fb9f3a\"],[0.8888888888888888,\"#fdca26\"],[1.0,\"#f0f921\"]]}],\"surface\":[{\"type\":\"surface\",\"colorbar\":{\"outlinewidth\":0,\"ticks\":\"\"},\"colorscale\":[[0.0,\"#0d0887\"],[0.1111111111111111,\"#46039f\"],[0.2222222222222222,\"#7201a8\"],[0.3333333333333333,\"#9c179e\"],[0.4444444444444444,\"#bd3786\"],[0.5555555555555556,\"#d8576b\"],[0.6666666666666666,\"#ed7953\"],[0.7777777777777778,\"#fb9f3a\"],[0.8888888888888888,\"#fdca26\"],[1.0,\"#f0f921\"]]}],\"mesh3d\":[{\"type\":\"mesh3d\",\"colorbar\":{\"outlinewidth\":0,\"ticks\":\"\"}}],\"scatter\":[{\"fillpattern\":{\"fillmode\":\"overlay\",\"size\":10,\"solidity\":0.2},\"type\":\"scatter\"}],\"parcoords\":[{\"type\":\"parcoords\",\"line\":{\"colorbar\":{\"outlinewidth\":0,\"ticks\":\"\"}}}],\"scatterpolargl\":[{\"type\":\"scatterpolargl\",\"marker\":{\"colorbar\":{\"outlinewidth\":0,\"ticks\":\"\"}}}],\"bar\":[{\"error_x\":{\"color\":\"#2a3f5f\"},\"error_y\":{\"color\":\"#2a3f5f\"},\"marker\":{\"line\":{\"color\":\"#E5ECF6\",\"width\":0.5},\"pattern\":{\"fillmode\":\"overlay\",\"size\":10,\"solidity\":0.2}},\"type\":\"bar\"}],\"scattergeo\":[{\"type\":\"scattergeo\",\"marker\":{\"colorbar\":{\"outlinewidth\":0,\"ticks\":\"\"}}}],\"scatterpolar\":[{\"type\":\"scatterpolar\",\"marker\":{\"colorbar\":{\"outlinewidth\":0,\"ticks\":\"\"}}}],\"histogram\":[{\"marker\":{\"pattern\":{\"fillmode\":\"overlay\",\"size\":10,\"solidity\":0.2}},\"type\":\"histogram\"}],\"scattergl\":[{\"type\":\"scattergl\",\"marker\":{\"colorbar\":{\"outlinewidth\":0,\"ticks\":\"\"}}}],\"scatter3d\":[{\"type\":\"scatter3d\",\"line\":{\"colorbar\":{\"outlinewidth\":0,\"ticks\":\"\"}},\"marker\":{\"colorbar\":{\"outlinewidth\":0,\"ticks\":\"\"}}}],\"scattermapbox\":[{\"type\":\"scattermapbox\",\"marker\":{\"colorbar\":{\"outlinewidth\":0,\"ticks\":\"\"}}}],\"scatterternary\":[{\"type\":\"scatterternary\",\"marker\":{\"colorbar\":{\"outlinewidth\":0,\"ticks\":\"\"}}}],\"scattercarpet\":[{\"type\":\"scattercarpet\",\"marker\":{\"colorbar\":{\"outlinewidth\":0,\"ticks\":\"\"}}}],\"carpet\":[{\"aaxis\":{\"endlinecolor\":\"#2a3f5f\",\"gridcolor\":\"white\",\"linecolor\":\"white\",\"minorgridcolor\":\"white\",\"startlinecolor\":\"#2a3f5f\"},\"baxis\":{\"endlinecolor\":\"#2a3f5f\",\"gridcolor\":\"white\",\"linecolor\":\"white\",\"minorgridcolor\":\"white\",\"startlinecolor\":\"#2a3f5f\"},\"type\":\"carpet\"}],\"table\":[{\"cells\":{\"fill\":{\"color\":\"#EBF0F8\"},\"line\":{\"color\":\"white\"}},\"header\":{\"fill\":{\"color\":\"#C8D4E3\"},\"line\":{\"color\":\"white\"}},\"type\":\"table\"}],\"barpolar\":[{\"marker\":{\"line\":{\"color\":\"#E5ECF6\",\"width\":0.5},\"pattern\":{\"fillmode\":\"overlay\",\"size\":10,\"solidity\":0.2}},\"type\":\"barpolar\"}],\"pie\":[{\"automargin\":true,\"type\":\"pie\"}]},\"layout\":{\"autotypenumbers\":\"strict\",\"colorway\":[\"#636efa\",\"#EF553B\",\"#00cc96\",\"#ab63fa\",\"#FFA15A\",\"#19d3f3\",\"#FF6692\",\"#B6E880\",\"#FF97FF\",\"#FECB52\"],\"font\":{\"color\":\"#2a3f5f\"},\"hovermode\":\"closest\",\"hoverlabel\":{\"align\":\"left\"},\"paper_bgcolor\":\"white\",\"plot_bgcolor\":\"#E5ECF6\",\"polar\":{\"bgcolor\":\"#E5ECF6\",\"angularaxis\":{\"gridcolor\":\"white\",\"linecolor\":\"white\",\"ticks\":\"\"},\"radialaxis\":{\"gridcolor\":\"white\",\"linecolor\":\"white\",\"ticks\":\"\"}},\"ternary\":{\"bgcolor\":\"#E5ECF6\",\"aaxis\":{\"gridcolor\":\"white\",\"linecolor\":\"white\",\"ticks\":\"\"},\"baxis\":{\"gridcolor\":\"white\",\"linecolor\":\"white\",\"ticks\":\"\"},\"caxis\":{\"gridcolor\":\"white\",\"linecolor\":\"white\",\"ticks\":\"\"}},\"coloraxis\":{\"colorbar\":{\"outlinewidth\":0,\"ticks\":\"\"}},\"colorscale\":{\"sequential\":[[0.0,\"#0d0887\"],[0.1111111111111111,\"#46039f\"],[0.2222222222222222,\"#7201a8\"],[0.3333333333333333,\"#9c179e\"],[0.4444444444444444,\"#bd3786\"],[0.5555555555555556,\"#d8576b\"],[0.6666666666666666,\"#ed7953\"],[0.7777777777777778,\"#fb9f3a\"],[0.8888888888888888,\"#fdca26\"],[1.0,\"#f0f921\"]],\"sequentialminus\":[[0.0,\"#0d0887\"],[0.1111111111111111,\"#46039f\"],[0.2222222222222222,\"#7201a8\"],[0.3333333333333333,\"#9c179e\"],[0.4444444444444444,\"#bd3786\"],[0.5555555555555556,\"#d8576b\"],[0.6666666666666666,\"#ed7953\"],[0.7777777777777778,\"#fb9f3a\"],[0.8888888888888888,\"#fdca26\"],[1.0,\"#f0f921\"]],\"diverging\":[[0,\"#8e0152\"],[0.1,\"#c51b7d\"],[0.2,\"#de77ae\"],[0.3,\"#f1b6da\"],[0.4,\"#fde0ef\"],[0.5,\"#f7f7f7\"],[0.6,\"#e6f5d0\"],[0.7,\"#b8e186\"],[0.8,\"#7fbc41\"],[0.9,\"#4d9221\"],[1,\"#276419\"]]},\"xaxis\":{\"gridcolor\":\"white\",\"linecolor\":\"white\",\"ticks\":\"\",\"title\":{\"standoff\":15},\"zerolinecolor\":\"white\",\"automargin\":true,\"zerolinewidth\":2},\"yaxis\":{\"gridcolor\":\"white\",\"linecolor\":\"white\",\"ticks\":\"\",\"title\":{\"standoff\":15},\"zerolinecolor\":\"white\",\"automargin\":true,\"zerolinewidth\":2},\"scene\":{\"xaxis\":{\"backgroundcolor\":\"#E5ECF6\",\"gridcolor\":\"white\",\"linecolor\":\"white\",\"showbackground\":true,\"ticks\":\"\",\"zerolinecolor\":\"white\",\"gridwidth\":2},\"yaxis\":{\"backgroundcolor\":\"#E5ECF6\",\"gridcolor\":\"white\",\"linecolor\":\"white\",\"showbackground\":true,\"ticks\":\"\",\"zerolinecolor\":\"white\",\"gridwidth\":2},\"zaxis\":{\"backgroundcolor\":\"#E5ECF6\",\"gridcolor\":\"white\",\"linecolor\":\"white\",\"showbackground\":true,\"ticks\":\"\",\"zerolinecolor\":\"white\",\"gridwidth\":2}},\"shapedefaults\":{\"line\":{\"color\":\"#2a3f5f\"}},\"annotationdefaults\":{\"arrowcolor\":\"#2a3f5f\",\"arrowhead\":0,\"arrowwidth\":1},\"geo\":{\"bgcolor\":\"white\",\"landcolor\":\"#E5ECF6\",\"subunitcolor\":\"white\",\"showland\":true,\"showlakes\":true,\"lakecolor\":\"white\"},\"title\":{\"x\":0.05},\"mapbox\":{\"style\":\"light\"}}},\"yaxis2\":{\"title\":{\"text\":\"Number of Features\"},\"overlaying\":\"y\",\"side\":\"right\"},\"legend\":{\"x\":1.05,\"y\":1,\"xanchor\":\"left\",\"yanchor\":\"top\",\"bordercolor\":\"Black\",\"borderwidth\":1},\"title\":{\"text\":\"Comparison of Model Performances (Updated with Filter Method)\"},\"xaxis\":{\"title\":{\"text\":\"Model\"}},\"yaxis\":{\"title\":{\"text\":\" Accuracy(%)\"}}},                        {\"responsive\": true}                    ).then(function(){\n",
              "                            \n",
              "var gd = document.getElementById('faa82a31-2eb4-405d-b7ab-aba6ca4d2d6e');\n",
              "var x = new MutationObserver(function (mutations, observer) {{\n",
              "        var display = window.getComputedStyle(gd).display;\n",
              "        if (!display || display === 'none') {{\n",
              "            console.log([gd, 'removed!']);\n",
              "            Plotly.purge(gd);\n",
              "            observer.disconnect();\n",
              "        }}\n",
              "}});\n",
              "\n",
              "// Listen for the removal of the full notebook cells\n",
              "var notebookContainer = gd.closest('#notebook-container');\n",
              "if (notebookContainer) {{\n",
              "    x.observe(notebookContainer, {childList: true});\n",
              "}}\n",
              "\n",
              "// Listen for the clearing of the current output cell\n",
              "var outputEl = gd.closest('.output');\n",
              "if (outputEl) {{\n",
              "    x.observe(outputEl, {childList: true});\n",
              "}}\n",
              "\n",
              "                        })                };                            </script>        </div>\n",
              "</body>\n",
              "</html>"
            ]
          },
          "metadata": {}
        }
      ]
    }
  ],
  "metadata": {
    "colab": {
      "provenance": []
    },
    "kernelspec": {
      "display_name": "Python 3 (ipykernel)",
      "language": "python",
      "name": "python3"
    },
    "language_info": {
      "codemirror_mode": {
        "name": "ipython",
        "version": 3
      },
      "file_extension": ".py",
      "mimetype": "text/x-python",
      "name": "python",
      "nbconvert_exporter": "python",
      "pygments_lexer": "ipython3",
      "version": "3.12.4"
    }
  },
  "nbformat": 4,
  "nbformat_minor": 5
}