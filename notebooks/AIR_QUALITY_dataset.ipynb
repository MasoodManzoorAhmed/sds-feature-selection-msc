{
  "nbformat": 4,
  "nbformat_minor": 0,
  "metadata": {
    "colab": {
      "provenance": []
    },
    "kernelspec": {
      "name": "python3",
      "display_name": "Python 3"
    },
    "language_info": {
      "name": "python"
    }
  },
  "cells": [
    {
      "cell_type": "markdown",
      "source": [
        "# Air Quality Dataset"
      ],
      "metadata": {
        "id": "stW1bqKDwUTl"
      }
    },
    {
      "cell_type": "markdown",
      "source": [
        "## Data Exploration"
      ],
      "metadata": {
        "id": "-lQV-_SZwY1n"
      }
    },
    {
      "cell_type": "code",
      "execution_count": 1,
      "metadata": {
        "id": "vGWcurjVBfFv"
      },
      "outputs": [],
      "source": [
        "import pandas as pd\n",
        "import numpy as np\n",
        "import matplotlib.pyplot as plt\n",
        "from sklearn.model_selection import train_test_split\n",
        "from sklearn.linear_model import LinearRegression\n",
        "from sklearn.metrics import mean_squared_error, r2_score"
      ]
    },
    {
      "cell_type": "code",
      "source": [
        "# Load the data\n",
        "from google.colab import drive\n",
        "drive.mount('/content/drive')\n",
        "file_path = '/content/AirQualityUCI.xlsx'\n",
        "air_quality_data = pd.read_excel(file_path)"
      ],
      "metadata": {
        "id": "7_Ou6hoIFJFN",
        "colab": {
          "base_uri": "https://localhost:8080/"
        },
        "outputId": "aedfb6a1-5d42-4f5e-c6b6-15801fd72844"
      },
      "execution_count": 2,
      "outputs": [
        {
          "output_type": "stream",
          "name": "stdout",
          "text": [
            "Mounted at /content/drive\n"
          ]
        }
      ]
    },
    {
      "cell_type": "code",
      "source": [
        "air_quality_data.replace(-200, pd.NA, inplace=True)\n",
        "numeric_columns = air_quality_data.select_dtypes(include=['number']).columns"
      ],
      "metadata": {
        "id": "kUdOm9xIFOc6"
      },
      "execution_count": 3,
      "outputs": []
    },
    {
      "cell_type": "markdown",
      "source": [
        "## Optimization"
      ],
      "metadata": {
        "id": "7KIr2x7xylTp"
      }
    },
    {
      "cell_type": "code",
      "source": [
        "# Check for duplicate rows in the dataset\n",
        "duplicates = air_quality_data.duplicated()\n",
        "\n",
        "# Count the number of duplicate rows\n",
        "num_duplicates = duplicates.sum()\n",
        "\n",
        "# Display whether duplicates exist and how many\n",
        "if num_duplicates > 0:\n",
        "    print(f\"Number of duplicate rows: {num_duplicates}\")\n",
        "    #  display the duplicate rows\n",
        "    print(air_quality_data[duplicates])\n",
        "else:\n",
        "    print(\"No duplicate rows found in the dataset.\")\n"
      ],
      "metadata": {
        "colab": {
          "base_uri": "https://localhost:8080/"
        },
        "id": "dSrPT7AkOjw8",
        "outputId": "63c2c442-0077-4f09-8466-671fc9eeb8ea"
      },
      "execution_count": 4,
      "outputs": [
        {
          "output_type": "stream",
          "name": "stdout",
          "text": [
            "No duplicate rows found in the dataset.\n"
          ]
        }
      ]
    },
    {
      "cell_type": "code",
      "source": [
        "# Impute missing values with the median of each numeric column\n",
        "for column in numeric_columns:\n",
        "    median_value = air_quality_data[column].median(skipna=True)\n",
        "    air_quality_data[column].fillna(median_value, inplace=True)"
      ],
      "metadata": {
        "id": "P1fV-9lTFPTh"
      },
      "execution_count": 5,
      "outputs": []
    },
    {
      "cell_type": "code",
      "source": [
        "# Convert 'Date' and 'Time' to datetime and remove original columns\n",
        "air_quality_data['DateTime'] = pd.to_datetime(air_quality_data['Date'].astype(str) + ' ' + air_quality_data['Time'].astype(str))\n",
        "air_quality_data.drop(['Date', 'Time'], axis=1, inplace=True)\n",
        "air_quality_data.dropna(inplace=True)"
      ],
      "metadata": {
        "id": "6t0tYU67FReg"
      },
      "execution_count": 6,
      "outputs": []
    },
    {
      "cell_type": "markdown",
      "source": [
        "## Baseline Model Creation"
      ],
      "metadata": {
        "id": "FPrEW91ywlNJ"
      }
    },
    {
      "cell_type": "code",
      "source": [
        "# Define the target variable and the features\n",
        "X = air_quality_data.drop(['NO2(GT)', 'DateTime'], axis=1)\n",
        "y = air_quality_data['NO2(GT)']\n",
        "\n",
        "# Splitting the dataset\n",
        "X_train, X_test, y_train, y_test = train_test_split(X, y, test_size=0.2, random_state=42)\n",
        "\n",
        "# Create and train the linear regression model\n",
        "model = LinearRegression()\n",
        "model.fit(X_train, y_train)\n",
        "\n",
        "# Predicting values\n",
        "y_train_pred = model.predict(X_train)\n",
        "y_test_pred = model.predict(X_test)\n",
        "\n",
        "# Evaluating the model\n",
        "train_mse = mean_squared_error(y_train, y_train_pred)\n",
        "train_r2 = r2_score(y_train, y_train_pred)\n",
        "test_mse = mean_squared_error(y_test, y_test_pred)\n",
        "test_r2 = r2_score(y_test, y_test_pred)\n",
        "\n",
        "# Printing out the performance metrics\n",
        "print(\"Baseline Training Data - Mean Squared Error:\", train_mse)\n",
        "print(\"Baseline Training Data - R^2 Score:\", train_r2)\n",
        "print(\"Baseline Testing Data - Mean Squared Error:\", test_mse)\n",
        "print(\"Baseline Testing Data - R^2 Score:\", test_r2)\n",
        "\n",
        "# Calculate and display the baseline R² score\n",
        "baseline_r2 = (train_r2 + test_r2) / 2\n",
        "print(\"Baseline R² Score:\", baseline_r2)"
      ],
      "metadata": {
        "colab": {
          "base_uri": "https://localhost:8080/"
        },
        "id": "1VS4YjWgFV6n",
        "outputId": "91784769-052f-436c-f464-5809b90e70d2"
      },
      "execution_count": 7,
      "outputs": [
        {
          "output_type": "stream",
          "name": "stdout",
          "text": [
            "Baseline Training Data - Mean Squared Error: 126.09249383052888\n",
            "Baseline Training Data - R^2 Score: 0.8697218904819313\n",
            "Baseline Testing Data - Mean Squared Error: 133.17840399888428\n",
            "Baseline Testing Data - R^2 Score: 0.8767061510322511\n",
            "Baseline R² Score: 0.8732140207570912\n"
          ]
        }
      ]
    },
    {
      "cell_type": "markdown",
      "source": [
        "## Applying Stochastic Diffusion Search (SDS)\n",
        "\n"
      ],
      "metadata": {
        "id": "CaIrsR6lGIqw"
      }
    },
    {
      "cell_type": "code",
      "source": [
        "import pandas as pd\n",
        "import numpy as np\n",
        "from sklearn.model_selection import train_test_split, cross_val_score\n",
        "from sklearn.linear_model import LinearRegression\n",
        "from sklearn.metrics import r2_score\n",
        "\n",
        "# Define fitness function for SDS\n",
        "def sds_evaluate_fitness(X, y, feature_subset):\n",
        "    if len(feature_subset) == 0:\n",
        "        return float('-inf')  # Avoid empty feature set\n",
        "    X_subset = X.iloc[:, feature_subset]\n",
        "    sds_model = LinearRegression()\n",
        "    # Using cross-validation to assess model performance\n",
        "    cv_scores = cross_val_score(sds_model, X_subset, y, cv=5, scoring='r2')\n",
        "    return np.mean(cv_scores)  # Return the average R² score across folds\n",
        "\n",
        "# Initialize agents with random subsets of features for SDS\n",
        "num_agents = 20\n",
        "num_features = X.shape[1]\n",
        "sds_agents = [np.random.choice([0, 1], size=num_features, p=[0.5, 0.5]) for _ in range(num_agents)]\n",
        "sds_best_global_fitness = float('-inf')\n",
        "sds_best_feature_subset = None\n",
        "\n",
        "# Iterative search for the best feature subset in SDS\n",
        "for iteration in range(200):\n",
        "    for i, agent in enumerate(sds_agents):\n",
        "        active_features = np.where(agent == 1)[0]\n",
        "        fitness = sds_evaluate_fitness(X, y, active_features)\n",
        "        if fitness > sds_best_global_fitness:\n",
        "            sds_best_global_fitness = fitness\n",
        "            sds_best_feature_subset = agent.copy()\n",
        "\n",
        "    # Communicate and update agents in SDS\n",
        "    for i in range(num_agents):\n",
        "        if np.random.rand() < 0.3:\n",
        "            new_agent = np.random.choice([0, 1], size=num_features, p=[0.8, 0.2])\n",
        "            new_agent[np.where(sds_best_feature_subset == 1)] = 1\n",
        "            sds_agents[i] = new_agent\n",
        "\n",
        "# Ensure the number of features does not exceed 20 in the SDS model\n",
        "if np.sum(sds_best_feature_subset) > 20:\n",
        "    top_features = np.argsort(sds_best_feature_subset)[-20:]  # Get indices of top 20 features\n",
        "    sds_best_feature_subset = np.zeros_like(sds_best_feature_subset)\n",
        "    sds_best_feature_subset[top_features] = 1\n",
        "\n",
        "# Retrain the final model with the best features from SDS\n",
        "if sds_best_feature_subset is not None:\n",
        "    X_best = X.iloc[:, sds_best_feature_subset == 1]\n",
        "    X_train, X_test, y_train, y_test = train_test_split(X_best, y, test_size=0.2, random_state=42)\n",
        "    sds_final_model = LinearRegression()\n",
        "    sds_final_model.fit(X_train, y_train)\n",
        "    sds_final_train_r2 = r2_score(y_train, sds_final_model.predict(X_train))\n",
        "    sds_final_test_r2 = r2_score(y_test, sds_final_model.predict(X_test))\n",
        "    print(\"SDS Final R^2 with Best Features - Training:\", sds_final_train_r2)\n",
        "    print(\"SDS Final R^2 with Best Features - Testing:\", sds_final_test_r2)\n",
        "    print(\"SDS Features Used:\", list(X.columns[sds_best_feature_subset == 1]))\n",
        "    print(\"SDS Number of Features Used:\", np.sum(sds_best_feature_subset))\n",
        "\n",
        "# Calculate and display the SDS R² score\n",
        "sds_r2 = (sds_final_train_r2 + sds_final_test_r2) / 2\n",
        "print(\"SDS R² Score:\", sds_r2)"
      ],
      "metadata": {
        "colab": {
          "base_uri": "https://localhost:8080/"
        },
        "id": "n3X-Amu2AsHi",
        "outputId": "c2ee752e-c359-4053-f6df-4b5a745280a6"
      },
      "execution_count": 8,
      "outputs": [
        {
          "output_type": "stream",
          "name": "stdout",
          "text": [
            "SDS Final R^2 with Best Features - Training: 0.8659415038841116\n",
            "SDS Final R^2 with Best Features - Testing: 0.8725713660330463\n",
            "SDS Features Used: ['CO(GT)', 'PT08.S1(CO)', 'NMHC(GT)', 'C6H6(GT)', 'PT08.S2(NMHC)', 'NOx(GT)', 'PT08.S4(NO2)', 'PT08.S5(O3)', 'RH']\n",
            "SDS Number of Features Used: 9\n",
            "SDS R² Score: 0.869256434958579\n"
          ]
        }
      ]
    },
    {
      "cell_type": "markdown",
      "source": [
        "## Applying Recursive Feature Elimination (RFE)"
      ],
      "metadata": {
        "id": "8YDIgDavB8ix"
      }
    },
    {
      "cell_type": "code",
      "source": [
        "import pandas as pd\n",
        "import numpy as np\n",
        "from sklearn.model_selection import train_test_split, KFold, cross_val_score\n",
        "from sklearn.linear_model import LinearRegression\n",
        "from sklearn.feature_selection import RFECV\n",
        "from sklearn.metrics import mean_squared_error, r2_score\n",
        "\n",
        "# Define the feature selection model using Recursive Feature Elimination with Cross-Validation (RFECV)\n",
        "rfe_model = LinearRegression()\n",
        "rfe_rfecv = RFECV(estimator=rfe_model, step=1, cv=KFold(5), scoring='r2')\n",
        "rfe_rfecv.fit(X, y)\n",
        "\n",
        "# Display the optimal number of features and the best features selected\n",
        "print(\"Optimal number of features : %d\" % rfe_rfecv.n_features_)\n",
        "print('Best features:', X.columns[rfe_rfecv.support_])\n",
        "\n",
        "# Transform the dataset to include only selected features\n",
        "X_selected = rfe_rfecv.transform(X)\n",
        "X_train_rfe, X_test_rfe, y_train_rfe, y_test_rfe = train_test_split(X_selected, y, test_size=0.2, random_state=42)\n",
        "\n",
        "# Fit the model on the reduced dataset and predict\n",
        "rfe_model.fit(X_train_rfe, y_train_rfe)\n",
        "rfe_y_pred = rfe_model.predict(X_test_rfe)\n",
        "rfe_r2 = r2_score(y_test_rfe, rfe_y_pred)\n",
        "\n",
        "# Print the R^2 score to evaluate the performance of the model with selected features\n",
        "print(\"RFE Model R^2 Score with Selected Features:\", rfe_r2)\n"
      ],
      "metadata": {
        "colab": {
          "base_uri": "https://localhost:8080/"
        },
        "id": "450RLBAm-1Mg",
        "outputId": "d0727ec5-3330-48f1-c242-fefb43fad26f"
      },
      "execution_count": 9,
      "outputs": [
        {
          "output_type": "stream",
          "name": "stdout",
          "text": [
            "Optimal number of features : 9\n",
            "Best features: Index(['CO(GT)', 'PT08.S1(CO)', 'C6H6(GT)', 'PT08.S2(NMHC)', 'NOx(GT)',\n",
            "       'PT08.S4(NO2)', 'T', 'RH', 'AH'],\n",
            "      dtype='object')\n",
            "RFE Model R^2 Score with Selected Features: 0.8732760916504243\n"
          ]
        }
      ]
    },
    {
      "cell_type": "markdown",
      "source": [
        "## Applying Principal Component Analysis (PCA)"
      ],
      "metadata": {
        "id": "jMkd4WtfC58V"
      }
    },
    {
      "cell_type": "code",
      "source": [
        "import pandas as pd\n",
        "import numpy as np\n",
        "from sklearn.decomposition import PCA\n",
        "from sklearn.preprocessing import StandardScaler\n",
        "from sklearn.model_selection import train_test_split\n",
        "from sklearn.linear_model import LinearRegression\n",
        "from sklearn.metrics import mean_squared_error, r2_score\n",
        "\n",
        "# Standardizing the features with PCA-specific prefix\n",
        "pca_scaler = StandardScaler()\n",
        "X_scaled_pca = pca_scaler.fit_transform(X)\n",
        "\n",
        "# Applying PCA\n",
        "pca = PCA(n_components=0.95)  # Preserve 95% of the variance\n",
        "X_pca = pca.fit_transform(X_scaled_pca)\n",
        "print(f\"Reduced number of features from {X.shape[1]} to {X_pca.shape[1]} with PCA.\")\n",
        "\n",
        "# Splitting the dataset\n",
        "X_train_pca, X_test_pca, y_train_pca, y_test_pca = train_test_split(X_pca, y, test_size=0.2, random_state=42)\n",
        "\n",
        "# Creating and training the linear regression model specific to PCA\n",
        "pca_model = LinearRegression()\n",
        "pca_model.fit(X_train_pca, y_train_pca)\n",
        "\n",
        "# Predicting and evaluating the PCA model\n",
        "pca_y_pred = pca_model.predict(X_test_pca)\n",
        "pca_mse = mean_squared_error(y_test_pca, pca_y_pred)\n",
        "pca_r2 = r2_score(y_test_pca, pca_y_pred)\n",
        "\n",
        "# Printing out PCA-specific performance metrics\n",
        "print(f\"PCA Model MSE: {pca_mse}\")\n",
        "print(f\"PCA Model R^2 Score: {pca_r2}\")\n"
      ],
      "metadata": {
        "colab": {
          "base_uri": "https://localhost:8080/"
        },
        "id": "JGbiM3tSB-kM",
        "outputId": "5e27f921-20d8-487d-b285-6155a3d28e86"
      },
      "execution_count": 10,
      "outputs": [
        {
          "output_type": "stream",
          "name": "stdout",
          "text": [
            "Reduced number of features from 12 to 4 with PCA.\n",
            "PCA Model MSE: 170.33831723867542\n",
            "PCA Model R^2 Score: 0.8423042615886756\n"
          ]
        }
      ]
    },
    {
      "cell_type": "markdown",
      "source": [
        "# Applying Filter Method - Mutual Information"
      ],
      "metadata": {
        "id": "tiXrK7t3PLCz"
      }
    },
    {
      "cell_type": "code",
      "source": [
        "from sklearn.feature_selection import mutual_info_regression\n",
        "import pandas as pd\n",
        "import numpy as np\n",
        "from sklearn.model_selection import train_test_split\n",
        "from sklearn.linear_model import LinearRegression\n",
        "from sklearn.metrics import mean_squared_error, r2_score\n",
        "import matplotlib.pyplot as plt\n",
        "\n",
        "# Calculate Mutual Information Scores\n",
        "mi_scores = mutual_info_regression(X, y, random_state=42)\n",
        "mi_scores_series = pd.Series(mi_scores, index=X.columns)\n",
        "\n",
        "# Rank features by Mutual Information scores\n",
        "mi_scores_sorted = mi_scores_series.sort_values(ascending=False)\n",
        "print(\"Top 10 Features by Mutual Information:\\n\", mi_scores_sorted.head(10))\n",
        "\n",
        "# Plot Mutual Information Scores\n",
        "plt.figure(figsize=(12, 6))\n",
        "mi_scores_sorted.plot(kind='bar')\n",
        "plt.title('Mutual Information Scores for Features')\n",
        "plt.xlabel('Features')\n",
        "plt.ylabel('Mutual Information Score')\n",
        "plt.show()\n",
        "\n",
        "# Select the top N features based on MI scores\n",
        "N = 8\n",
        "top_features = mi_scores_sorted.head(N).index\n",
        "X_top_mi = X[top_features]\n",
        "\n",
        "# Split the dataset using selected features\n",
        "X_train_mi, X_test_mi, y_train_mi, y_test_mi = train_test_split(X_top_mi, y, test_size=0.2, random_state=42)\n",
        "\n",
        "# Create and train the linear regression model with MI-selected features\n",
        "mi_model = LinearRegression()\n",
        "mi_model.fit(X_train_mi, y_train_mi)\n",
        "\n",
        "# Predicting values\n",
        "mi_y_train_pred = mi_model.predict(X_train_mi)\n",
        "mi_y_test_pred = mi_model.predict(X_test_mi)\n",
        "\n",
        "# Evaluate the model\n",
        "mi_train_mse = mean_squared_error(y_train_mi, mi_y_train_pred)\n",
        "mi_train_r2 = r2_score(y_train_mi, mi_y_train_pred)\n",
        "mi_test_mse = mean_squared_error(y_test_mi, mi_y_test_pred)\n",
        "mi_test_r2 = r2_score(y_test_mi, mi_y_test_pred)\n",
        "\n",
        "# Print out the performance metrics\n",
        "print(f\"\\nMutual Information Model - Training Mean Squared Error: {mi_train_mse:.3f}\")\n",
        "print(f\"Mutual Information Model - Training R² Score: {mi_train_r2:.3f}\")\n",
        "print(f\"Mutual Information Model - Testing Mean Squared Error: {mi_test_mse:.3f}\")\n",
        "print(f\"Mutual Information Model - Testing R² Score: {mi_test_r2:.3f}\")\n",
        "\n",
        "# Calculate and display the Mutual Information R² score\n",
        "mi_r2 = (mi_train_r2 + mi_test_r2) / 2\n",
        "print(\"Mutual Information R² Score:\", mi_r2)\n"
      ],
      "metadata": {
        "colab": {
          "base_uri": "https://localhost:8080/",
          "height": 972
        },
        "id": "b6F9akGfPU_M",
        "outputId": "f35e9cb9-30cc-42b6-a6c8-b7e5afeb1412"
      },
      "execution_count": 11,
      "outputs": [
        {
          "output_type": "stream",
          "name": "stdout",
          "text": [
            "Top 10 Features by Mutual Information:\n",
            " NOx(GT)          1.039843\n",
            "CO(GT)           0.955299\n",
            "PT08.S2(NMHC)    0.865751\n",
            "C6H6(GT)         0.848971\n",
            "PT08.S1(CO)      0.770515\n",
            "PT08.S5(O3)      0.686589\n",
            "PT08.S4(NO2)     0.619840\n",
            "NMHC(GT)         0.606144\n",
            "PT08.S3(NOx)     0.594316\n",
            "T                0.089468\n",
            "dtype: float64\n"
          ]
        },
        {
          "output_type": "display_data",
          "data": {
            "text/plain": [
              "<Figure size 1200x600 with 1 Axes>"
            ],
            "image/png": "[encoded data removed]"
          },
          "metadata": {}
        },
        {
          "output_type": "stream",
          "name": "stdout",
          "text": [
            "\n",
            "Mutual Information Model - Training Mean Squared Error: 131.258\n",
            "Mutual Information Model - Training R² Score: 0.864\n",
            "Mutual Information Model - Testing Mean Squared Error: 138.190\n",
            "Mutual Information Model - Testing R² Score: 0.872\n",
            "Mutual Information R² Score: 0.8682255800947729\n"
          ]
        }
      ]
    },
    {
      "cell_type": "markdown",
      "source": [
        "# Model Performance Comparison and Visualization of Models"
      ],
      "metadata": {
        "id": "x8UI4q2sdkDR"
      }
    },
    {
      "cell_type": "code",
      "source": [
        "# Ensure that the accuracy and feature counts have been stored correctly in these variables\n",
        "\n",
        "baseline_r2 = baseline_r2\n",
        "baseline_features = X.shape[1]  # total features before any feature selection\n",
        "\n",
        "# SDS model accuracies and features\n",
        "\n",
        "sds_r2 = sds_r2  # this should be directly from the SDS output\n",
        "sds_features = np.sum(sds_best_feature_subset)  # directly from the SDS output\n",
        "\n",
        "# RFE model accuracies and features\n",
        "\n",
        "rfe_r2 = rfe_r2\n",
        "rfe_features = rfe_rfecv.n_features_  # from the RFECV model after fitting\n",
        "\n",
        "# PCA model accuracies and features\n",
        "pca_r2 = pca_r2  # make sure this variable is assigned after PCA model evaluation\n",
        "pca_features = X_pca.shape[1]  # number of features after applying PCA\n",
        "\n",
        "# Mutual Information (MI) model accuracies and features\n",
        "mi_r2 = mi_r2  # R² score from the MI-selected model\n",
        "mi_features = len(top_features)  # number of features selected by Mutual Information\n",
        "\n",
        "# Compile all the data into a dictionary for easier comparison\n",
        "model_performances = {\n",
        "    'Baseline': {'R2 Score': baseline_r2, 'Number of Features': baseline_features},\n",
        "    'SDS': {'R2 Score': sds_r2, 'Number of Features': sds_features},\n",
        "    'RFE': {'R2 Score': rfe_r2, 'Number of Features': rfe_features},\n",
        "    'PCA': {'R2 Score': pca_r2, 'Number of Features': pca_features},\n",
        "    'MI': {'R2 Score': mi_r2, 'Number of Features': mi_features}  # Added Mutual Information results\n",
        "}\n",
        "\n",
        "# Display the comparison in a formatted way\n",
        "print(\"Model Performance Comparison:\")\n",
        "for model_name, metrics in model_performances.items():\n",
        "    print(f\"{model_name} Model: R2 Score = {metrics['R2 Score']:.3f}, Features Used = {metrics['Number of Features']}\")\n"
      ],
      "metadata": {
        "colab": {
          "base_uri": "https://localhost:8080/"
        },
        "id": "Lq27qsM6Ql7S",
        "outputId": "f8ac3074-5a34-417f-ca7b-734a940241bb"
      },
      "execution_count": 12,
      "outputs": [
        {
          "output_type": "stream",
          "name": "stdout",
          "text": [
            "Model Performance Comparison:\n",
            "Baseline Model: R2 Score = 0.873, Features Used = 12\n",
            "SDS Model: R2 Score = 0.869, Features Used = 9\n",
            "RFE Model: R2 Score = 0.873, Features Used = 9\n",
            "PCA Model: R2 Score = 0.842, Features Used = 4\n",
            "MI Model: R2 Score = 0.868, Features Used = 8\n"
          ]
        }
      ]
    },
    {
      "cell_type": "code",
      "source": [
        "import plotly.graph_objects as go\n",
        "\n",
        "# Assuming the same model_performances dictionary is used\n",
        "model_performances = {\n",
        "    'Baseline': {'R2 Score': baseline_r2, 'Number of Features': baseline_features},\n",
        "    'SDS': {'R2 Score': sds_r2, 'Number of Features': sds_features},\n",
        "    'RFE': {'R2 Score': rfe_r2, 'Number of Features': rfe_features},\n",
        "    'PCA': {'R2 Score': pca_r2, 'Number of Features': pca_features},\n",
        "    'Filter Method (Mutual Info)': {'R2 Score': mi_r2, 'Number of Features': mi_features}  # Added Mutual Information results\n",
        "}\n",
        "\n",
        "# Create traces\n",
        "fig = go.Figure()\n",
        "\n",
        "# Add bar chart for R2 Scores\n",
        "fig.add_trace(go.Bar(\n",
        "    x=list(model_performances.keys()),\n",
        "    y=[data['R2 Score'] for data in model_performances.values()],\n",
        "    name='R2 SCORE',\n",
        "    marker_color=[\"#FF7F0E\", \"#1F77B4\", \"#2CA02C\", \"#D62728\", \"#9467BD\"]  # Distinct colors for each model\n",
        "))\n",
        "\n",
        "# Add line chart for Number of Features\n",
        "fig.add_trace(go.Scatter(\n",
        "    x=list(model_performances.keys()),\n",
        "    y=[data['Number of Features'] for data in model_performances.values()],\n",
        "    name='Number of Features',\n",
        "    mode='lines+markers',\n",
        "    marker=dict(symbol='circle', size=10, color='blue'),\n",
        "    yaxis='y2'\n",
        "))\n",
        "\n",
        "# Layout adjustments\n",
        "fig.update_layout(\n",
        "    title='Comparison of Model Performances',\n",
        "    xaxis=dict(title='Model'),\n",
        "    yaxis=dict(title='R2 SCORE'),\n",
        "    yaxis2=dict(title='Number of Features', overlaying='y', side='right'),\n",
        "    legend=dict(\n",
        "        x=1.05,  # Position the legend to the right of the plot\n",
        "        y=1,\n",
        "        xanchor='left',\n",
        "        yanchor='top',\n",
        "        bordercolor=\"Black\",\n",
        "        borderwidth=1\n",
        "    ),\n",
        "    bargap=0.2  # Adjust gap between bars for better visualization\n",
        ")\n",
        "\n",
        "# Show plot\n",
        "fig.show()\n"
      ],
      "metadata": {
        "colab": {
          "base_uri": "https://localhost:8080/",
          "height": 542
        },
        "id": "KYVvuwxIRr8y",
        "outputId": "ba3d6f13-1cc7-4c8c-b49c-553222577789"
      },
      "execution_count": 13,
      "outputs": [
        {
          "output_type": "display_data",
          "data": {
            "text/html": [
              "<html>\n",
              "<head><meta charset=\"utf-8\" /></head>\n",
              "<body>\n",
              "    <div>            <script src=\"https://cdnjs.cloudflare.com/ajax/libs/mathjax/2.7.5/MathJax.js?config=TeX-AMS-MML_SVG\"></script><script type=\"text/javascript\">if (window.MathJax && window.MathJax.Hub && window.MathJax.Hub.Config) {window.MathJax.Hub.Config({SVG: {font: \"STIX-Web\"}});}</script>                <script type=\"text/javascript\">window.PlotlyConfig = {MathJaxConfig: 'local'};</script>\n",
              "        <script charset=\"utf-8\" src=\"https://cdn.plot.ly/plotly-2.35.2.min.js\"></script>                <div id=\"50a5e36d-0460-43c6-86c7-757901156c48\" class=\"plotly-graph-div\" style=\"height:525px; width:100%;\"></div>            <script type=\"text/javascript\">                                    window.PLOTLYENV=window.PLOTLYENV || {};                                    if (document.getElementById(\"50a5e36d-0460-43c6-86c7-757901156c48\")) {                    Plotly.newPlot(                        \"50a5e36d-0460-43c6-86c7-757901156c48\",                        [{\"marker\":{\"color\":[\"#FF7F0E\",\"#1F77B4\",\"#2CA02C\",\"#D62728\",\"#9467BD\"]},\"name\":\"R2 SCORE\",\"x\":[\"Baseline\",\"SDS\",\"RFE\",\"PCA\",\"Filter Method (Mutual Info)\"],\"y\":[0.8732140207570912,0.869256434958579,0.8732760916504243,0.8423042615886756,0.8682255800947729],\"type\":\"bar\"},{\"marker\":{\"color\":\"blue\",\"size\":10,\"symbol\":\"circle\"},\"mode\":\"lines+markers\",\"name\":\"Number of Features\",\"x\":[\"Baseline\",\"SDS\",\"RFE\",\"PCA\",\"Filter Method (Mutual Info)\"],\"y\":[12,9,9,4,8],\"yaxis\":\"y2\",\"type\":\"scatter\"}],                        {\"template\":{\"data\":{\"histogram2dcontour\":[{\"type\":\"histogram2dcontour\",\"colorbar\":{\"outlinewidth\":0,\"ticks\":\"\"},\"colorscale\":[[0.0,\"#0d0887\"],[0.1111111111111111,\"#46039f\"],[0.2222222222222222,\"#7201a8\"],[0.3333333333333333,\"#9c179e\"],[0.4444444444444444,\"#bd3786\"],[0.5555555555555556,\"#d8576b\"],[0.6666666666666666,\"#ed7953\"],[0.7777777777777778,\"#fb9f3a\"],[0.8888888888888888,\"#fdca26\"],[1.0,\"#f0f921\"]]}],\"choropleth\":[{\"type\":\"choropleth\",\"colorbar\":{\"outlinewidth\":0,\"ticks\":\"\"}}],\"histogram2d\":[{\"type\":\"histogram2d\",\"colorbar\":{\"outlinewidth\":0,\"ticks\":\"\"},\"colorscale\":[[0.0,\"#0d0887\"],[0.1111111111111111,\"#46039f\"],[0.2222222222222222,\"#7201a8\"],[0.3333333333333333,\"#9c179e\"],[0.4444444444444444,\"#bd3786\"],[0.5555555555555556,\"#d8576b\"],[0.6666666666666666,\"#ed7953\"],[0.7777777777777778,\"#fb9f3a\"],[0.8888888888888888,\"#fdca26\"],[1.0,\"#f0f921\"]]}],\"heatmap\":[{\"type\":\"heatmap\",\"colorbar\":{\"outlinewidth\":0,\"ticks\":\"\"},\"colorscale\":[[0.0,\"#0d0887\"],[0.1111111111111111,\"#46039f\"],[0.2222222222222222,\"#7201a8\"],[0.3333333333333333,\"#9c179e\"],[0.4444444444444444,\"#bd3786\"],[0.5555555555555556,\"#d8576b\"],[0.6666666666666666,\"#ed7953\"],[0.7777777777777778,\"#fb9f3a\"],[0.8888888888888888,\"#fdca26\"],[1.0,\"#f0f921\"]]}],\"heatmapgl\":[{\"type\":\"heatmapgl\",\"colorbar\":{\"outlinewidth\":0,\"ticks\":\"\"},\"colorscale\":[[0.0,\"#0d0887\"],[0.1111111111111111,\"#46039f\"],[0.2222222222222222,\"#7201a8\"],[0.3333333333333333,\"#9c179e\"],[0.4444444444444444,\"#bd3786\"],[0.5555555555555556,\"#d8576b\"],[0.6666666666666666,\"#ed7953\"],[0.7777777777777778,\"#fb9f3a\"],[0.8888888888888888,\"#fdca26\"],[1.0,\"#f0f921\"]]}],\"contourcarpet\":[{\"type\":\"contourcarpet\",\"colorbar\":{\"outlinewidth\":0,\"ticks\":\"\"}}],\"contour\":[{\"type\":\"contour\",\"colorbar\":{\"outlinewidth\":0,\"ticks\":\"\"},\"colorscale\":[[0.0,\"#0d0887\"],[0.1111111111111111,\"#46039f\"],[0.2222222222222222,\"#7201a8\"],[0.3333333333333333,\"#9c179e\"],[0.4444444444444444,\"#bd3786\"],[0.5555555555555556,\"#d8576b\"],[0.6666666666666666,\"#ed7953\"],[0.7777777777777778,\"#fb9f3a\"],[0.8888888888888888,\"#fdca26\"],[1.0,\"#f0f921\"]]}],\"surface\":[{\"type\":\"surface\",\"colorbar\":{\"outlinewidth\":0,\"ticks\":\"\"},\"colorscale\":[[0.0,\"#0d0887\"],[0.1111111111111111,\"#46039f\"],[0.2222222222222222,\"#7201a8\"],[0.3333333333333333,\"#9c179e\"],[0.4444444444444444,\"#bd3786\"],[0.5555555555555556,\"#d8576b\"],[0.6666666666666666,\"#ed7953\"],[0.7777777777777778,\"#fb9f3a\"],[0.8888888888888888,\"#fdca26\"],[1.0,\"#f0f921\"]]}],\"mesh3d\":[{\"type\":\"mesh3d\",\"colorbar\":{\"outlinewidth\":0,\"ticks\":\"\"}}],\"scatter\":[{\"fillpattern\":{\"fillmode\":\"overlay\",\"size\":10,\"solidity\":0.2},\"type\":\"scatter\"}],\"parcoords\":[{\"type\":\"parcoords\",\"line\":{\"colorbar\":{\"outlinewidth\":0,\"ticks\":\"\"}}}],\"scatterpolargl\":[{\"type\":\"scatterpolargl\",\"marker\":{\"colorbar\":{\"outlinewidth\":0,\"ticks\":\"\"}}}],\"bar\":[{\"error_x\":{\"color\":\"#2a3f5f\"},\"error_y\":{\"color\":\"#2a3f5f\"},\"marker\":{\"line\":{\"color\":\"#E5ECF6\",\"width\":0.5},\"pattern\":{\"fillmode\":\"overlay\",\"size\":10,\"solidity\":0.2}},\"type\":\"bar\"}],\"scattergeo\":[{\"type\":\"scattergeo\",\"marker\":{\"colorbar\":{\"outlinewidth\":0,\"ticks\":\"\"}}}],\"scatterpolar\":[{\"type\":\"scatterpolar\",\"marker\":{\"colorbar\":{\"outlinewidth\":0,\"ticks\":\"\"}}}],\"histogram\":[{\"marker\":{\"pattern\":{\"fillmode\":\"overlay\",\"size\":10,\"solidity\":0.2}},\"type\":\"histogram\"}],\"scattergl\":[{\"type\":\"scattergl\",\"marker\":{\"colorbar\":{\"outlinewidth\":0,\"ticks\":\"\"}}}],\"scatter3d\":[{\"type\":\"scatter3d\",\"line\":{\"colorbar\":{\"outlinewidth\":0,\"ticks\":\"\"}},\"marker\":{\"colorbar\":{\"outlinewidth\":0,\"ticks\":\"\"}}}],\"scattermapbox\":[{\"type\":\"scattermapbox\",\"marker\":{\"colorbar\":{\"outlinewidth\":0,\"ticks\":\"\"}}}],\"scatterternary\":[{\"type\":\"scatterternary\",\"marker\":{\"colorbar\":{\"outlinewidth\":0,\"ticks\":\"\"}}}],\"scattercarpet\":[{\"type\":\"scattercarpet\",\"marker\":{\"colorbar\":{\"outlinewidth\":0,\"ticks\":\"\"}}}],\"carpet\":[{\"aaxis\":{\"endlinecolor\":\"#2a3f5f\",\"gridcolor\":\"white\",\"linecolor\":\"white\",\"minorgridcolor\":\"white\",\"startlinecolor\":\"#2a3f5f\"},\"baxis\":{\"endlinecolor\":\"#2a3f5f\",\"gridcolor\":\"white\",\"linecolor\":\"white\",\"minorgridcolor\":\"white\",\"startlinecolor\":\"#2a3f5f\"},\"type\":\"carpet\"}],\"table\":[{\"cells\":{\"fill\":{\"color\":\"#EBF0F8\"},\"line\":{\"color\":\"white\"}},\"header\":{\"fill\":{\"color\":\"#C8D4E3\"},\"line\":{\"color\":\"white\"}},\"type\":\"table\"}],\"barpolar\":[{\"marker\":{\"line\":{\"color\":\"#E5ECF6\",\"width\":0.5},\"pattern\":{\"fillmode\":\"overlay\",\"size\":10,\"solidity\":0.2}},\"type\":\"barpolar\"}],\"pie\":[{\"automargin\":true,\"type\":\"pie\"}]},\"layout\":{\"autotypenumbers\":\"strict\",\"colorway\":[\"#636efa\",\"#EF553B\",\"#00cc96\",\"#ab63fa\",\"#FFA15A\",\"#19d3f3\",\"#FF6692\",\"#B6E880\",\"#FF97FF\",\"#FECB52\"],\"font\":{\"color\":\"#2a3f5f\"},\"hovermode\":\"closest\",\"hoverlabel\":{\"align\":\"left\"},\"paper_bgcolor\":\"white\",\"plot_bgcolor\":\"#E5ECF6\",\"polar\":{\"bgcolor\":\"#E5ECF6\",\"angularaxis\":{\"gridcolor\":\"white\",\"linecolor\":\"white\",\"ticks\":\"\"},\"radialaxis\":{\"gridcolor\":\"white\",\"linecolor\":\"white\",\"ticks\":\"\"}},\"ternary\":{\"bgcolor\":\"#E5ECF6\",\"aaxis\":{\"gridcolor\":\"white\",\"linecolor\":\"white\",\"ticks\":\"\"},\"baxis\":{\"gridcolor\":\"white\",\"linecolor\":\"white\",\"ticks\":\"\"},\"caxis\":{\"gridcolor\":\"white\",\"linecolor\":\"white\",\"ticks\":\"\"}},\"coloraxis\":{\"colorbar\":{\"outlinewidth\":0,\"ticks\":\"\"}},\"colorscale\":{\"sequential\":[[0.0,\"#0d0887\"],[0.1111111111111111,\"#46039f\"],[0.2222222222222222,\"#7201a8\"],[0.3333333333333333,\"#9c179e\"],[0.4444444444444444,\"#bd3786\"],[0.5555555555555556,\"#d8576b\"],[0.6666666666666666,\"#ed7953\"],[0.7777777777777778,\"#fb9f3a\"],[0.8888888888888888,\"#fdca26\"],[1.0,\"#f0f921\"]],\"sequentialminus\":[[0.0,\"#0d0887\"],[0.1111111111111111,\"#46039f\"],[0.2222222222222222,\"#7201a8\"],[0.3333333333333333,\"#9c179e\"],[0.4444444444444444,\"#bd3786\"],[0.5555555555555556,\"#d8576b\"],[0.6666666666666666,\"#ed7953\"],[0.7777777777777778,\"#fb9f3a\"],[0.8888888888888888,\"#fdca26\"],[1.0,\"#f0f921\"]],\"diverging\":[[0,\"#8e0152\"],[0.1,\"#c51b7d\"],[0.2,\"#de77ae\"],[0.3,\"#f1b6da\"],[0.4,\"#fde0ef\"],[0.5,\"#f7f7f7\"],[0.6,\"#e6f5d0\"],[0.7,\"#b8e186\"],[0.8,\"#7fbc41\"],[0.9,\"#4d9221\"],[1,\"#276419\"]]},\"xaxis\":{\"gridcolor\":\"white\",\"linecolor\":\"white\",\"ticks\":\"\",\"title\":{\"standoff\":15},\"zerolinecolor\":\"white\",\"automargin\":true,\"zerolinewidth\":2},\"yaxis\":{\"gridcolor\":\"white\",\"linecolor\":\"white\",\"ticks\":\"\",\"title\":{\"standoff\":15},\"zerolinecolor\":\"white\",\"automargin\":true,\"zerolinewidth\":2},\"scene\":{\"xaxis\":{\"backgroundcolor\":\"#E5ECF6\",\"gridcolor\":\"white\",\"linecolor\":\"white\",\"showbackground\":true,\"ticks\":\"\",\"zerolinecolor\":\"white\",\"gridwidth\":2},\"yaxis\":{\"backgroundcolor\":\"#E5ECF6\",\"gridcolor\":\"white\",\"linecolor\":\"white\",\"showbackground\":true,\"ticks\":\"\",\"zerolinecolor\":\"white\",\"gridwidth\":2},\"zaxis\":{\"backgroundcolor\":\"#E5ECF6\",\"gridcolor\":\"white\",\"linecolor\":\"white\",\"showbackground\":true,\"ticks\":\"\",\"zerolinecolor\":\"white\",\"gridwidth\":2}},\"shapedefaults\":{\"line\":{\"color\":\"#2a3f5f\"}},\"annotationdefaults\":{\"arrowcolor\":\"#2a3f5f\",\"arrowhead\":0,\"arrowwidth\":1},\"geo\":{\"bgcolor\":\"white\",\"landcolor\":\"#E5ECF6\",\"subunitcolor\":\"white\",\"showland\":true,\"showlakes\":true,\"lakecolor\":\"white\"},\"title\":{\"x\":0.05},\"mapbox\":{\"style\":\"light\"}}},\"yaxis2\":{\"title\":{\"text\":\"Number of Features\"},\"overlaying\":\"y\",\"side\":\"right\"},\"legend\":{\"x\":1.05,\"y\":1,\"xanchor\":\"left\",\"yanchor\":\"top\",\"bordercolor\":\"Black\",\"borderwidth\":1},\"title\":{\"text\":\"Comparison of Model Performances\"},\"xaxis\":{\"title\":{\"text\":\"Model\"}},\"yaxis\":{\"title\":{\"text\":\"R2 SCORE\"}},\"bargap\":0.2},                        {\"responsive\": true}                    ).then(function(){\n",
              "                            \n",
              "var gd = document.getElementById('50a5e36d-0460-43c6-86c7-757901156c48');\n",
              "var x = new MutationObserver(function (mutations, observer) {{\n",
              "        var display = window.getComputedStyle(gd).display;\n",
              "        if (!display || display === 'none') {{\n",
              "            console.log([gd, 'removed!']);\n",
              "            Plotly.purge(gd);\n",
              "            observer.disconnect();\n",
              "        }}\n",
              "}});\n",
              "\n",
              "// Listen for the removal of the full notebook cells\n",
              "var notebookContainer = gd.closest('#notebook-container');\n",
              "if (notebookContainer) {{\n",
              "    x.observe(notebookContainer, {childList: true});\n",
              "}}\n",
              "\n",
              "// Listen for the clearing of the current output cell\n",
              "var outputEl = gd.closest('.output');\n",
              "if (outputEl) {{\n",
              "    x.observe(outputEl, {childList: true});\n",
              "}}\n",
              "\n",
              "                        })                };                            </script>        </div>\n",
              "</body>\n",
              "</html>"
            ]
          },
          "metadata": {}
        }
      ]
    },
    {
      "cell_type": "code",
      "source": [
        "import plotly.graph_objects as go\n",
        "\n",
        "# Assuming the updated `model_performances` dictionary includes the mutual information filter method\n",
        "model_performances = {\n",
        "    'RFE': {'Scaled AUC-ROC Score': rfe_r2 * 100, 'Number of Features': rfe_features},\n",
        "    'PCA': {'Scaled AUC-ROC Score': pca_r2 * 100, 'Number of Features': pca_features},\n",
        "    'SDS': {'Scaled AUC-ROC Score': sds_r2 * 100, 'Number of Features': sds_features},\n",
        "    'Linear Regression': {'Scaled AUC-ROC Score': baseline_r2 * 100, 'Number of Features': baseline_features},\n",
        "    'Mutual Information': {'Scaled AUC-ROC Score': mi_r2 * 100, 'Number of Features': mi_features}\n",
        "}\n",
        "\n",
        "# Create the figure\n",
        "fig = go.Figure()\n",
        "\n",
        "# Add bar chart for Scaled AUC-ROC Scores\n",
        "fig.add_trace(go.Bar(\n",
        "    x=list(model_performances.keys()),\n",
        "    y=[data['Scaled AUC-ROC Score'] for data in model_performances.values()],\n",
        "    name='Scaled AUC-ROC Score',\n",
        "    marker_color='orange'\n",
        "))\n",
        "\n",
        "# Add line chart for Number of Features\n",
        "fig.add_trace(go.Scatter(\n",
        "    x=list(model_performances.keys()),\n",
        "    y=[data['Number of Features'] for data in model_performances.values()],\n",
        "    name='Number of Features',\n",
        "    mode='lines+markers',\n",
        "    marker=dict(symbol='circle', size=8, color='blue')\n",
        "))\n",
        "\n",
        "# Layout adjustments to match the provided format\n",
        "fig.update_layout(\n",
        "    title='Comparison of Scaled AUC-ROC Scores and Number of Features',\n",
        "    xaxis=dict(title='Model'),\n",
        "    yaxis=dict(title='Scaled AUC-ROC Score', titlefont=dict(color='orange')),\n",
        "    yaxis2=dict(\n",
        "        title='Number of Features',\n",
        "        titlefont=dict(color='blue'),\n",
        "        overlaying='y',\n",
        "        side='right'\n",
        "    ),\n",
        "    legend=dict(x=0.5, y=-0.2, orientation=\"h\"),  # Place the legend below the chart\n",
        "    template='plotly_white'  # Match a cleaner style\n",
        ")\n",
        "\n",
        "# Show plot\n",
        "fig.show()\n"
      ],
      "metadata": {
        "colab": {
          "base_uri": "https://localhost:8080/",
          "height": 542
        },
        "id": "3yo1vYa8yPoT",
        "outputId": "00e023c9-dc12-4f53-a9dc-d7245b5c4ca5"
      },
      "execution_count": 14,
      "outputs": [
        {
          "output_type": "display_data",
          "data": {
            "text/html": [
              "<html>\n",
              "<head><meta charset=\"utf-8\" /></head>\n",
              "<body>\n",
              "    <div>            <script src=\"https://cdnjs.cloudflare.com/ajax/libs/mathjax/2.7.5/MathJax.js?config=TeX-AMS-MML_SVG\"></script><script type=\"text/javascript\">if (window.MathJax && window.MathJax.Hub && window.MathJax.Hub.Config) {window.MathJax.Hub.Config({SVG: {font: \"STIX-Web\"}});}</script>                <script type=\"text/javascript\">window.PlotlyConfig = {MathJaxConfig: 'local'};</script>\n",
              "        <script charset=\"utf-8\" src=\"https://cdn.plot.ly/plotly-2.35.2.min.js\"></script>                <div id=\"828ecdf3-6a6b-465b-91b7-2c1c8b3b0ed0\" class=\"plotly-graph-div\" style=\"height:525px; width:100%;\"></div>            <script type=\"text/javascript\">                                    window.PLOTLYENV=window.PLOTLYENV || {};                                    if (document.getElementById(\"828ecdf3-6a6b-465b-91b7-2c1c8b3b0ed0\")) {                    Plotly.newPlot(                        \"828ecdf3-6a6b-465b-91b7-2c1c8b3b0ed0\",                        [{\"marker\":{\"color\":\"orange\"},\"name\":\"Scaled AUC-ROC Score\",\"x\":[\"RFE\",\"PCA\",\"SDS\",\"Linear Regression\",\"Mutual Information\"],\"y\":[87.32760916504243,84.23042615886756,86.9256434958579,87.32140207570912,86.82255800947729],\"type\":\"bar\"},{\"marker\":{\"color\":\"blue\",\"size\":8,\"symbol\":\"circle\"},\"mode\":\"lines+markers\",\"name\":\"Number of Features\",\"x\":[\"RFE\",\"PCA\",\"SDS\",\"Linear Regression\",\"Mutual Information\"],\"y\":[9,4,9,12,8],\"type\":\"scatter\"}],                        {\"template\":{\"data\":{\"barpolar\":[{\"marker\":{\"line\":{\"color\":\"white\",\"width\":0.5},\"pattern\":{\"fillmode\":\"overlay\",\"size\":10,\"solidity\":0.2}},\"type\":\"barpolar\"}],\"bar\":[{\"error_x\":{\"color\":\"#2a3f5f\"},\"error_y\":{\"color\":\"#2a3f5f\"},\"marker\":{\"line\":{\"color\":\"white\",\"width\":0.5},\"pattern\":{\"fillmode\":\"overlay\",\"size\":10,\"solidity\":0.2}},\"type\":\"bar\"}],\"carpet\":[{\"aaxis\":{\"endlinecolor\":\"#2a3f5f\",\"gridcolor\":\"#C8D4E3\",\"linecolor\":\"#C8D4E3\",\"minorgridcolor\":\"#C8D4E3\",\"startlinecolor\":\"#2a3f5f\"},\"baxis\":{\"endlinecolor\":\"#2a3f5f\",\"gridcolor\":\"#C8D4E3\",\"linecolor\":\"#C8D4E3\",\"minorgridcolor\":\"#C8D4E3\",\"startlinecolor\":\"#2a3f5f\"},\"type\":\"carpet\"}],\"choropleth\":[{\"colorbar\":{\"outlinewidth\":0,\"ticks\":\"\"},\"type\":\"choropleth\"}],\"contourcarpet\":[{\"colorbar\":{\"outlinewidth\":0,\"ticks\":\"\"},\"type\":\"contourcarpet\"}],\"contour\":[{\"colorbar\":{\"outlinewidth\":0,\"ticks\":\"\"},\"colorscale\":[[0.0,\"#0d0887\"],[0.1111111111111111,\"#46039f\"],[0.2222222222222222,\"#7201a8\"],[0.3333333333333333,\"#9c179e\"],[0.4444444444444444,\"#bd3786\"],[0.5555555555555556,\"#d8576b\"],[0.6666666666666666,\"#ed7953\"],[0.7777777777777778,\"#fb9f3a\"],[0.8888888888888888,\"#fdca26\"],[1.0,\"#f0f921\"]],\"type\":\"contour\"}],\"heatmapgl\":[{\"colorbar\":{\"outlinewidth\":0,\"ticks\":\"\"},\"colorscale\":[[0.0,\"#0d0887\"],[0.1111111111111111,\"#46039f\"],[0.2222222222222222,\"#7201a8\"],[0.3333333333333333,\"#9c179e\"],[0.4444444444444444,\"#bd3786\"],[0.5555555555555556,\"#d8576b\"],[0.6666666666666666,\"#ed7953\"],[0.7777777777777778,\"#fb9f3a\"],[0.8888888888888888,\"#fdca26\"],[1.0,\"#f0f921\"]],\"type\":\"heatmapgl\"}],\"heatmap\":[{\"colorbar\":{\"outlinewidth\":0,\"ticks\":\"\"},\"colorscale\":[[0.0,\"#0d0887\"],[0.1111111111111111,\"#46039f\"],[0.2222222222222222,\"#7201a8\"],[0.3333333333333333,\"#9c179e\"],[0.4444444444444444,\"#bd3786\"],[0.5555555555555556,\"#d8576b\"],[0.6666666666666666,\"#ed7953\"],[0.7777777777777778,\"#fb9f3a\"],[0.8888888888888888,\"#fdca26\"],[1.0,\"#f0f921\"]],\"type\":\"heatmap\"}],\"histogram2dcontour\":[{\"colorbar\":{\"outlinewidth\":0,\"ticks\":\"\"},\"colorscale\":[[0.0,\"#0d0887\"],[0.1111111111111111,\"#46039f\"],[0.2222222222222222,\"#7201a8\"],[0.3333333333333333,\"#9c179e\"],[0.4444444444444444,\"#bd3786\"],[0.5555555555555556,\"#d8576b\"],[0.6666666666666666,\"#ed7953\"],[0.7777777777777778,\"#fb9f3a\"],[0.8888888888888888,\"#fdca26\"],[1.0,\"#f0f921\"]],\"type\":\"histogram2dcontour\"}],\"histogram2d\":[{\"colorbar\":{\"outlinewidth\":0,\"ticks\":\"\"},\"colorscale\":[[0.0,\"#0d0887\"],[0.1111111111111111,\"#46039f\"],[0.2222222222222222,\"#7201a8\"],[0.3333333333333333,\"#9c179e\"],[0.4444444444444444,\"#bd3786\"],[0.5555555555555556,\"#d8576b\"],[0.6666666666666666,\"#ed7953\"],[0.7777777777777778,\"#fb9f3a\"],[0.8888888888888888,\"#fdca26\"],[1.0,\"#f0f921\"]],\"type\":\"histogram2d\"}],\"histogram\":[{\"marker\":{\"pattern\":{\"fillmode\":\"overlay\",\"size\":10,\"solidity\":0.2}},\"type\":\"histogram\"}],\"mesh3d\":[{\"colorbar\":{\"outlinewidth\":0,\"ticks\":\"\"},\"type\":\"mesh3d\"}],\"parcoords\":[{\"line\":{\"colorbar\":{\"outlinewidth\":0,\"ticks\":\"\"}},\"type\":\"parcoords\"}],\"pie\":[{\"automargin\":true,\"type\":\"pie\"}],\"scatter3d\":[{\"line\":{\"colorbar\":{\"outlinewidth\":0,\"ticks\":\"\"}},\"marker\":{\"colorbar\":{\"outlinewidth\":0,\"ticks\":\"\"}},\"type\":\"scatter3d\"}],\"scattercarpet\":[{\"marker\":{\"colorbar\":{\"outlinewidth\":0,\"ticks\":\"\"}},\"type\":\"scattercarpet\"}],\"scattergeo\":[{\"marker\":{\"colorbar\":{\"outlinewidth\":0,\"ticks\":\"\"}},\"type\":\"scattergeo\"}],\"scattergl\":[{\"marker\":{\"colorbar\":{\"outlinewidth\":0,\"ticks\":\"\"}},\"type\":\"scattergl\"}],\"scattermapbox\":[{\"marker\":{\"colorbar\":{\"outlinewidth\":0,\"ticks\":\"\"}},\"type\":\"scattermapbox\"}],\"scatterpolargl\":[{\"marker\":{\"colorbar\":{\"outlinewidth\":0,\"ticks\":\"\"}},\"type\":\"scatterpolargl\"}],\"scatterpolar\":[{\"marker\":{\"colorbar\":{\"outlinewidth\":0,\"ticks\":\"\"}},\"type\":\"scatterpolar\"}],\"scatter\":[{\"fillpattern\":{\"fillmode\":\"overlay\",\"size\":10,\"solidity\":0.2},\"type\":\"scatter\"}],\"scatterternary\":[{\"marker\":{\"colorbar\":{\"outlinewidth\":0,\"ticks\":\"\"}},\"type\":\"scatterternary\"}],\"surface\":[{\"colorbar\":{\"outlinewidth\":0,\"ticks\":\"\"},\"colorscale\":[[0.0,\"#0d0887\"],[0.1111111111111111,\"#46039f\"],[0.2222222222222222,\"#7201a8\"],[0.3333333333333333,\"#9c179e\"],[0.4444444444444444,\"#bd3786\"],[0.5555555555555556,\"#d8576b\"],[0.6666666666666666,\"#ed7953\"],[0.7777777777777778,\"#fb9f3a\"],[0.8888888888888888,\"#fdca26\"],[1.0,\"#f0f921\"]],\"type\":\"surface\"}],\"table\":[{\"cells\":{\"fill\":{\"color\":\"#EBF0F8\"},\"line\":{\"color\":\"white\"}},\"header\":{\"fill\":{\"color\":\"#C8D4E3\"},\"line\":{\"color\":\"white\"}},\"type\":\"table\"}]},\"layout\":{\"annotationdefaults\":{\"arrowcolor\":\"#2a3f5f\",\"arrowhead\":0,\"arrowwidth\":1},\"autotypenumbers\":\"strict\",\"coloraxis\":{\"colorbar\":{\"outlinewidth\":0,\"ticks\":\"\"}},\"colorscale\":{\"diverging\":[[0,\"#8e0152\"],[0.1,\"#c51b7d\"],[0.2,\"#de77ae\"],[0.3,\"#f1b6da\"],[0.4,\"#fde0ef\"],[0.5,\"#f7f7f7\"],[0.6,\"#e6f5d0\"],[0.7,\"#b8e186\"],[0.8,\"#7fbc41\"],[0.9,\"#4d9221\"],[1,\"#276419\"]],\"sequential\":[[0.0,\"#0d0887\"],[0.1111111111111111,\"#46039f\"],[0.2222222222222222,\"#7201a8\"],[0.3333333333333333,\"#9c179e\"],[0.4444444444444444,\"#bd3786\"],[0.5555555555555556,\"#d8576b\"],[0.6666666666666666,\"#ed7953\"],[0.7777777777777778,\"#fb9f3a\"],[0.8888888888888888,\"#fdca26\"],[1.0,\"#f0f921\"]],\"sequentialminus\":[[0.0,\"#0d0887\"],[0.1111111111111111,\"#46039f\"],[0.2222222222222222,\"#7201a8\"],[0.3333333333333333,\"#9c179e\"],[0.4444444444444444,\"#bd3786\"],[0.5555555555555556,\"#d8576b\"],[0.6666666666666666,\"#ed7953\"],[0.7777777777777778,\"#fb9f3a\"],[0.8888888888888888,\"#fdca26\"],[1.0,\"#f0f921\"]]},\"colorway\":[\"#636efa\",\"#EF553B\",\"#00cc96\",\"#ab63fa\",\"#FFA15A\",\"#19d3f3\",\"#FF6692\",\"#B6E880\",\"#FF97FF\",\"#FECB52\"],\"font\":{\"color\":\"#2a3f5f\"},\"geo\":{\"bgcolor\":\"white\",\"lakecolor\":\"white\",\"landcolor\":\"white\",\"showlakes\":true,\"showland\":true,\"subunitcolor\":\"#C8D4E3\"},\"hoverlabel\":{\"align\":\"left\"},\"hovermode\":\"closest\",\"mapbox\":{\"style\":\"light\"},\"paper_bgcolor\":\"white\",\"plot_bgcolor\":\"white\",\"polar\":{\"angularaxis\":{\"gridcolor\":\"#EBF0F8\",\"linecolor\":\"#EBF0F8\",\"ticks\":\"\"},\"bgcolor\":\"white\",\"radialaxis\":{\"gridcolor\":\"#EBF0F8\",\"linecolor\":\"#EBF0F8\",\"ticks\":\"\"}},\"scene\":{\"xaxis\":{\"backgroundcolor\":\"white\",\"gridcolor\":\"#DFE8F3\",\"gridwidth\":2,\"linecolor\":\"#EBF0F8\",\"showbackground\":true,\"ticks\":\"\",\"zerolinecolor\":\"#EBF0F8\"},\"yaxis\":{\"backgroundcolor\":\"white\",\"gridcolor\":\"#DFE8F3\",\"gridwidth\":2,\"linecolor\":\"#EBF0F8\",\"showbackground\":true,\"ticks\":\"\",\"zerolinecolor\":\"#EBF0F8\"},\"zaxis\":{\"backgroundcolor\":\"white\",\"gridcolor\":\"#DFE8F3\",\"gridwidth\":2,\"linecolor\":\"#EBF0F8\",\"showbackground\":true,\"ticks\":\"\",\"zerolinecolor\":\"#EBF0F8\"}},\"shapedefaults\":{\"line\":{\"color\":\"#2a3f5f\"}},\"ternary\":{\"aaxis\":{\"gridcolor\":\"#DFE8F3\",\"linecolor\":\"#A2B1C6\",\"ticks\":\"\"},\"baxis\":{\"gridcolor\":\"#DFE8F3\",\"linecolor\":\"#A2B1C6\",\"ticks\":\"\"},\"bgcolor\":\"white\",\"caxis\":{\"gridcolor\":\"#DFE8F3\",\"linecolor\":\"#A2B1C6\",\"ticks\":\"\"}},\"title\":{\"x\":0.05},\"xaxis\":{\"automargin\":true,\"gridcolor\":\"#EBF0F8\",\"linecolor\":\"#EBF0F8\",\"ticks\":\"\",\"title\":{\"standoff\":15},\"zerolinecolor\":\"#EBF0F8\",\"zerolinewidth\":2},\"yaxis\":{\"automargin\":true,\"gridcolor\":\"#EBF0F8\",\"linecolor\":\"#EBF0F8\",\"ticks\":\"\",\"title\":{\"standoff\":15},\"zerolinecolor\":\"#EBF0F8\",\"zerolinewidth\":2}}},\"yaxis\":{\"title\":{\"text\":\"Scaled AUC-ROC Score\",\"font\":{\"color\":\"orange\"}}},\"yaxis2\":{\"title\":{\"text\":\"Number of Features\",\"font\":{\"color\":\"blue\"}},\"overlaying\":\"y\",\"side\":\"right\"},\"legend\":{\"x\":0.5,\"y\":-0.2,\"orientation\":\"h\"},\"title\":{\"text\":\"Comparison of Scaled AUC-ROC Scores and Number of Features\"},\"xaxis\":{\"title\":{\"text\":\"Model\"}}},                        {\"responsive\": true}                    ).then(function(){\n",
              "                            \n",
              "var gd = document.getElementById('828ecdf3-6a6b-465b-91b7-2c1c8b3b0ed0');\n",
              "var x = new MutationObserver(function (mutations, observer) {{\n",
              "        var display = window.getComputedStyle(gd).display;\n",
              "        if (!display || display === 'none') {{\n",
              "            console.log([gd, 'removed!']);\n",
              "            Plotly.purge(gd);\n",
              "            observer.disconnect();\n",
              "        }}\n",
              "}});\n",
              "\n",
              "// Listen for the removal of the full notebook cells\n",
              "var notebookContainer = gd.closest('#notebook-container');\n",
              "if (notebookContainer) {{\n",
              "    x.observe(notebookContainer, {childList: true});\n",
              "}}\n",
              "\n",
              "// Listen for the clearing of the current output cell\n",
              "var outputEl = gd.closest('.output');\n",
              "if (outputEl) {{\n",
              "    x.observe(outputEl, {childList: true});\n",
              "}}\n",
              "\n",
              "                        })                };                            </script>        </div>\n",
              "</body>\n",
              "</html>"
            ]
          },
          "metadata": {}
        }
      ]
    }
  ]
}