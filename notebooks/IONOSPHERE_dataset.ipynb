{
  "cells": [
    {
      "cell_type": "markdown",
      "id": "9a206c1a",
      "metadata": {
        "id": "9a206c1a"
      },
      "source": [
        "# IONOSPHERE Dataset"
      ]
    },
    {
      "cell_type": "markdown",
      "source": [
        "## Data Exploration"
      ],
      "metadata": {
        "id": "hsUJLEgRO4sC"
      },
      "id": "hsUJLEgRO4sC"
    },
    {
      "cell_type": "code",
      "source": [
        "from google.colab import drive\n",
        "drive.mount('/content/drive')"
      ],
      "metadata": {
        "colab": {
          "base_uri": "https://localhost:8080/"
        },
        "id": "IWu_7Hriw1sK",
        "outputId": "4b52c318-3f86-4075-d66e-ef00fa8d30f7"
      },
      "id": "IWu_7Hriw1sK",
      "execution_count": 17,
      "outputs": [
        {
          "output_type": "stream",
          "name": "stdout",
          "text": [
            "Drive already mounted at /content/drive; to attempt to forcibly remount, call drive.mount(\"/content/drive\", force_remount=True).\n"
          ]
        }
      ]
    },
    {
      "cell_type": "code",
      "source": [
        "## Optimization and Baseline Model Creation\n",
        "import pandas as pd\n",
        "\n",
        "# Define the file path in Google Drive\n",
        "file_path = '/content/drive/MyDrive/MSc Dessertation/DATASETS/ionosphere_data.csv'\n",
        "\n",
        "# Load the dataset\n",
        "data = pd.read_csv(file_path)\n",
        "\n",
        "# Display the first few rows to ensure it has been loaded correctly\n",
        "data.head()"
      ],
      "metadata": {
        "colab": {
          "base_uri": "https://localhost:8080/",
          "height": 255
        },
        "id": "FujY0W0VORKu",
        "outputId": "82683441-7397-41e5-cfe0-f44aa96df804"
      },
      "id": "FujY0W0VORKu",
      "execution_count": 18,
      "outputs": [
        {
          "output_type": "execute_result",
          "data": {
            "text/plain": [
              "   column_a  column_b  column_c  column_d  column_e  column_f  column_g  \\\n",
              "0      True     False   0.99539  -0.05889   0.85243   0.02306   0.83398   \n",
              "1      True     False   1.00000  -0.18829   0.93035  -0.36156  -0.10868   \n",
              "2      True     False   1.00000  -0.03365   1.00000   0.00485   1.00000   \n",
              "3      True     False   1.00000  -0.45161   1.00000   1.00000   0.71216   \n",
              "4      True     False   1.00000  -0.02401   0.94140   0.06531   0.92106   \n",
              "\n",
              "   column_h  column_i  column_j  ...  column_z  column_aa  column_ab  \\\n",
              "0  -0.37708   1.00000   0.03760  ...  -0.51171    0.41078   -0.46168   \n",
              "1  -0.93597   1.00000  -0.04549  ...  -0.26569   -0.20468   -0.18401   \n",
              "2  -0.12062   0.88965   0.01198  ...  -0.40220    0.58984   -0.22145   \n",
              "3  -1.00000   0.00000   0.00000  ...   0.90695    0.51613    1.00000   \n",
              "4  -0.23255   0.77152  -0.16399  ...  -0.65158    0.13290   -0.53206   \n",
              "\n",
              "   column_ac  column_ad  column_ae  column_af  column_ag  column_ah  column_ai  \n",
              "0    0.21266   -0.34090    0.42267   -0.54487    0.18641   -0.45300          g  \n",
              "1   -0.19040   -0.11593   -0.16626   -0.06288   -0.13738   -0.02447          b  \n",
              "2    0.43100   -0.17365    0.60436   -0.24180    0.56045   -0.38238          g  \n",
              "3    1.00000   -0.20099    0.25682    1.00000   -0.32382    1.00000          b  \n",
              "4    0.02431   -0.62197   -0.05707   -0.59573   -0.04608   -0.65697          g  \n",
              "\n",
              "[5 rows x 35 columns]"
            ],
            "text/html": [
              "\n",
              "  <div id=\"df-8a4a323e-c9ef-4fc0-8b26-f9eeae29100e\" class=\"colab-df-container\">\n",
              "    <div>\n",
              "<style scoped>\n",
              "    .dataframe tbody tr th:only-of-type {\n",
              "        vertical-align: middle;\n",
              "    }\n",
              "\n",
              "    .dataframe tbody tr th {\n",
              "        vertical-align: top;\n",
              "    }\n",
              "\n",
              "    .dataframe thead th {\n",
              "        text-align: right;\n",
              "    }\n",
              "</style>\n",
              "<table border=\"1\" class=\"dataframe\">\n",
              "  <thead>\n",
              "    <tr style=\"text-align: right;\">\n",
              "      <th></th>\n",
              "      <th>column_a</th>\n",
              "      <th>column_b</th>\n",
              "      <th>column_c</th>\n",
              "      <th>column_d</th>\n",
              "      <th>column_e</th>\n",
              "      <th>column_f</th>\n",
              "      <th>column_g</th>\n",
              "      <th>column_h</th>\n",
              "      <th>column_i</th>\n",
              "      <th>column_j</th>\n",
              "      <th>...</th>\n",
              "      <th>column_z</th>\n",
              "      <th>column_aa</th>\n",
              "      <th>column_ab</th>\n",
              "      <th>column_ac</th>\n",
              "      <th>column_ad</th>\n",
              "      <th>column_ae</th>\n",
              "      <th>column_af</th>\n",
              "      <th>column_ag</th>\n",
              "      <th>column_ah</th>\n",
              "      <th>column_ai</th>\n",
              "    </tr>\n",
              "  </thead>\n",
              "  <tbody>\n",
              "    <tr>\n",
              "      <th>0</th>\n",
              "      <td>True</td>\n",
              "      <td>False</td>\n",
              "      <td>0.99539</td>\n",
              "      <td>-0.05889</td>\n",
              "      <td>0.85243</td>\n",
              "      <td>0.02306</td>\n",
              "      <td>0.83398</td>\n",
              "      <td>-0.37708</td>\n",
              "      <td>1.00000</td>\n",
              "      <td>0.03760</td>\n",
              "      <td>...</td>\n",
              "      <td>-0.51171</td>\n",
              "      <td>0.41078</td>\n",
              "      <td>-0.46168</td>\n",
              "      <td>0.21266</td>\n",
              "      <td>-0.34090</td>\n",
              "      <td>0.42267</td>\n",
              "      <td>-0.54487</td>\n",
              "      <td>0.18641</td>\n",
              "      <td>-0.45300</td>\n",
              "      <td>g</td>\n",
              "    </tr>\n",
              "    <tr>\n",
              "      <th>1</th>\n",
              "      <td>True</td>\n",
              "      <td>False</td>\n",
              "      <td>1.00000</td>\n",
              "      <td>-0.18829</td>\n",
              "      <td>0.93035</td>\n",
              "      <td>-0.36156</td>\n",
              "      <td>-0.10868</td>\n",
              "      <td>-0.93597</td>\n",
              "      <td>1.00000</td>\n",
              "      <td>-0.04549</td>\n",
              "      <td>...</td>\n",
              "      <td>-0.26569</td>\n",
              "      <td>-0.20468</td>\n",
              "      <td>-0.18401</td>\n",
              "      <td>-0.19040</td>\n",
              "      <td>-0.11593</td>\n",
              "      <td>-0.16626</td>\n",
              "      <td>-0.06288</td>\n",
              "      <td>-0.13738</td>\n",
              "      <td>-0.02447</td>\n",
              "      <td>b</td>\n",
              "    </tr>\n",
              "    <tr>\n",
              "      <th>2</th>\n",
              "      <td>True</td>\n",
              "      <td>False</td>\n",
              "      <td>1.00000</td>\n",
              "      <td>-0.03365</td>\n",
              "      <td>1.00000</td>\n",
              "      <td>0.00485</td>\n",
              "      <td>1.00000</td>\n",
              "      <td>-0.12062</td>\n",
              "      <td>0.88965</td>\n",
              "      <td>0.01198</td>\n",
              "      <td>...</td>\n",
              "      <td>-0.40220</td>\n",
              "      <td>0.58984</td>\n",
              "      <td>-0.22145</td>\n",
              "      <td>0.43100</td>\n",
              "      <td>-0.17365</td>\n",
              "      <td>0.60436</td>\n",
              "      <td>-0.24180</td>\n",
              "      <td>0.56045</td>\n",
              "      <td>-0.38238</td>\n",
              "      <td>g</td>\n",
              "    </tr>\n",
              "    <tr>\n",
              "      <th>3</th>\n",
              "      <td>True</td>\n",
              "      <td>False</td>\n",
              "      <td>1.00000</td>\n",
              "      <td>-0.45161</td>\n",
              "      <td>1.00000</td>\n",
              "      <td>1.00000</td>\n",
              "      <td>0.71216</td>\n",
              "      <td>-1.00000</td>\n",
              "      <td>0.00000</td>\n",
              "      <td>0.00000</td>\n",
              "      <td>...</td>\n",
              "      <td>0.90695</td>\n",
              "      <td>0.51613</td>\n",
              "      <td>1.00000</td>\n",
              "      <td>1.00000</td>\n",
              "      <td>-0.20099</td>\n",
              "      <td>0.25682</td>\n",
              "      <td>1.00000</td>\n",
              "      <td>-0.32382</td>\n",
              "      <td>1.00000</td>\n",
              "      <td>b</td>\n",
              "    </tr>\n",
              "    <tr>\n",
              "      <th>4</th>\n",
              "      <td>True</td>\n",
              "      <td>False</td>\n",
              "      <td>1.00000</td>\n",
              "      <td>-0.02401</td>\n",
              "      <td>0.94140</td>\n",
              "      <td>0.06531</td>\n",
              "      <td>0.92106</td>\n",
              "      <td>-0.23255</td>\n",
              "      <td>0.77152</td>\n",
              "      <td>-0.16399</td>\n",
              "      <td>...</td>\n",
              "      <td>-0.65158</td>\n",
              "      <td>0.13290</td>\n",
              "      <td>-0.53206</td>\n",
              "      <td>0.02431</td>\n",
              "      <td>-0.62197</td>\n",
              "      <td>-0.05707</td>\n",
              "      <td>-0.59573</td>\n",
              "      <td>-0.04608</td>\n",
              "      <td>-0.65697</td>\n",
              "      <td>g</td>\n",
              "    </tr>\n",
              "  </tbody>\n",
              "</table>\n",
              "<p>5 rows × 35 columns</p>\n",
              "</div>\n",
              "    <div class=\"colab-df-buttons\">\n",
              "\n",
              "  <div class=\"colab-df-container\">\n",
              "    <button class=\"colab-df-convert\" onclick=\"convertToInteractive('df-8a4a323e-c9ef-4fc0-8b26-f9eeae29100e')\"\n",
              "            title=\"Convert this dataframe to an interactive table.\"\n",
              "            style=\"display:none;\">\n",
              "\n",
              "  <svg xmlns=\"http://www.w3.org/2000/svg\" height=\"24px\" viewBox=\"0 -960 960 960\">\n",
              "    <path d=\"M120-120v-720h720v720H120Zm60-500h600v-160H180v160Zm220 220h160v-160H400v160Zm0 220h160v-160H400v160ZM180-400h160v-160H180v160Zm440 0h160v-160H620v160ZM180-180h160v-160H180v160Zm440 0h160v-160H620v160Z\"/>\n",
              "  </svg>\n",
              "    </button>\n",
              "\n",
              "  <style>\n",
              "    .colab-df-container {\n",
              "      display:flex;\n",
              "      gap: 12px;\n",
              "    }\n",
              "\n",
              "    .colab-df-convert {\n",
              "      background-color: #E8F0FE;\n",
              "      border: none;\n",
              "      border-radius: 50%;\n",
              "      cursor: pointer;\n",
              "      display: none;\n",
              "      fill: #1967D2;\n",
              "      height: 32px;\n",
              "      padding: 0 0 0 0;\n",
              "      width: 32px;\n",
              "    }\n",
              "\n",
              "    .colab-df-convert:hover {\n",
              "      background-color: #E2EBFA;\n",
              "      box-shadow: 0px 1px 2px rgba(60, 64, 67, 0.3), 0px 1px 3px 1px rgba(60, 64, 67, 0.15);\n",
              "      fill: #174EA6;\n",
              "    }\n",
              "\n",
              "    .colab-df-buttons div {\n",
              "      margin-bottom: 4px;\n",
              "    }\n",
              "\n",
              "    [theme=dark] .colab-df-convert {\n",
              "      background-color: #3B4455;\n",
              "      fill: #D2E3FC;\n",
              "    }\n",
              "\n",
              "    [theme=dark] .colab-df-convert:hover {\n",
              "      background-color: #434B5C;\n",
              "      box-shadow: 0px 1px 3px 1px rgba(0, 0, 0, 0.15);\n",
              "      filter: drop-shadow(0px 1px 2px rgba(0, 0, 0, 0.3));\n",
              "      fill: #FFFFFF;\n",
              "    }\n",
              "  </style>\n",
              "\n",
              "    <script>\n",
              "      const buttonEl =\n",
              "        document.querySelector('#df-8a4a323e-c9ef-4fc0-8b26-f9eeae29100e button.colab-df-convert');\n",
              "      buttonEl.style.display =\n",
              "        google.colab.kernel.accessAllowed ? 'block' : 'none';\n",
              "\n",
              "      async function convertToInteractive(key) {\n",
              "        const element = document.querySelector('#df-8a4a323e-c9ef-4fc0-8b26-f9eeae29100e');\n",
              "        const dataTable =\n",
              "          await google.colab.kernel.invokeFunction('convertToInteractive',\n",
              "                                                    [key], {});\n",
              "        if (!dataTable) return;\n",
              "\n",
              "        const docLinkHtml = 'Like what you see? Visit the ' +\n",
              "          '<a target=\"_blank\" href=https://colab.research.google.com/notebooks/data_table.ipynb>data table notebook</a>'\n",
              "          + ' to learn more about interactive tables.';\n",
              "        element.innerHTML = '';\n",
              "        dataTable['output_type'] = 'display_data';\n",
              "        await google.colab.output.renderOutput(dataTable, element);\n",
              "        const docLink = document.createElement('div');\n",
              "        docLink.innerHTML = docLinkHtml;\n",
              "        element.appendChild(docLink);\n",
              "      }\n",
              "    </script>\n",
              "  </div>\n",
              "\n",
              "\n",
              "<div id=\"df-62becc32-de95-4ef3-9aab-666633503c6f\">\n",
              "  <button class=\"colab-df-quickchart\" onclick=\"quickchart('df-62becc32-de95-4ef3-9aab-666633503c6f')\"\n",
              "            title=\"Suggest charts\"\n",
              "            style=\"display:none;\">\n",
              "\n",
              "<svg xmlns=\"http://www.w3.org/2000/svg\" height=\"24px\"viewBox=\"0 0 24 24\"\n",
              "     width=\"24px\">\n",
              "    <g>\n",
              "        <path d=\"M19 3H5c-1.1 0-2 .9-2 2v14c0 1.1.9 2 2 2h14c1.1 0 2-.9 2-2V5c0-1.1-.9-2-2-2zM9 17H7v-7h2v7zm4 0h-2V7h2v10zm4 0h-2v-4h2v4z\"/>\n",
              "    </g>\n",
              "</svg>\n",
              "  </button>\n",
              "\n",
              "<style>\n",
              "  .colab-df-quickchart {\n",
              "      --bg-color: #E8F0FE;\n",
              "      --fill-color: #1967D2;\n",
              "      --hover-bg-color: #E2EBFA;\n",
              "      --hover-fill-color: #174EA6;\n",
              "      --disabled-fill-color: #AAA;\n",
              "      --disabled-bg-color: #DDD;\n",
              "  }\n",
              "\n",
              "  [theme=dark] .colab-df-quickchart {\n",
              "      --bg-color: #3B4455;\n",
              "      --fill-color: #D2E3FC;\n",
              "      --hover-bg-color: #434B5C;\n",
              "      --hover-fill-color: #FFFFFF;\n",
              "      --disabled-bg-color: #3B4455;\n",
              "      --disabled-fill-color: #666;\n",
              "  }\n",
              "\n",
              "  .colab-df-quickchart {\n",
              "    background-color: var(--bg-color);\n",
              "    border: none;\n",
              "    border-radius: 50%;\n",
              "    cursor: pointer;\n",
              "    display: none;\n",
              "    fill: var(--fill-color);\n",
              "    height: 32px;\n",
              "    padding: 0;\n",
              "    width: 32px;\n",
              "  }\n",
              "\n",
              "  .colab-df-quickchart:hover {\n",
              "    background-color: var(--hover-bg-color);\n",
              "    box-shadow: 0 1px 2px rgba(60, 64, 67, 0.3), 0 1px 3px 1px rgba(60, 64, 67, 0.15);\n",
              "    fill: var(--button-hover-fill-color);\n",
              "  }\n",
              "\n",
              "  .colab-df-quickchart-complete:disabled,\n",
              "  .colab-df-quickchart-complete:disabled:hover {\n",
              "    background-color: var(--disabled-bg-color);\n",
              "    fill: var(--disabled-fill-color);\n",
              "    box-shadow: none;\n",
              "  }\n",
              "\n",
              "  .colab-df-spinner {\n",
              "    border: 2px solid var(--fill-color);\n",
              "    border-color: transparent;\n",
              "    border-bottom-color: var(--fill-color);\n",
              "    animation:\n",
              "      spin 1s steps(1) infinite;\n",
              "  }\n",
              "\n",
              "  @keyframes spin {\n",
              "    0% {\n",
              "      border-color: transparent;\n",
              "      border-bottom-color: var(--fill-color);\n",
              "      border-left-color: var(--fill-color);\n",
              "    }\n",
              "    20% {\n",
              "      border-color: transparent;\n",
              "      border-left-color: var(--fill-color);\n",
              "      border-top-color: var(--fill-color);\n",
              "    }\n",
              "    30% {\n",
              "      border-color: transparent;\n",
              "      border-left-color: var(--fill-color);\n",
              "      border-top-color: var(--fill-color);\n",
              "      border-right-color: var(--fill-color);\n",
              "    }\n",
              "    40% {\n",
              "      border-color: transparent;\n",
              "      border-right-color: var(--fill-color);\n",
              "      border-top-color: var(--fill-color);\n",
              "    }\n",
              "    60% {\n",
              "      border-color: transparent;\n",
              "      border-right-color: var(--fill-color);\n",
              "    }\n",
              "    80% {\n",
              "      border-color: transparent;\n",
              "      border-right-color: var(--fill-color);\n",
              "      border-bottom-color: var(--fill-color);\n",
              "    }\n",
              "    90% {\n",
              "      border-color: transparent;\n",
              "      border-bottom-color: var(--fill-color);\n",
              "    }\n",
              "  }\n",
              "</style>\n",
              "\n",
              "  <script>\n",
              "    async function quickchart(key) {\n",
              "      const quickchartButtonEl =\n",
              "        document.querySelector('#' + key + ' button');\n",
              "      quickchartButtonEl.disabled = true;  // To prevent multiple clicks.\n",
              "      quickchartButtonEl.classList.add('colab-df-spinner');\n",
              "      try {\n",
              "        const charts = await google.colab.kernel.invokeFunction(\n",
              "            'suggestCharts', [key], {});\n",
              "      } catch (error) {\n",
              "        console.error('Error during call to suggestCharts:', error);\n",
              "      }\n",
              "      quickchartButtonEl.classList.remove('colab-df-spinner');\n",
              "      quickchartButtonEl.classList.add('colab-df-quickchart-complete');\n",
              "    }\n",
              "    (() => {\n",
              "      let quickchartButtonEl =\n",
              "        document.querySelector('#df-62becc32-de95-4ef3-9aab-666633503c6f button');\n",
              "      quickchartButtonEl.style.display =\n",
              "        google.colab.kernel.accessAllowed ? 'block' : 'none';\n",
              "    })();\n",
              "  </script>\n",
              "</div>\n",
              "\n",
              "    </div>\n",
              "  </div>\n"
            ],
            "application/vnd.google.colaboratory.intrinsic+json": {
              "type": "dataframe",
              "variable_name": "data"
            }
          },
          "metadata": {},
          "execution_count": 18
        }
      ]
    },
    {
      "cell_type": "code",
      "source": [
        "# Check for missing values\n",
        "missing_values = data.isnull().sum()\n",
        "\n",
        "# Display columns with missing values\n",
        "missing_columns = missing_values[missing_values > 0]\n",
        "missing_columns"
      ],
      "metadata": {
        "colab": {
          "base_uri": "https://localhost:8080/",
          "height": 84
        },
        "id": "bzmeSpx2O_Hq",
        "outputId": "77650b8a-89b6-47f8-c022-de839235541a"
      },
      "id": "bzmeSpx2O_Hq",
      "execution_count": 19,
      "outputs": [
        {
          "output_type": "execute_result",
          "data": {
            "text/plain": [
              "Series([], dtype: int64)"
            ],
            "text/html": [
              "<div>\n",
              "<style scoped>\n",
              "    .dataframe tbody tr th:only-of-type {\n",
              "        vertical-align: middle;\n",
              "    }\n",
              "\n",
              "    .dataframe tbody tr th {\n",
              "        vertical-align: top;\n",
              "    }\n",
              "\n",
              "    .dataframe thead th {\n",
              "        text-align: right;\n",
              "    }\n",
              "</style>\n",
              "<table border=\"1\" class=\"dataframe\">\n",
              "  <thead>\n",
              "    <tr style=\"text-align: right;\">\n",
              "      <th></th>\n",
              "      <th>0</th>\n",
              "    </tr>\n",
              "  </thead>\n",
              "  <tbody>\n",
              "  </tbody>\n",
              "</table>\n",
              "</div><br><label><b>dtype:</b> int64</label>"
            ]
          },
          "metadata": {},
          "execution_count": 19
        }
      ]
    },
    {
      "cell_type": "markdown",
      "id": "4d42c1f0",
      "metadata": {
        "id": "4d42c1f0"
      },
      "source": [
        "## Optimization and Baseline Model Creation"
      ]
    },
    {
      "cell_type": "code",
      "execution_count": 20,
      "id": "753d9266",
      "metadata": {
        "id": "753d9266",
        "outputId": "ea62c901-cd8d-405d-c97c-48bd6573a93c",
        "colab": {
          "base_uri": "https://localhost:8080/"
        }
      },
      "outputs": [
        {
          "output_type": "stream",
          "name": "stdout",
          "text": [
            "Number of features: 34\n",
            "Accuracy: 0.8773584905660378\n",
            "\n",
            "Classification Report:\n",
            "               precision    recall  f1-score   support\n",
            "\n",
            "           0       0.96      0.69      0.81        39\n",
            "           1       0.85      0.99      0.91        67\n",
            "\n",
            "    accuracy                           0.88       106\n",
            "   macro avg       0.91      0.84      0.86       106\n",
            "weighted avg       0.89      0.88      0.87       106\n",
            "\n"
          ]
        }
      ],
      "source": [
        "# Import necessary libraries\n",
        "import pandas as pd\n",
        "from google.colab import drive\n",
        "from sklearn.model_selection import train_test_split\n",
        "from sklearn.preprocessing import StandardScaler, LabelEncoder\n",
        "from sklearn.linear_model import LogisticRegression\n",
        "from sklearn.metrics import accuracy_score, classification_report\n",
        "\n",
        "# Define the file path in Google Drive\n",
        "file_path = '/content/drive/MyDrive/MSc Dessertation/DATASETS/ionosphere_data.csv'\n",
        "\n",
        "# Load the dataset\n",
        "data = pd.read_csv(file_path)\n",
        "\n",
        "# Encode the categorical labels in 'column_ai'\n",
        "label_encoder = LabelEncoder()\n",
        "data['column_ai'] = label_encoder.fit_transform(data['column_ai'])  # 'g' -> 1, 'b' -> 0\n",
        "\n",
        "# Separate features and target\n",
        "X = data.drop(columns=['column_ai'])\n",
        "y = data['column_ai']\n",
        "\n",
        "# Print the number of features\n",
        "print(\"Number of features:\", X.shape[1])\n",
        "\n",
        "# Standardize the numerical features\n",
        "scaler = StandardScaler()\n",
        "X_scaled = scaler.fit_transform(X)\n",
        "\n",
        "# Split the data into training and testing sets\n",
        "X_train, X_test, y_train, y_test = train_test_split(X_scaled, y, test_size=0.3, random_state=42)\n",
        "\n",
        "# Train a baseline logistic regression model\n",
        "logreg = LogisticRegression(random_state=42)\n",
        "logreg.fit(X_train, y_train)\n",
        "\n",
        "# Make predictions on the test set\n",
        "y_pred = logreg.predict(X_test)\n",
        "\n",
        "# Evaluate the model\n",
        "r2_Baseline = accuracy_score(y_test, y_pred)\n",
        "classification_rep = classification_report(y_test, y_pred)\n",
        "\n",
        "# Print the results\n",
        "print(\"Accuracy:\", r2_Baseline)\n",
        "print(\"\\nClassification Report:\\n\", classification_rep)\n"
      ]
    },
    {
      "cell_type": "code",
      "source": [
        "# Import necessary libraries for the confusion matrix\n",
        "from sklearn.metrics import confusion_matrix\n",
        "import matplotlib.pyplot as plt\n",
        "import seaborn as sns\n",
        "\n",
        "# Standardize the numerical features\n",
        "scaler = StandardScaler()\n",
        "X_scaled = scaler.fit_transform(X)  # Fit and transform the entire dataset\n",
        "\n",
        "# Split the data into training and testing sets\n",
        "X_train, X_test, y_train, y_test = train_test_split(X_scaled, y, test_size=0.3, random_state=42)\n",
        "\n",
        "# Train the logistic regression model\n",
        "logreg = LogisticRegression(random_state=42)\n",
        "logreg.fit(X_train, y_train)\n",
        "\n",
        "# Make predictions on the test set\n",
        "y_pred = logreg.predict(X_test)\n",
        "\n",
        "# Calculate the accuracy\n",
        "r2_Baseline = accuracy_score(y_test, y_pred)\n",
        "\n",
        "# Evaluate the classification report\n",
        "classification_rep = classification_report(y_test, y_pred)\n",
        "\n",
        "# Print the results\n",
        "print(\"Accuracy:\", r2_Baseline)\n",
        "print(\"\\nClassification Report:\\n\", classification_rep)\n",
        "\n",
        "# Calculate and visualize the confusion matrix\n",
        "conf_matrix = confusion_matrix(y_test, y_pred)\n",
        "plt.figure(figsize=(8, 6))\n",
        "sns.heatmap(conf_matrix, annot=True, fmt='d', cmap='Blues', xticklabels=label_encoder.classes_, yticklabels=label_encoder.classes_)\n",
        "plt.title('Confusion Matrix')\n",
        "plt.xlabel('Predicted Labels')\n",
        "plt.ylabel('True Labels')\n",
        "plt.show()\n",
        "\n"
      ],
      "metadata": {
        "colab": {
          "base_uri": "https://localhost:8080/",
          "height": 772
        },
        "id": "qb8PWFvAXCot",
        "outputId": "875e18bb-33bb-4ae7-c66b-07991d5dd398"
      },
      "id": "qb8PWFvAXCot",
      "execution_count": 21,
      "outputs": [
        {
          "output_type": "stream",
          "name": "stdout",
          "text": [
            "Accuracy: 0.8773584905660378\n",
            "\n",
            "Classification Report:\n",
            "               precision    recall  f1-score   support\n",
            "\n",
            "           0       0.96      0.69      0.81        39\n",
            "           1       0.85      0.99      0.91        67\n",
            "\n",
            "    accuracy                           0.88       106\n",
            "   macro avg       0.91      0.84      0.86       106\n",
            "weighted avg       0.89      0.88      0.87       106\n",
            "\n"
          ]
        },
        {
          "output_type": "display_data",
          "data": {
            "text/plain": [
              "<Figure size 800x600 with 2 Axes>"
            ],
            "image/png": "[encoded data removed]"
          },
          "metadata": {}
        }
      ]
    },
    {
      "cell_type": "markdown",
      "id": "680be169",
      "metadata": {
        "id": "680be169"
      },
      "source": [
        "## Applying Stochastic Diffusion Search (SDS)"
      ]
    },
    {
      "cell_type": "code",
      "execution_count": 22,
      "id": "96a95a8a",
      "metadata": {
        "id": "96a95a8a",
        "outputId": "a60f93ac-b32f-4e25-cc7a-df04789d2bf3",
        "colab": {
          "base_uri": "https://localhost:8080/"
        }
      },
      "outputs": [
        {
          "output_type": "stream",
          "name": "stdout",
          "text": [
            "Selected Features: [ 0  5  6  7  9 10 14 16 20 21 22 26 28 29 33]\n",
            "Number of selected features: 15\n",
            "Accuracy after SDS feature reduction: 0.9150943396226415\n"
          ]
        }
      ],
      "source": [
        "import numpy as np\n",
        "import pandas as pd\n",
        "from sklearn.linear_model import LogisticRegression\n",
        "from sklearn.metrics import accuracy_score\n",
        "from sklearn.model_selection import train_test_split\n",
        "from sklearn.preprocessing import StandardScaler, LabelEncoder\n",
        "\n",
        "# Basic SDS implementation for feature selection\n",
        "class SDS:\n",
        "    def __init__(self, n_agents, n_iterations, threshold):\n",
        "        self.n_agents = n_agents\n",
        "        self.n_iterations = n_iterations\n",
        "        self.threshold = threshold\n",
        "\n",
        "    def initialize_agents(self, n_features):\n",
        "        # Randomly initialize agent hypotheses (feature subsets) as binary arrays\n",
        "        self.agents = np.random.randint(0, 2, (self.n_agents, n_features))\n",
        "\n",
        "    def evaluate_agent(self, agent, X, y):\n",
        "        # Select the features according to the agent's binary hypothesis\n",
        "        selected_features = np.where(agent == 1)[0]\n",
        "\n",
        "        if len(selected_features) == 0:\n",
        "            return 0  # If no features are selected, return 0 accuracy\n",
        "\n",
        "        # Train a simple Logistic Regression model on the selected features\n",
        "        X_selected = X[:, selected_features]\n",
        "        model = LogisticRegression(random_state=42)\n",
        "        model.fit(X_selected, y)\n",
        "\n",
        "        # Predict on the same data (for simplicity in this basic implementation)\n",
        "        y_pred = model.predict(X_selected)\n",
        "\n",
        "        # Return accuracy as the fitness score of the agent\n",
        "        return accuracy_score(y, y_pred)\n",
        "\n",
        "    def diffuse(self):\n",
        "        # Agents exchange information with a neighbor and update their hypothesis\n",
        "        for i in range(self.n_agents):\n",
        "            neighbor = np.random.randint(0, self.n_agents)\n",
        "            if np.random.rand() < self.threshold:\n",
        "                self.agents[i] = self.agents[neighbor]\n",
        "\n",
        "    def fit(self, X, y):\n",
        "        n_features = X.shape[1]\n",
        "        self.initialize_agents(n_features)\n",
        "\n",
        "        for iteration in range(self.n_iterations):\n",
        "            scores = np.array([self.evaluate_agent(agent, X, y) for agent in self.agents])\n",
        "            best_agent = self.agents[np.argmax(scores)]\n",
        "\n",
        "            # Diffuse knowledge across the population\n",
        "            self.diffuse()\n",
        "\n",
        "            # Allow agents to adopt the best agent's hypothesis\n",
        "            for i in range(self.n_agents):\n",
        "                if np.random.rand() < self.threshold:\n",
        "                    self.agents[i] = best_agent\n",
        "\n",
        "        self.best_agent = best_agent\n",
        "        self.best_score = max(scores)\n",
        "\n",
        "    def transform(self, X):\n",
        "        selected_features = np.where(self.best_agent == 1)[0]\n",
        "        return X[:, selected_features], selected_features\n",
        "\n",
        "# Encode the categorical labels in 'column_ai'\n",
        "label_encoder = LabelEncoder()\n",
        "data['column_ai'] = label_encoder.fit_transform(data['column_ai'])  # 'g' -> 1, 'b' -> 0\n",
        "\n",
        "# Separate features and target\n",
        "X = data.drop(columns=['column_ai'])\n",
        "y = data['column_ai']\n",
        "\n",
        "# Standardize the numerical features\n",
        "scaler = StandardScaler()\n",
        "X_scaled = scaler.fit_transform(X)\n",
        "\n",
        "# Split the data into training and testing sets\n",
        "X_train, X_test, y_train, y_test = train_test_split(X_scaled, y, test_size=0.3, random_state=42)\n",
        "\n",
        "# Apply SDS for feature reduction\n",
        "n_agents = 100\n",
        "n_iterations = 50\n",
        "threshold = 0.5\n",
        "\n",
        "sds = SDS(n_agents=n_agents, n_iterations=n_iterations, threshold=threshold)\n",
        "sds.fit(X_train, y_train)\n",
        "\n",
        "# Get the reduced feature set\n",
        "X_train_reduced, selected_features = sds.transform(X_train)\n",
        "X_test_reduced = X_test[:, selected_features]\n",
        "\n",
        "# Train the logistic regression model on the reduced feature set\n",
        "logreg_reduced = LogisticRegression(random_state=42)\n",
        "logreg_reduced.fit(X_train_reduced, y_train)\n",
        "\n",
        "# Make predictions and evaluate the model\n",
        "y_pred_reduced = logreg_reduced.predict(X_test_reduced)\n",
        "SDSfinal_r2_score = accuracy_score(y_test, y_pred_reduced)\n",
        "\n",
        "# Print reduced features, number of selected features, and accuracy\n",
        "print(\"Selected Features:\", selected_features)\n",
        "print(\"Number of selected features:\", len(selected_features))\n",
        "print(\"Accuracy after SDS feature reduction:\", SDSfinal_r2_score)\n"
      ]
    },
    {
      "cell_type": "code",
      "source": [
        "# Import necessary libraries for confusion matrix\n",
        "from sklearn.metrics import confusion_matrix\n",
        "import matplotlib.pyplot as plt\n",
        "import seaborn as sns\n",
        "\n",
        "# Compute the confusion matrix\n",
        "conf_matrix = confusion_matrix(y_test, y_pred_reduced)\n",
        "\n",
        "# Visualize the confusion matrix\n",
        "plt.figure(figsize=(8, 6))\n",
        "sns.heatmap(conf_matrix, annot=True, fmt='d', cmap='Blues', xticklabels=label_encoder.classes_, yticklabels=label_encoder.classes_)\n",
        "plt.title('Confusion Matrix after SDS Feature Reduction')\n",
        "plt.xlabel('Predicted Labels')\n",
        "plt.ylabel('True Labels')\n",
        "plt.show()\n",
        "\n",
        "# Print additional results\n",
        "print(\"Confusion Matrix:\\n\", conf_matrix)\n"
      ],
      "metadata": {
        "colab": {
          "base_uri": "https://localhost:8080/",
          "height": 616
        },
        "id": "KMZIdJpuXLYJ",
        "outputId": "a33e2040-fdab-4b0a-9a5f-72f287ebb792"
      },
      "id": "KMZIdJpuXLYJ",
      "execution_count": 23,
      "outputs": [
        {
          "output_type": "display_data",
          "data": {
            "text/plain": [
              "<Figure size 800x600 with 2 Axes>"
            ],
            "image/png": "[encoded data removed]"
          },
          "metadata": {}
        },
        {
          "output_type": "stream",
          "name": "stdout",
          "text": [
            "Confusion Matrix:\n",
            " [[30  9]\n",
            " [ 0 67]]\n"
          ]
        }
      ]
    },
    {
      "cell_type": "markdown",
      "id": "e82ece23",
      "metadata": {
        "id": "e82ece23"
      },
      "source": [
        "## Applying Principal Component Analysis (PCA)"
      ]
    },
    {
      "cell_type": "code",
      "execution_count": 24,
      "id": "e744b747",
      "metadata": {
        "id": "e744b747",
        "outputId": "2234b072-7b04-49e1-efea-211e55fae6f4",
        "colab": {
          "base_uri": "https://localhost:8080/"
        }
      },
      "outputs": [
        {
          "output_type": "stream",
          "name": "stdout",
          "text": [
            "Number of features before PCA: 34\n",
            "Number of features after PCA: 22\n",
            "Accuracy after PCA feature reduction: 0.8962264150943396\n"
          ]
        }
      ],
      "source": [
        " # Import necessary libraries\n",
        "import pandas as pd\n",
        "from sklearn.model_selection import train_test_split\n",
        "from sklearn.preprocessing import StandardScaler, LabelEncoder\n",
        "from sklearn.decomposition import PCA\n",
        "from sklearn.linear_model import LogisticRegression\n",
        "from sklearn.metrics import accuracy_score\n",
        "\n",
        "# Encode the categorical labels in 'column_ai'\n",
        "label_encoder = LabelEncoder()\n",
        "data['column_ai'] = label_encoder.fit_transform(data['column_ai'])  # 'g' -> 1, 'b' -> 0\n",
        "\n",
        "# Separate features and target\n",
        "X = data.drop(columns=['column_ai'])\n",
        "y = data['column_ai']\n",
        "\n",
        "# Standardize the numerical features\n",
        "scaler = StandardScaler()\n",
        "X_scaled = scaler.fit_transform(X)\n",
        "\n",
        "# Split the data into training and testing sets\n",
        "X_train, X_test, y_train, y_test = train_test_split(X_scaled, y, test_size=0.3, random_state=42)\n",
        "\n",
        "# Apply PCA to reduce the number of features\n",
        "pca = PCA(n_components=0.95)  # Retain 95% of variance\n",
        "X_train_pca = pca.fit_transform(X_train)\n",
        "X_test_pca = pca.transform(X_test)\n",
        "\n",
        "# Train the logistic regression model on the reduced feature set\n",
        "logreg = LogisticRegression(random_state=42)\n",
        "logreg.fit(X_train_pca, y_train)\n",
        "\n",
        "# Make predictions and evaluate the model\n",
        "y_pred_pca = logreg.predict(X_test_pca)\n",
        "PCAfinal_r2_score = accuracy_score(y_test, y_pred_pca)\n",
        "\n",
        "# Print the reduced features and accuracy\n",
        "print(\"Number of features before PCA:\", X.shape[1])\n",
        "print(\"Number of features after PCA:\", X_train_pca.shape[1])\n",
        "print(\"Accuracy after PCA feature reduction:\", PCAfinal_r2_score)\n"
      ]
    },
    {
      "cell_type": "code",
      "source": [
        "# Import necessary libraries for confusion matrix\n",
        "from sklearn.metrics import confusion_matrix\n",
        "import matplotlib.pyplot as plt\n",
        "import seaborn as sns\n",
        "\n",
        "# Compute the confusion matrix\n",
        "conf_matrix = confusion_matrix(y_test, y_pred_pca)\n",
        "\n",
        "# Visualize the confusion matrix\n",
        "plt.figure(figsize=(8, 6))\n",
        "sns.heatmap(conf_matrix, annot=True, fmt='d', cmap='Blues', xticklabels=label_encoder.classes_, yticklabels=label_encoder.classes_)\n",
        "plt.title('Confusion Matrix after PCA Feature Reduction')\n",
        "plt.xlabel('Predicted Labels')\n",
        "plt.ylabel('True Labels')\n",
        "plt.show()\n",
        "\n",
        "# Print additional results\n",
        "print(\"Confusion Matrix:\\n\", conf_matrix)\n"
      ],
      "metadata": {
        "colab": {
          "base_uri": "https://localhost:8080/",
          "height": 616
        },
        "id": "LpbJtb2HYL6B",
        "outputId": "0ab4d1af-ba96-4c07-d3b4-e51816bca66e"
      },
      "id": "LpbJtb2HYL6B",
      "execution_count": 25,
      "outputs": [
        {
          "output_type": "display_data",
          "data": {
            "text/plain": [
              "<Figure size 800x600 with 2 Axes>"
            ],
            "image/png": "[encoded data removed]"
          },
          "metadata": {}
        },
        {
          "output_type": "stream",
          "name": "stdout",
          "text": [
            "Confusion Matrix:\n",
            " [[29 10]\n",
            " [ 1 66]]\n"
          ]
        }
      ]
    },
    {
      "cell_type": "markdown",
      "id": "f1344f2f",
      "metadata": {
        "id": "f1344f2f"
      },
      "source": [
        "## Applying Recursive Feature Elimination (RFE)"
      ]
    },
    {
      "cell_type": "code",
      "execution_count": 26,
      "id": "8f5e019a",
      "metadata": {
        "id": "8f5e019a",
        "outputId": "d8151a46-6e44-4a0c-d4dc-49f6cfa359cd",
        "colab": {
          "base_uri": "https://localhost:8080/"
        }
      },
      "outputs": [
        {
          "output_type": "stream",
          "name": "stdout",
          "text": [
            "Number of features before RFE: 34\n",
            "Number of features after RFE: 10\n",
            "Selected Features (True for selected): [ True False  True False False False  True  True False False False False\n",
            " False False False False False False False False False  True False False\n",
            "  True False  True False False  True  True False False  True]\n",
            "Accuracy after RFE feature reduction: 0.8773584905660378\n"
          ]
        }
      ],
      "source": [
        "# Import necessary libraries\n",
        "import pandas as pd\n",
        "from sklearn.model_selection import train_test_split\n",
        "from sklearn.preprocessing import StandardScaler, LabelEncoder\n",
        "from sklearn.linear_model import LogisticRegression\n",
        "from sklearn.metrics import accuracy_score\n",
        "from sklearn.feature_selection import RFE\n",
        "\n",
        "# Encode the categorical labels in 'column_ai'\n",
        "label_encoder = LabelEncoder()\n",
        "data['column_ai'] = label_encoder.fit_transform(data['column_ai'])  # 'g' -> 1, 'b' -> 0\n",
        "\n",
        "# Separate features and target\n",
        "X = data.drop(columns=['column_ai'])\n",
        "y = data['column_ai']\n",
        "\n",
        "# Standardize the numerical features\n",
        "scaler = StandardScaler()\n",
        "X_scaled = scaler.fit_transform(X)\n",
        "\n",
        "# Split the data into training and testing sets\n",
        "X_train, X_test, y_train, y_test = train_test_split(X_scaled, y, test_size=0.3, random_state=42)\n",
        "\n",
        "# Initialize the Logistic Regression model\n",
        "logreg = LogisticRegression(random_state=42)\n",
        "\n",
        "# Apply RFE to select the top features\n",
        "n_features_to_select = 10  # You can adjust this number based on how many features you want to keep\n",
        "rfe = RFE(estimator=logreg, n_features_to_select=n_features_to_select)\n",
        "rfe.fit(X_train, y_train)\n",
        "\n",
        "# Get the reduced feature set\n",
        "X_train_rfe = rfe.transform(X_train)\n",
        "X_test_rfe = rfe.transform(X_test)\n",
        "\n",
        "# Train the logistic regression model on the reduced feature set\n",
        "logreg.fit(X_train_rfe, y_train)\n",
        "\n",
        "# Make predictions and evaluate the model\n",
        "y_pred_rfe = logreg.predict(X_test_rfe)\n",
        "RFEfinal_r2_score = accuracy_score(y_test, y_pred_rfe)\n",
        "\n",
        "# Print the selected features, accuracy, and number of features after RFE\n",
        "print(\"Number of features before RFE:\", X.shape[1])\n",
        "print(\"Number of features after RFE:\", rfe.support_.sum())\n",
        "print(\"Selected Features (True for selected):\", rfe.support_)\n",
        "print(\"Accuracy after RFE feature reduction:\", RFEfinal_r2_score)\n"
      ]
    },
    {
      "cell_type": "code",
      "source": [
        "# Import necessary libraries for confusion matrix\n",
        "from sklearn.metrics import confusion_matrix\n",
        "import matplotlib.pyplot as plt\n",
        "import seaborn as sns\n",
        "\n",
        "# Compute the confusion matrix\n",
        "conf_matrix = confusion_matrix(y_test, y_pred_rfe)\n",
        "\n",
        "# Visualize the confusion matrix\n",
        "plt.figure(figsize=(8, 6))\n",
        "sns.heatmap(conf_matrix, annot=True, fmt='d', cmap='Blues', xticklabels=label_encoder.classes_, yticklabels=label_encoder.classes_)\n",
        "plt.title('Confusion Matrix after RFE Feature Reduction')\n",
        "plt.xlabel('Predicted Labels')\n",
        "plt.ylabel('True Labels')\n",
        "plt.show()\n",
        "\n",
        "# Print additional results\n",
        "print(\"Confusion Matrix:\\n\", conf_matrix)\n"
      ],
      "metadata": {
        "colab": {
          "base_uri": "https://localhost:8080/",
          "height": 616
        },
        "id": "ca7jikDgYYK0",
        "outputId": "8be1bdcd-9d88-4c27-ef01-4935b848f04a"
      },
      "id": "ca7jikDgYYK0",
      "execution_count": 27,
      "outputs": [
        {
          "output_type": "display_data",
          "data": {
            "text/plain": [
              "<Figure size 800x600 with 2 Axes>"
            ],
            "image/png": "[encoded data removed]"
          },
          "metadata": {}
        },
        {
          "output_type": "stream",
          "name": "stdout",
          "text": [
            "Confusion Matrix:\n",
            " [[27 12]\n",
            " [ 1 66]]\n"
          ]
        }
      ]
    },
    {
      "cell_type": "markdown",
      "source": [
        "## Applying Filter Method - Mutual Information"
      ],
      "metadata": {
        "id": "_yv-JgQtKjEa"
      },
      "id": "_yv-JgQtKjEa"
    },
    {
      "cell_type": "code",
      "source": [
        "from sklearn.feature_selection import mutual_info_classif\n",
        "import numpy as np\n",
        "\n",
        "# Calculate mutual information for all features\n",
        "mi_scores = mutual_info_classif(X_train, y_train)\n",
        "\n",
        "# Select top k features based on mutual information\n",
        "k = 30  # Number of features to select (adjust this as needed)\n",
        "top_k_indices = np.argsort(mi_scores)[-k:]\n",
        "X_train_filter = X_train[:, top_k_indices]\n",
        "X_test_filter = X_test[:, top_k_indices]\n",
        "\n",
        "# Train a logistic regression model on the selected features\n",
        "logreg = LogisticRegression(random_state=42)\n",
        "logreg.fit(X_train_filter, y_train)\n",
        "\n",
        "# Evaluate the model\n",
        "y_pred_filter = logreg.predict(X_test_filter)\n",
        "filter_r2_score = accuracy_score(y_test, y_pred_filter)\n",
        "\n",
        "# Number of selected features\n",
        "filter_features = X_train_filter.shape[1]\n",
        "print(f\"Accuracy after Mutual Information (Filter Method): {filter_r2_score}\")\n",
        "print(f\"Number of features after Mutual Information: {filter_features}\")\n"
      ],
      "metadata": {
        "colab": {
          "base_uri": "https://localhost:8080/"
        },
        "id": "N6CgAOd1KiyP",
        "outputId": "322582f3-0ab2-44d0-bc9e-079c0ad21916"
      },
      "id": "N6CgAOd1KiyP",
      "execution_count": 28,
      "outputs": [
        {
          "output_type": "stream",
          "name": "stdout",
          "text": [
            "Accuracy after Mutual Information (Filter Method): 0.8679245283018868\n",
            "Number of features after Mutual Information: 30\n"
          ]
        }
      ]
    },
    {
      "cell_type": "code",
      "source": [
        "# Import necessary libraries for confusion matrix\n",
        "from sklearn.metrics import confusion_matrix\n",
        "import matplotlib.pyplot as plt\n",
        "import seaborn as sns\n",
        "\n",
        "# Compute the confusion matrix\n",
        "conf_matrix = confusion_matrix(y_test, y_pred_filter)\n",
        "\n",
        "# Visualize the confusion matrix\n",
        "plt.figure(figsize=(8, 6))\n",
        "sns.heatmap(conf_matrix, annot=True, fmt='d', cmap='Blues', xticklabels=label_encoder.classes_, yticklabels=label_encoder.classes_)\n",
        "plt.title('Confusion Matrix after Mutual Information Feature Selection')\n",
        "plt.xlabel('Predicted Labels')\n",
        "plt.ylabel('True Labels')\n",
        "plt.show()\n",
        "\n",
        "# Print the confusion matrix\n",
        "print(\"Confusion Matrix:\\n\", conf_matrix)\n"
      ],
      "metadata": {
        "colab": {
          "base_uri": "https://localhost:8080/",
          "height": 616
        },
        "id": "stGFu2m8YzMu",
        "outputId": "4f4c566d-299f-4999-c2a2-521a26260db9"
      },
      "id": "stGFu2m8YzMu",
      "execution_count": 29,
      "outputs": [
        {
          "output_type": "display_data",
          "data": {
            "text/plain": [
              "<Figure size 800x600 with 2 Axes>"
            ],
            "image/png": "[encoded data removed]"
          },
          "metadata": {}
        },
        {
          "output_type": "stream",
          "name": "stdout",
          "text": [
            "Confusion Matrix:\n",
            " [[26 13]\n",
            " [ 1 66]]\n"
          ]
        }
      ]
    },
    {
      "cell_type": "markdown",
      "id": "4c8d91f3",
      "metadata": {
        "id": "4c8d91f3"
      },
      "source": [
        "## Model Performance Comparison and Visualization of Models"
      ]
    },
    {
      "cell_type": "code",
      "source": [
        "# Baseline model accuracies and features (assuming these were already calculated and stored)\n",
        "baseline_r2 = r2_Baseline\n",
        "baseline_features = X.shape[1]  # total features before any feature selection\n",
        "\n",
        "# SDS model accuracies and features\n",
        "sds_r2 = SDSfinal_r2_score  # this should be directly from the SDS output\n",
        "sds_features = len(selected_features)  # directly from the SDS output\n",
        "\n",
        "# RFE model accuracies and features\n",
        "rfe_r2 = RFEfinal_r2_score\n",
        "rfe_features = rfe.support_.sum()  # from the RFECV model after fitting\n",
        "\n",
        "# PCA model accuracies and features\n",
        "pca_r2 = PCAfinal_r2_score\n",
        "pca_features = X_train_pca.shape[1]  # number of features after applying PCA\n",
        "\n",
        "# Mutual Information (Filter Method) accuracies and features\n",
        "filter_r2 = filter_r2_score  # from the Mutual Information filter method evaluation\n",
        "filter_features = X_train_filter.shape[1]  # number of features selected by the filter method\n",
        "\n",
        "# Compile all the data into a dictionary for easier comparison\n",
        "model_performances = {\n",
        "    'Baseline': {'R2 Score': baseline_r2, 'Number of Features': baseline_features},\n",
        "    'SDS': {'R2 Score': sds_r2, 'Number of Features': sds_features},\n",
        "    'RFE': {'R2 Score': rfe_r2, 'Number of Features': rfe_features},\n",
        "    'PCA': {'R2 Score': pca_r2, 'Number of Features': pca_features},\n",
        "    'Filter Method (Mutual Info)': {'R2 Score': filter_r2, 'Number of Features': filter_features}\n",
        "}\n",
        "\n",
        "# Display the comparison in a formatted way\n",
        "print(\"Model Performance Comparison (Updated):\")\n",
        "for model_name, metrics in model_performances.items():\n",
        "    print(f\"{model_name} Model: Accuracy = {metrics['R2 Score']:.3f}, Features Used = {metrics['Number of Features']}\")\n"
      ],
      "metadata": {
        "colab": {
          "base_uri": "https://localhost:8080/"
        },
        "id": "yRz2Ga-oLmRR",
        "outputId": "18e70e2f-bc4d-45e3-de91-da094a02493f"
      },
      "id": "yRz2Ga-oLmRR",
      "execution_count": 30,
      "outputs": [
        {
          "output_type": "stream",
          "name": "stdout",
          "text": [
            "Model Performance Comparison (Updated):\n",
            "Baseline Model: Accuracy = 0.877, Features Used = 34\n",
            "SDS Model: Accuracy = 0.915, Features Used = 15\n",
            "RFE Model: Accuracy = 0.877, Features Used = 10\n",
            "PCA Model: Accuracy = 0.896, Features Used = 22\n",
            "Filter Method (Mutual Info) Model: Accuracy = 0.868, Features Used = 30\n"
          ]
        }
      ]
    },
    {
      "cell_type": "code",
      "source": [
        "import plotly.graph_objects as go\n",
        "\n",
        "# Assuming the same model_performances dictionary is used\n",
        "model_performances = {\n",
        "    'Baseline': {'R2 Score': baseline_r2, 'Number of Features': baseline_features},\n",
        "    'SDS': {'R2 Score': sds_r2, 'Number of Features': sds_features},\n",
        "    'RFE': {'R2 Score': rfe_r2, 'Number of Features': rfe_features},\n",
        "    'PCA': {'R2 Score': pca_r2, 'Number of Features': pca_features},\n",
        "    'Filter Method (Mutual Info)': {'R2 Score': filter_r2, 'Number of Features': filter_features}\n",
        "}\n",
        "\n",
        "# Create traces\n",
        "fig = go.Figure()\n",
        "\n",
        "# Add bar chart for R2 Scores\n",
        "fig.add_trace(go.Bar(\n",
        "    x=list(model_performances.keys()),\n",
        "    y=[data['R2 Score'] for data in model_performances.values()],\n",
        "    name='Accuracy (%)',\n",
        "    marker_color=[\"#FF7F0E\", \"#1F77B4\", \"#2CA02C\", \"#D62728\", \"#9467BD\"]\n",
        "))\n",
        "\n",
        "# Add line chart for Number of Features\n",
        "fig.add_trace(go.Scatter(\n",
        "    x=list(model_performances.keys()),\n",
        "    y=[data['Number of Features'] for data in model_performances.values()],\n",
        "    name='Number of Features',\n",
        "    mode='lines+markers',\n",
        "    marker=dict(symbol='circle', size=10, color='blue'),\n",
        "    yaxis='y2'\n",
        "))\n",
        "\n",
        "# Layout adjustments\n",
        "fig.update_layout(\n",
        "    title='Comparison of Model Performances',\n",
        "    xaxis=dict(title='Model'),\n",
        "    yaxis=dict(title='Accuracy (%)'),\n",
        "    yaxis2=dict(title='Number of Features', overlaying='y', side='right'),\n",
        "    legend=dict(\n",
        "        x=1.05,  # Position the legend to the right of the plot\n",
        "        y=1,\n",
        "        xanchor='left',\n",
        "        yanchor='top',\n",
        "        bordercolor=\"Black\",\n",
        "        borderwidth=1\n",
        "    ),\n",
        "    bargap=0.2  # Adjust gap between bars for better visualization\n",
        ")\n",
        "\n",
        "# Show plot\n",
        "fig.show()\n"
      ],
      "metadata": {
        "colab": {
          "base_uri": "https://localhost:8080/",
          "height": 542
        },
        "id": "GErjlb2VLoh7",
        "outputId": "331fa9b6-5baf-40f7-9d76-606a7b9fd3f2"
      },
      "id": "GErjlb2VLoh7",
      "execution_count": 31,
      "outputs": [
        {
          "output_type": "display_data",
          "data": {
            "text/html": [
              "<html>\n",
              "<head><meta charset=\"utf-8\" /></head>\n",
              "<body>\n",
              "    <div>            <script src=\"https://cdnjs.cloudflare.com/ajax/libs/mathjax/2.7.5/MathJax.js?config=TeX-AMS-MML_SVG\"></script><script type=\"text/javascript\">if (window.MathJax && window.MathJax.Hub && window.MathJax.Hub.Config) {window.MathJax.Hub.Config({SVG: {font: \"STIX-Web\"}});}</script>                <script type=\"text/javascript\">window.PlotlyConfig = {MathJaxConfig: 'local'};</script>\n",
              "        <script charset=\"utf-8\" src=\"https://cdn.plot.ly/plotly-2.35.2.min.js\"></script>                <div id=\"2c0ad5ce-80d0-4a89-9dc5-bfdd6268825a\" class=\"plotly-graph-div\" style=\"height:525px; width:100%;\"></div>            <script type=\"text/javascript\">                                    window.PLOTLYENV=window.PLOTLYENV || {};                                    if (document.getElementById(\"2c0ad5ce-80d0-4a89-9dc5-bfdd6268825a\")) {                    Plotly.newPlot(                        \"2c0ad5ce-80d0-4a89-9dc5-bfdd6268825a\",                        [{\"marker\":{\"color\":[\"#FF7F0E\",\"#1F77B4\",\"#2CA02C\",\"#D62728\",\"#9467BD\"]},\"name\":\"Accuracy (%)\",\"x\":[\"Baseline\",\"SDS\",\"RFE\",\"PCA\",\"Filter Method (Mutual Info)\"],\"y\":[0.8773584905660378,0.9150943396226415,0.8773584905660378,0.8962264150943396,0.8679245283018868],\"type\":\"bar\"},{\"marker\":{\"color\":\"blue\",\"size\":10,\"symbol\":\"circle\"},\"mode\":\"lines+markers\",\"name\":\"Number of Features\",\"x\":[\"Baseline\",\"SDS\",\"RFE\",\"PCA\",\"Filter Method (Mutual Info)\"],\"y\":[34,15,10,22,30],\"yaxis\":\"y2\",\"type\":\"scatter\"}],                        {\"template\":{\"data\":{\"histogram2dcontour\":[{\"type\":\"histogram2dcontour\",\"colorbar\":{\"outlinewidth\":0,\"ticks\":\"\"},\"colorscale\":[[0.0,\"#0d0887\"],[0.1111111111111111,\"#46039f\"],[0.2222222222222222,\"#7201a8\"],[0.3333333333333333,\"#9c179e\"],[0.4444444444444444,\"#bd3786\"],[0.5555555555555556,\"#d8576b\"],[0.6666666666666666,\"#ed7953\"],[0.7777777777777778,\"#fb9f3a\"],[0.8888888888888888,\"#fdca26\"],[1.0,\"#f0f921\"]]}],\"choropleth\":[{\"type\":\"choropleth\",\"colorbar\":{\"outlinewidth\":0,\"ticks\":\"\"}}],\"histogram2d\":[{\"type\":\"histogram2d\",\"colorbar\":{\"outlinewidth\":0,\"ticks\":\"\"},\"colorscale\":[[0.0,\"#0d0887\"],[0.1111111111111111,\"#46039f\"],[0.2222222222222222,\"#7201a8\"],[0.3333333333333333,\"#9c179e\"],[0.4444444444444444,\"#bd3786\"],[0.5555555555555556,\"#d8576b\"],[0.6666666666666666,\"#ed7953\"],[0.7777777777777778,\"#fb9f3a\"],[0.8888888888888888,\"#fdca26\"],[1.0,\"#f0f921\"]]}],\"heatmap\":[{\"type\":\"heatmap\",\"colorbar\":{\"outlinewidth\":0,\"ticks\":\"\"},\"colorscale\":[[0.0,\"#0d0887\"],[0.1111111111111111,\"#46039f\"],[0.2222222222222222,\"#7201a8\"],[0.3333333333333333,\"#9c179e\"],[0.4444444444444444,\"#bd3786\"],[0.5555555555555556,\"#d8576b\"],[0.6666666666666666,\"#ed7953\"],[0.7777777777777778,\"#fb9f3a\"],[0.8888888888888888,\"#fdca26\"],[1.0,\"#f0f921\"]]}],\"heatmapgl\":[{\"type\":\"heatmapgl\",\"colorbar\":{\"outlinewidth\":0,\"ticks\":\"\"},\"colorscale\":[[0.0,\"#0d0887\"],[0.1111111111111111,\"#46039f\"],[0.2222222222222222,\"#7201a8\"],[0.3333333333333333,\"#9c179e\"],[0.4444444444444444,\"#bd3786\"],[0.5555555555555556,\"#d8576b\"],[0.6666666666666666,\"#ed7953\"],[0.7777777777777778,\"#fb9f3a\"],[0.8888888888888888,\"#fdca26\"],[1.0,\"#f0f921\"]]}],\"contourcarpet\":[{\"type\":\"contourcarpet\",\"colorbar\":{\"outlinewidth\":0,\"ticks\":\"\"}}],\"contour\":[{\"type\":\"contour\",\"colorbar\":{\"outlinewidth\":0,\"ticks\":\"\"},\"colorscale\":[[0.0,\"#0d0887\"],[0.1111111111111111,\"#46039f\"],[0.2222222222222222,\"#7201a8\"],[0.3333333333333333,\"#9c179e\"],[0.4444444444444444,\"#bd3786\"],[0.5555555555555556,\"#d8576b\"],[0.6666666666666666,\"#ed7953\"],[0.7777777777777778,\"#fb9f3a\"],[0.8888888888888888,\"#fdca26\"],[1.0,\"#f0f921\"]]}],\"surface\":[{\"type\":\"surface\",\"colorbar\":{\"outlinewidth\":0,\"ticks\":\"\"},\"colorscale\":[[0.0,\"#0d0887\"],[0.1111111111111111,\"#46039f\"],[0.2222222222222222,\"#7201a8\"],[0.3333333333333333,\"#9c179e\"],[0.4444444444444444,\"#bd3786\"],[0.5555555555555556,\"#d8576b\"],[0.6666666666666666,\"#ed7953\"],[0.7777777777777778,\"#fb9f3a\"],[0.8888888888888888,\"#fdca26\"],[1.0,\"#f0f921\"]]}],\"mesh3d\":[{\"type\":\"mesh3d\",\"colorbar\":{\"outlinewidth\":0,\"ticks\":\"\"}}],\"scatter\":[{\"fillpattern\":{\"fillmode\":\"overlay\",\"size\":10,\"solidity\":0.2},\"type\":\"scatter\"}],\"parcoords\":[{\"type\":\"parcoords\",\"line\":{\"colorbar\":{\"outlinewidth\":0,\"ticks\":\"\"}}}],\"scatterpolargl\":[{\"type\":\"scatterpolargl\",\"marker\":{\"colorbar\":{\"outlinewidth\":0,\"ticks\":\"\"}}}],\"bar\":[{\"error_x\":{\"color\":\"#2a3f5f\"},\"error_y\":{\"color\":\"#2a3f5f\"},\"marker\":{\"line\":{\"color\":\"#E5ECF6\",\"width\":0.5},\"pattern\":{\"fillmode\":\"overlay\",\"size\":10,\"solidity\":0.2}},\"type\":\"bar\"}],\"scattergeo\":[{\"type\":\"scattergeo\",\"marker\":{\"colorbar\":{\"outlinewidth\":0,\"ticks\":\"\"}}}],\"scatterpolar\":[{\"type\":\"scatterpolar\",\"marker\":{\"colorbar\":{\"outlinewidth\":0,\"ticks\":\"\"}}}],\"histogram\":[{\"marker\":{\"pattern\":{\"fillmode\":\"overlay\",\"size\":10,\"solidity\":0.2}},\"type\":\"histogram\"}],\"scattergl\":[{\"type\":\"scattergl\",\"marker\":{\"colorbar\":{\"outlinewidth\":0,\"ticks\":\"\"}}}],\"scatter3d\":[{\"type\":\"scatter3d\",\"line\":{\"colorbar\":{\"outlinewidth\":0,\"ticks\":\"\"}},\"marker\":{\"colorbar\":{\"outlinewidth\":0,\"ticks\":\"\"}}}],\"scattermapbox\":[{\"type\":\"scattermapbox\",\"marker\":{\"colorbar\":{\"outlinewidth\":0,\"ticks\":\"\"}}}],\"scatterternary\":[{\"type\":\"scatterternary\",\"marker\":{\"colorbar\":{\"outlinewidth\":0,\"ticks\":\"\"}}}],\"scattercarpet\":[{\"type\":\"scattercarpet\",\"marker\":{\"colorbar\":{\"outlinewidth\":0,\"ticks\":\"\"}}}],\"carpet\":[{\"aaxis\":{\"endlinecolor\":\"#2a3f5f\",\"gridcolor\":\"white\",\"linecolor\":\"white\",\"minorgridcolor\":\"white\",\"startlinecolor\":\"#2a3f5f\"},\"baxis\":{\"endlinecolor\":\"#2a3f5f\",\"gridcolor\":\"white\",\"linecolor\":\"white\",\"minorgridcolor\":\"white\",\"startlinecolor\":\"#2a3f5f\"},\"type\":\"carpet\"}],\"table\":[{\"cells\":{\"fill\":{\"color\":\"#EBF0F8\"},\"line\":{\"color\":\"white\"}},\"header\":{\"fill\":{\"color\":\"#C8D4E3\"},\"line\":{\"color\":\"white\"}},\"type\":\"table\"}],\"barpolar\":[{\"marker\":{\"line\":{\"color\":\"#E5ECF6\",\"width\":0.5},\"pattern\":{\"fillmode\":\"overlay\",\"size\":10,\"solidity\":0.2}},\"type\":\"barpolar\"}],\"pie\":[{\"automargin\":true,\"type\":\"pie\"}]},\"layout\":{\"autotypenumbers\":\"strict\",\"colorway\":[\"#636efa\",\"#EF553B\",\"#00cc96\",\"#ab63fa\",\"#FFA15A\",\"#19d3f3\",\"#FF6692\",\"#B6E880\",\"#FF97FF\",\"#FECB52\"],\"font\":{\"color\":\"#2a3f5f\"},\"hovermode\":\"closest\",\"hoverlabel\":{\"align\":\"left\"},\"paper_bgcolor\":\"white\",\"plot_bgcolor\":\"#E5ECF6\",\"polar\":{\"bgcolor\":\"#E5ECF6\",\"angularaxis\":{\"gridcolor\":\"white\",\"linecolor\":\"white\",\"ticks\":\"\"},\"radialaxis\":{\"gridcolor\":\"white\",\"linecolor\":\"white\",\"ticks\":\"\"}},\"ternary\":{\"bgcolor\":\"#E5ECF6\",\"aaxis\":{\"gridcolor\":\"white\",\"linecolor\":\"white\",\"ticks\":\"\"},\"baxis\":{\"gridcolor\":\"white\",\"linecolor\":\"white\",\"ticks\":\"\"},\"caxis\":{\"gridcolor\":\"white\",\"linecolor\":\"white\",\"ticks\":\"\"}},\"coloraxis\":{\"colorbar\":{\"outlinewidth\":0,\"ticks\":\"\"}},\"colorscale\":{\"sequential\":[[0.0,\"#0d0887\"],[0.1111111111111111,\"#46039f\"],[0.2222222222222222,\"#7201a8\"],[0.3333333333333333,\"#9c179e\"],[0.4444444444444444,\"#bd3786\"],[0.5555555555555556,\"#d8576b\"],[0.6666666666666666,\"#ed7953\"],[0.7777777777777778,\"#fb9f3a\"],[0.8888888888888888,\"#fdca26\"],[1.0,\"#f0f921\"]],\"sequentialminus\":[[0.0,\"#0d0887\"],[0.1111111111111111,\"#46039f\"],[0.2222222222222222,\"#7201a8\"],[0.3333333333333333,\"#9c179e\"],[0.4444444444444444,\"#bd3786\"],[0.5555555555555556,\"#d8576b\"],[0.6666666666666666,\"#ed7953\"],[0.7777777777777778,\"#fb9f3a\"],[0.8888888888888888,\"#fdca26\"],[1.0,\"#f0f921\"]],\"diverging\":[[0,\"#8e0152\"],[0.1,\"#c51b7d\"],[0.2,\"#de77ae\"],[0.3,\"#f1b6da\"],[0.4,\"#fde0ef\"],[0.5,\"#f7f7f7\"],[0.6,\"#e6f5d0\"],[0.7,\"#b8e186\"],[0.8,\"#7fbc41\"],[0.9,\"#4d9221\"],[1,\"#276419\"]]},\"xaxis\":{\"gridcolor\":\"white\",\"linecolor\":\"white\",\"ticks\":\"\",\"title\":{\"standoff\":15},\"zerolinecolor\":\"white\",\"automargin\":true,\"zerolinewidth\":2},\"yaxis\":{\"gridcolor\":\"white\",\"linecolor\":\"white\",\"ticks\":\"\",\"title\":{\"standoff\":15},\"zerolinecolor\":\"white\",\"automargin\":true,\"zerolinewidth\":2},\"scene\":{\"xaxis\":{\"backgroundcolor\":\"#E5ECF6\",\"gridcolor\":\"white\",\"linecolor\":\"white\",\"showbackground\":true,\"ticks\":\"\",\"zerolinecolor\":\"white\",\"gridwidth\":2},\"yaxis\":{\"backgroundcolor\":\"#E5ECF6\",\"gridcolor\":\"white\",\"linecolor\":\"white\",\"showbackground\":true,\"ticks\":\"\",\"zerolinecolor\":\"white\",\"gridwidth\":2},\"zaxis\":{\"backgroundcolor\":\"#E5ECF6\",\"gridcolor\":\"white\",\"linecolor\":\"white\",\"showbackground\":true,\"ticks\":\"\",\"zerolinecolor\":\"white\",\"gridwidth\":2}},\"shapedefaults\":{\"line\":{\"color\":\"#2a3f5f\"}},\"annotationdefaults\":{\"arrowcolor\":\"#2a3f5f\",\"arrowhead\":0,\"arrowwidth\":1},\"geo\":{\"bgcolor\":\"white\",\"landcolor\":\"#E5ECF6\",\"subunitcolor\":\"white\",\"showland\":true,\"showlakes\":true,\"lakecolor\":\"white\"},\"title\":{\"x\":0.05},\"mapbox\":{\"style\":\"light\"}}},\"yaxis2\":{\"title\":{\"text\":\"Number of Features\"},\"overlaying\":\"y\",\"side\":\"right\"},\"legend\":{\"x\":1.05,\"y\":1,\"xanchor\":\"left\",\"yanchor\":\"top\",\"bordercolor\":\"Black\",\"borderwidth\":1},\"title\":{\"text\":\"Comparison of Model Performances\"},\"xaxis\":{\"title\":{\"text\":\"Model\"}},\"yaxis\":{\"title\":{\"text\":\"Accuracy (%)\"}},\"bargap\":0.2},                        {\"responsive\": true}                    ).then(function(){\n",
              "                            \n",
              "var gd = document.getElementById('2c0ad5ce-80d0-4a89-9dc5-bfdd6268825a');\n",
              "var x = new MutationObserver(function (mutations, observer) {{\n",
              "        var display = window.getComputedStyle(gd).display;\n",
              "        if (!display || display === 'none') {{\n",
              "            console.log([gd, 'removed!']);\n",
              "            Plotly.purge(gd);\n",
              "            observer.disconnect();\n",
              "        }}\n",
              "}});\n",
              "\n",
              "// Listen for the removal of the full notebook cells\n",
              "var notebookContainer = gd.closest('#notebook-container');\n",
              "if (notebookContainer) {{\n",
              "    x.observe(notebookContainer, {childList: true});\n",
              "}}\n",
              "\n",
              "// Listen for the clearing of the current output cell\n",
              "var outputEl = gd.closest('.output');\n",
              "if (outputEl) {{\n",
              "    x.observe(outputEl, {childList: true});\n",
              "}}\n",
              "\n",
              "                        })                };                            </script>        </div>\n",
              "</body>\n",
              "</html>"
            ]
          },
          "metadata": {}
        }
      ]
    },
    {
      "cell_type": "code",
      "source": [
        "import plotly.graph_objects as go\n",
        "\n",
        "# Assuming the updated `model_performances` dictionary includes the mutual information filter method\n",
        "model_performances = {\n",
        "    'RFE': {'Scaled AUC-ROC Score': rfe_r2 * 100, 'Number of Features': rfe_features},\n",
        "    'PCA': {'Scaled AUC-ROC Score': pca_r2 * 100, 'Number of Features': pca_features},\n",
        "    'SDS': {'Scaled AUC-ROC Score': sds_r2 * 100, 'Number of Features': sds_features},\n",
        "    'Linear Regression': {'Scaled AUC-ROC Score': baseline_r2 * 100, 'Number of Features': baseline_features},\n",
        "    'Mutual Information': {'Scaled AUC-ROC Score': filter_r2 * 100, 'Number of Features': filter_features}\n",
        "}\n",
        "\n",
        "# Create the figure\n",
        "fig = go.Figure()\n",
        "\n",
        "# Add bar chart for Scaled AUC-ROC Scores\n",
        "fig.add_trace(go.Bar(\n",
        "    x=list(model_performances.keys()),\n",
        "    y=[data['Scaled AUC-ROC Score'] for data in model_performances.values()],\n",
        "    name='Scaled AUC-ROC Score',\n",
        "    marker_color=[\"#FF7F0E\", \"#1F77B4\", \"#2CA02C\", \"#D62728\", \"#9467BD\"]\n",
        "))\n",
        "\n",
        "# Add line chart for Number of Features\n",
        "fig.add_trace(go.Scatter(\n",
        "    x=list(model_performances.keys()),\n",
        "    y=[data['Number of Features'] for data in model_performances.values()],\n",
        "    name='Number of Features',\n",
        "    mode='lines+markers',\n",
        "    marker=dict(symbol='circle', size=8, color='blue')\n",
        "))\n",
        "\n",
        "# Layout adjustments to match the provided format\n",
        "fig.update_layout(\n",
        "    title='Comparison of Scaled AUC-ROC Scores and Number of Features',\n",
        "    xaxis=dict(title='Model'),\n",
        "    yaxis=dict(title='Scaled AUC-ROC Score', titlefont=dict(color='orange')),\n",
        "    yaxis2=dict(\n",
        "        title='Number of Features',\n",
        "        titlefont=dict(color='blue'),\n",
        "        overlaying='y',\n",
        "        side='right'\n",
        "    ),\n",
        "    legend=dict(x=0.5, y=-0.2, orientation=\"h\"),  # Place the legend below the chart\n",
        "    template='plotly_white'  # Match a cleaner style\n",
        ")\n",
        "\n",
        "# Show plot\n",
        "fig.show()\n"
      ],
      "metadata": {
        "colab": {
          "base_uri": "https://localhost:8080/",
          "height": 542
        },
        "id": "FYOPLGtQO0ys",
        "outputId": "b7045a3c-7200-4038-ce71-b4612d9e184c"
      },
      "id": "FYOPLGtQO0ys",
      "execution_count": 32,
      "outputs": [
        {
          "output_type": "display_data",
          "data": {
            "text/html": [
              "<html>\n",
              "<head><meta charset=\"utf-8\" /></head>\n",
              "<body>\n",
              "    <div>            <script src=\"https://cdnjs.cloudflare.com/ajax/libs/mathjax/2.7.5/MathJax.js?config=TeX-AMS-MML_SVG\"></script><script type=\"text/javascript\">if (window.MathJax && window.MathJax.Hub && window.MathJax.Hub.Config) {window.MathJax.Hub.Config({SVG: {font: \"STIX-Web\"}});}</script>                <script type=\"text/javascript\">window.PlotlyConfig = {MathJaxConfig: 'local'};</script>\n",
              "        <script charset=\"utf-8\" src=\"https://cdn.plot.ly/plotly-2.35.2.min.js\"></script>                <div id=\"9c160811-e674-4a37-a8aa-2c5ad3e06abd\" class=\"plotly-graph-div\" style=\"height:525px; width:100%;\"></div>            <script type=\"text/javascript\">                                    window.PLOTLYENV=window.PLOTLYENV || {};                                    if (document.getElementById(\"9c160811-e674-4a37-a8aa-2c5ad3e06abd\")) {                    Plotly.newPlot(                        \"9c160811-e674-4a37-a8aa-2c5ad3e06abd\",                        [{\"marker\":{\"color\":[\"#FF7F0E\",\"#1F77B4\",\"#2CA02C\",\"#D62728\",\"#9467BD\"]},\"name\":\"Scaled AUC-ROC Score\",\"x\":[\"RFE\",\"PCA\",\"SDS\",\"Linear Regression\",\"Mutual Information\"],\"y\":[87.73584905660378,89.62264150943396,91.50943396226415,87.73584905660378,86.79245283018868],\"type\":\"bar\"},{\"marker\":{\"color\":\"blue\",\"size\":8,\"symbol\":\"circle\"},\"mode\":\"lines+markers\",\"name\":\"Number of Features\",\"x\":[\"RFE\",\"PCA\",\"SDS\",\"Linear Regression\",\"Mutual Information\"],\"y\":[10,22,15,34,30],\"type\":\"scatter\"}],                        {\"template\":{\"data\":{\"barpolar\":[{\"marker\":{\"line\":{\"color\":\"white\",\"width\":0.5},\"pattern\":{\"fillmode\":\"overlay\",\"size\":10,\"solidity\":0.2}},\"type\":\"barpolar\"}],\"bar\":[{\"error_x\":{\"color\":\"#2a3f5f\"},\"error_y\":{\"color\":\"#2a3f5f\"},\"marker\":{\"line\":{\"color\":\"white\",\"width\":0.5},\"pattern\":{\"fillmode\":\"overlay\",\"size\":10,\"solidity\":0.2}},\"type\":\"bar\"}],\"carpet\":[{\"aaxis\":{\"endlinecolor\":\"#2a3f5f\",\"gridcolor\":\"#C8D4E3\",\"linecolor\":\"#C8D4E3\",\"minorgridcolor\":\"#C8D4E3\",\"startlinecolor\":\"#2a3f5f\"},\"baxis\":{\"endlinecolor\":\"#2a3f5f\",\"gridcolor\":\"#C8D4E3\",\"linecolor\":\"#C8D4E3\",\"minorgridcolor\":\"#C8D4E3\",\"startlinecolor\":\"#2a3f5f\"},\"type\":\"carpet\"}],\"choropleth\":[{\"colorbar\":{\"outlinewidth\":0,\"ticks\":\"\"},\"type\":\"choropleth\"}],\"contourcarpet\":[{\"colorbar\":{\"outlinewidth\":0,\"ticks\":\"\"},\"type\":\"contourcarpet\"}],\"contour\":[{\"colorbar\":{\"outlinewidth\":0,\"ticks\":\"\"},\"colorscale\":[[0.0,\"#0d0887\"],[0.1111111111111111,\"#46039f\"],[0.2222222222222222,\"#7201a8\"],[0.3333333333333333,\"#9c179e\"],[0.4444444444444444,\"#bd3786\"],[0.5555555555555556,\"#d8576b\"],[0.6666666666666666,\"#ed7953\"],[0.7777777777777778,\"#fb9f3a\"],[0.8888888888888888,\"#fdca26\"],[1.0,\"#f0f921\"]],\"type\":\"contour\"}],\"heatmapgl\":[{\"colorbar\":{\"outlinewidth\":0,\"ticks\":\"\"},\"colorscale\":[[0.0,\"#0d0887\"],[0.1111111111111111,\"#46039f\"],[0.2222222222222222,\"#7201a8\"],[0.3333333333333333,\"#9c179e\"],[0.4444444444444444,\"#bd3786\"],[0.5555555555555556,\"#d8576b\"],[0.6666666666666666,\"#ed7953\"],[0.7777777777777778,\"#fb9f3a\"],[0.8888888888888888,\"#fdca26\"],[1.0,\"#f0f921\"]],\"type\":\"heatmapgl\"}],\"heatmap\":[{\"colorbar\":{\"outlinewidth\":0,\"ticks\":\"\"},\"colorscale\":[[0.0,\"#0d0887\"],[0.1111111111111111,\"#46039f\"],[0.2222222222222222,\"#7201a8\"],[0.3333333333333333,\"#9c179e\"],[0.4444444444444444,\"#bd3786\"],[0.5555555555555556,\"#d8576b\"],[0.6666666666666666,\"#ed7953\"],[0.7777777777777778,\"#fb9f3a\"],[0.8888888888888888,\"#fdca26\"],[1.0,\"#f0f921\"]],\"type\":\"heatmap\"}],\"histogram2dcontour\":[{\"colorbar\":{\"outlinewidth\":0,\"ticks\":\"\"},\"colorscale\":[[0.0,\"#0d0887\"],[0.1111111111111111,\"#46039f\"],[0.2222222222222222,\"#7201a8\"],[0.3333333333333333,\"#9c179e\"],[0.4444444444444444,\"#bd3786\"],[0.5555555555555556,\"#d8576b\"],[0.6666666666666666,\"#ed7953\"],[0.7777777777777778,\"#fb9f3a\"],[0.8888888888888888,\"#fdca26\"],[1.0,\"#f0f921\"]],\"type\":\"histogram2dcontour\"}],\"histogram2d\":[{\"colorbar\":{\"outlinewidth\":0,\"ticks\":\"\"},\"colorscale\":[[0.0,\"#0d0887\"],[0.1111111111111111,\"#46039f\"],[0.2222222222222222,\"#7201a8\"],[0.3333333333333333,\"#9c179e\"],[0.4444444444444444,\"#bd3786\"],[0.5555555555555556,\"#d8576b\"],[0.6666666666666666,\"#ed7953\"],[0.7777777777777778,\"#fb9f3a\"],[0.8888888888888888,\"#fdca26\"],[1.0,\"#f0f921\"]],\"type\":\"histogram2d\"}],\"histogram\":[{\"marker\":{\"pattern\":{\"fillmode\":\"overlay\",\"size\":10,\"solidity\":0.2}},\"type\":\"histogram\"}],\"mesh3d\":[{\"colorbar\":{\"outlinewidth\":0,\"ticks\":\"\"},\"type\":\"mesh3d\"}],\"parcoords\":[{\"line\":{\"colorbar\":{\"outlinewidth\":0,\"ticks\":\"\"}},\"type\":\"parcoords\"}],\"pie\":[{\"automargin\":true,\"type\":\"pie\"}],\"scatter3d\":[{\"line\":{\"colorbar\":{\"outlinewidth\":0,\"ticks\":\"\"}},\"marker\":{\"colorbar\":{\"outlinewidth\":0,\"ticks\":\"\"}},\"type\":\"scatter3d\"}],\"scattercarpet\":[{\"marker\":{\"colorbar\":{\"outlinewidth\":0,\"ticks\":\"\"}},\"type\":\"scattercarpet\"}],\"scattergeo\":[{\"marker\":{\"colorbar\":{\"outlinewidth\":0,\"ticks\":\"\"}},\"type\":\"scattergeo\"}],\"scattergl\":[{\"marker\":{\"colorbar\":{\"outlinewidth\":0,\"ticks\":\"\"}},\"type\":\"scattergl\"}],\"scattermapbox\":[{\"marker\":{\"colorbar\":{\"outlinewidth\":0,\"ticks\":\"\"}},\"type\":\"scattermapbox\"}],\"scatterpolargl\":[{\"marker\":{\"colorbar\":{\"outlinewidth\":0,\"ticks\":\"\"}},\"type\":\"scatterpolargl\"}],\"scatterpolar\":[{\"marker\":{\"colorbar\":{\"outlinewidth\":0,\"ticks\":\"\"}},\"type\":\"scatterpolar\"}],\"scatter\":[{\"fillpattern\":{\"fillmode\":\"overlay\",\"size\":10,\"solidity\":0.2},\"type\":\"scatter\"}],\"scatterternary\":[{\"marker\":{\"colorbar\":{\"outlinewidth\":0,\"ticks\":\"\"}},\"type\":\"scatterternary\"}],\"surface\":[{\"colorbar\":{\"outlinewidth\":0,\"ticks\":\"\"},\"colorscale\":[[0.0,\"#0d0887\"],[0.1111111111111111,\"#46039f\"],[0.2222222222222222,\"#7201a8\"],[0.3333333333333333,\"#9c179e\"],[0.4444444444444444,\"#bd3786\"],[0.5555555555555556,\"#d8576b\"],[0.6666666666666666,\"#ed7953\"],[0.7777777777777778,\"#fb9f3a\"],[0.8888888888888888,\"#fdca26\"],[1.0,\"#f0f921\"]],\"type\":\"surface\"}],\"table\":[{\"cells\":{\"fill\":{\"color\":\"#EBF0F8\"},\"line\":{\"color\":\"white\"}},\"header\":{\"fill\":{\"color\":\"#C8D4E3\"},\"line\":{\"color\":\"white\"}},\"type\":\"table\"}]},\"layout\":{\"annotationdefaults\":{\"arrowcolor\":\"#2a3f5f\",\"arrowhead\":0,\"arrowwidth\":1},\"autotypenumbers\":\"strict\",\"coloraxis\":{\"colorbar\":{\"outlinewidth\":0,\"ticks\":\"\"}},\"colorscale\":{\"diverging\":[[0,\"#8e0152\"],[0.1,\"#c51b7d\"],[0.2,\"#de77ae\"],[0.3,\"#f1b6da\"],[0.4,\"#fde0ef\"],[0.5,\"#f7f7f7\"],[0.6,\"#e6f5d0\"],[0.7,\"#b8e186\"],[0.8,\"#7fbc41\"],[0.9,\"#4d9221\"],[1,\"#276419\"]],\"sequential\":[[0.0,\"#0d0887\"],[0.1111111111111111,\"#46039f\"],[0.2222222222222222,\"#7201a8\"],[0.3333333333333333,\"#9c179e\"],[0.4444444444444444,\"#bd3786\"],[0.5555555555555556,\"#d8576b\"],[0.6666666666666666,\"#ed7953\"],[0.7777777777777778,\"#fb9f3a\"],[0.8888888888888888,\"#fdca26\"],[1.0,\"#f0f921\"]],\"sequentialminus\":[[0.0,\"#0d0887\"],[0.1111111111111111,\"#46039f\"],[0.2222222222222222,\"#7201a8\"],[0.3333333333333333,\"#9c179e\"],[0.4444444444444444,\"#bd3786\"],[0.5555555555555556,\"#d8576b\"],[0.6666666666666666,\"#ed7953\"],[0.7777777777777778,\"#fb9f3a\"],[0.8888888888888888,\"#fdca26\"],[1.0,\"#f0f921\"]]},\"colorway\":[\"#636efa\",\"#EF553B\",\"#00cc96\",\"#ab63fa\",\"#FFA15A\",\"#19d3f3\",\"#FF6692\",\"#B6E880\",\"#FF97FF\",\"#FECB52\"],\"font\":{\"color\":\"#2a3f5f\"},\"geo\":{\"bgcolor\":\"white\",\"lakecolor\":\"white\",\"landcolor\":\"white\",\"showlakes\":true,\"showland\":true,\"subunitcolor\":\"#C8D4E3\"},\"hoverlabel\":{\"align\":\"left\"},\"hovermode\":\"closest\",\"mapbox\":{\"style\":\"light\"},\"paper_bgcolor\":\"white\",\"plot_bgcolor\":\"white\",\"polar\":{\"angularaxis\":{\"gridcolor\":\"#EBF0F8\",\"linecolor\":\"#EBF0F8\",\"ticks\":\"\"},\"bgcolor\":\"white\",\"radialaxis\":{\"gridcolor\":\"#EBF0F8\",\"linecolor\":\"#EBF0F8\",\"ticks\":\"\"}},\"scene\":{\"xaxis\":{\"backgroundcolor\":\"white\",\"gridcolor\":\"#DFE8F3\",\"gridwidth\":2,\"linecolor\":\"#EBF0F8\",\"showbackground\":true,\"ticks\":\"\",\"zerolinecolor\":\"#EBF0F8\"},\"yaxis\":{\"backgroundcolor\":\"white\",\"gridcolor\":\"#DFE8F3\",\"gridwidth\":2,\"linecolor\":\"#EBF0F8\",\"showbackground\":true,\"ticks\":\"\",\"zerolinecolor\":\"#EBF0F8\"},\"zaxis\":{\"backgroundcolor\":\"white\",\"gridcolor\":\"#DFE8F3\",\"gridwidth\":2,\"linecolor\":\"#EBF0F8\",\"showbackground\":true,\"ticks\":\"\",\"zerolinecolor\":\"#EBF0F8\"}},\"shapedefaults\":{\"line\":{\"color\":\"#2a3f5f\"}},\"ternary\":{\"aaxis\":{\"gridcolor\":\"#DFE8F3\",\"linecolor\":\"#A2B1C6\",\"ticks\":\"\"},\"baxis\":{\"gridcolor\":\"#DFE8F3\",\"linecolor\":\"#A2B1C6\",\"ticks\":\"\"},\"bgcolor\":\"white\",\"caxis\":{\"gridcolor\":\"#DFE8F3\",\"linecolor\":\"#A2B1C6\",\"ticks\":\"\"}},\"title\":{\"x\":0.05},\"xaxis\":{\"automargin\":true,\"gridcolor\":\"#EBF0F8\",\"linecolor\":\"#EBF0F8\",\"ticks\":\"\",\"title\":{\"standoff\":15},\"zerolinecolor\":\"#EBF0F8\",\"zerolinewidth\":2},\"yaxis\":{\"automargin\":true,\"gridcolor\":\"#EBF0F8\",\"linecolor\":\"#EBF0F8\",\"ticks\":\"\",\"title\":{\"standoff\":15},\"zerolinecolor\":\"#EBF0F8\",\"zerolinewidth\":2}}},\"yaxis\":{\"title\":{\"text\":\"Scaled AUC-ROC Score\",\"font\":{\"color\":\"orange\"}}},\"yaxis2\":{\"title\":{\"text\":\"Number of Features\",\"font\":{\"color\":\"blue\"}},\"overlaying\":\"y\",\"side\":\"right\"},\"legend\":{\"x\":0.5,\"y\":-0.2,\"orientation\":\"h\"},\"title\":{\"text\":\"Comparison of Scaled AUC-ROC Scores and Number of Features\"},\"xaxis\":{\"title\":{\"text\":\"Model\"}}},                        {\"responsive\": true}                    ).then(function(){\n",
              "                            \n",
              "var gd = document.getElementById('9c160811-e674-4a37-a8aa-2c5ad3e06abd');\n",
              "var x = new MutationObserver(function (mutations, observer) {{\n",
              "        var display = window.getComputedStyle(gd).display;\n",
              "        if (!display || display === 'none') {{\n",
              "            console.log([gd, 'removed!']);\n",
              "            Plotly.purge(gd);\n",
              "            observer.disconnect();\n",
              "        }}\n",
              "}});\n",
              "\n",
              "// Listen for the removal of the full notebook cells\n",
              "var notebookContainer = gd.closest('#notebook-container');\n",
              "if (notebookContainer) {{\n",
              "    x.observe(notebookContainer, {childList: true});\n",
              "}}\n",
              "\n",
              "// Listen for the clearing of the current output cell\n",
              "var outputEl = gd.closest('.output');\n",
              "if (outputEl) {{\n",
              "    x.observe(outputEl, {childList: true});\n",
              "}}\n",
              "\n",
              "                        })                };                            </script>        </div>\n",
              "</body>\n",
              "</html>"
            ]
          },
          "metadata": {}
        }
      ]
    },
    {
      "cell_type": "code",
      "source": [],
      "metadata": {
        "id": "ocV6iR1ox-sY"
      },
      "id": "ocV6iR1ox-sY",
      "execution_count": 32,
      "outputs": []
    }
  ],
  "metadata": {
    "kernelspec": {
      "display_name": "Python 3 (ipykernel)",
      "language": "python",
      "name": "python3"
    },
    "language_info": {
      "codemirror_mode": {
        "name": "ipython",
        "version": 3
      },
      "file_extension": ".py",
      "mimetype": "text/x-python",
      "name": "python",
      "nbconvert_exporter": "python",
      "pygments_lexer": "ipython3",
      "version": "3.11.5"
    },
    "colab": {
      "provenance": []
    }
  },
  "nbformat": 4,
  "nbformat_minor": 5
}