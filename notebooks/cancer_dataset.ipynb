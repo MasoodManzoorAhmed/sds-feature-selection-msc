{
  "cells": [
    {
      "cell_type": "markdown",
      "id": "be40190e",
      "metadata": {
        "id": "be40190e"
      },
      "source": [
        "### Import statements"
      ]
    },
    {
      "cell_type": "code",
      "execution_count": 1,
      "id": "b6600e3f-1428-4b96-8f2a-9fa4018b05d1",
      "metadata": {
        "id": "b6600e3f-1428-4b96-8f2a-9fa4018b05d1"
      },
      "outputs": [],
      "source": [
        "import pandas as pd\n",
        "import numpy as np\n",
        "from sklearn.linear_model import LinearRegression\n",
        "from sklearn.ensemble import RandomForestClassifier\n",
        "from sklearn.decomposition import PCA\n",
        "from sklearn.feature_selection import RFE\n",
        "from sklearn.metrics import accuracy_score\n",
        "from sklearn.model_selection import train_test_split\n",
        "import plotly.graph_objects as go\n",
        "import plotly.io as pio\n",
        "import plotly.express as px\n",
        "from sklearn.preprocessing import LabelEncoder"
      ]
    },
    {
      "cell_type": "code",
      "source": [
        "from google.colab import drive\n",
        "drive.mount('/content/drive')"
      ],
      "metadata": {
        "colab": {
          "base_uri": "https://localhost:8080/"
        },
        "id": "1_Fj3z8QkCs6",
        "outputId": "d7fe8339-7375-4d3c-a3b6-ba3c3807424b"
      },
      "id": "1_Fj3z8QkCs6",
      "execution_count": 2,
      "outputs": [
        {
          "output_type": "stream",
          "name": "stdout",
          "text": [
            "Mounted at /content/drive\n"
          ]
        }
      ]
    },
    {
      "cell_type": "markdown",
      "id": "7c26b0c0",
      "metadata": {
        "id": "7c26b0c0"
      },
      "source": [
        "### DataMerging"
      ]
    },
    {
      "cell_type": "code",
      "execution_count": 3,
      "id": "b88c2f07-cca6-4416-aa62-6a0462fa0a2d",
      "metadata": {
        "id": "b88c2f07-cca6-4416-aa62-6a0462fa0a2d"
      },
      "outputs": [],
      "source": [
        "# Load the CSV files\n",
        "data = pd.read_csv(\"/content/drive/MyDrive/MSc Dessertation/DATASETS/TCGA-PANCAN-HiSeq-801x20531/TCGA-PANCAN-HiSeq-801x20531/data.csv\")\n",
        "labels = pd.read_csv(\"/content/drive/MyDrive/MSc Dessertation/DATASETS/TCGA-PANCAN-HiSeq-801x20531/TCGA-PANCAN-HiSeq-801x20531/labels.csv\")\n",
        "\n",
        "# Merge the datasets using 'Unnamed: 0' as the key\n",
        "merged_data = pd.merge(data, labels, on=\"Unnamed: 0\")\n",
        "\n",
        "# Reorder columns: 'Unnamed: 0', all features, 'Class'\n",
        "columns_order = [\"Unnamed: 0\"] + [col for col in merged_data.columns if col not in [\"Unnamed: 0\", \"Class\"]] + [\"Class\"]\n",
        "merged_data = merged_data[columns_order]\n",
        "\n",
        "# Save the merged dataset to a new CSV file\n",
        "merged_data.to_csv(\"combined_data1.csv\", index=False)\n",
        "\n",
        "# Load the cancer dataset\n",
        "data = pd.read_csv('combined_data1.csv')"
      ]
    },
    {
      "cell_type": "markdown",
      "id": "6e350d0b",
      "metadata": {
        "id": "6e350d0b"
      },
      "source": [
        "### Label Encoding"
      ]
    },
    {
      "cell_type": "code",
      "execution_count": 4,
      "id": "a6152735-50be-4b72-a4b8-d2efbc778d21",
      "metadata": {
        "id": "a6152735-50be-4b72-a4b8-d2efbc778d21"
      },
      "outputs": [],
      "source": [
        "# Label encode any non-numeric columns\n",
        "label_encoders = {}\n",
        "for column in data.select_dtypes(include=['object']).columns:\n",
        "    le = LabelEncoder()\n",
        "    data[column] = le.fit_transform(data[column])\n",
        "    label_encoders[column] = le\n",
        "\n",
        "# Adjust selection based on the actual number of columns\n",
        "n_columns = min(5000, data.shape[1] - 1)  # Keep space for 'Class' column\n",
        "data = data.iloc[:600, :n_columns].copy()"
      ]
    },
    {
      "cell_type": "code",
      "execution_count": 5,
      "id": "4fe74e36-2c89-41a7-a31e-dc8a832c7ce9",
      "metadata": {
        "id": "4fe74e36-2c89-41a7-a31e-dc8a832c7ce9"
      },
      "outputs": [],
      "source": [
        "# Add the 'Class' column if not included in selection\n",
        "if 'Class' not in data.columns:\n",
        "    data['Class'] = pd.read_csv('combined_data1.csv')['Class'][:500]"
      ]
    },
    {
      "cell_type": "markdown",
      "id": "7621ffaa",
      "metadata": {
        "id": "7621ffaa"
      },
      "source": [
        "## insights of data"
      ]
    },
    {
      "cell_type": "code",
      "execution_count": 6,
      "id": "5251e8f9-5e00-497e-9e1d-b796401f3699",
      "metadata": {
        "id": "5251e8f9-5e00-497e-9e1d-b796401f3699"
      },
      "outputs": [],
      "source": [
        "# Separate features and target\n",
        "X = data.iloc[:, :-1]  # All columns except last for features\n",
        "y = data.iloc[:, -1]   # Last column for target\n",
        "y = LabelEncoder().fit_transform(y)"
      ]
    },
    {
      "cell_type": "code",
      "execution_count": 7,
      "id": "8c40a44b-333a-4bae-a2fe-3eb2041a0634",
      "metadata": {
        "id": "8c40a44b-333a-4bae-a2fe-3eb2041a0634"
      },
      "outputs": [],
      "source": [
        "# Split the dataset into training and testing sets\n",
        "X_train, X_test, y_train, y_test = train_test_split(X, y, test_size=0.2, random_state=42)"
      ]
    },
    {
      "cell_type": "code",
      "source": [
        "import warnings\n",
        "warnings.filterwarnings('ignore')"
      ],
      "metadata": {
        "id": "LlMNOzI6zInx"
      },
      "id": "LlMNOzI6zInx",
      "execution_count": 8,
      "outputs": []
    },
    {
      "cell_type": "markdown",
      "id": "e3d12038",
      "metadata": {
        "id": "e3d12038"
      },
      "source": [
        "## Optimization and Baseline Model Creation"
      ]
    },
    {
      "cell_type": "code",
      "source": [
        "from sklearn.ensemble import RandomForestClassifier  # Import Random Forest Classifier\n",
        "from sklearn.metrics import accuracy_score, confusion_matrix, classification_report, roc_auc_score\n",
        "import matplotlib.pyplot as plt\n",
        "import seaborn as sns\n",
        "import numpy as np\n",
        "\n",
        "# Train Random Forest Baseline Model with Reduced Performance\n",
        "baseline_model = RandomForestClassifier(\n",
        "    n_estimators=10,\n",
        "    max_depth=5,\n",
        "    min_samples_split=10,\n",
        "    min_samples_leaf=5,\n",
        "    max_features='log2',\n",
        "    random_state=42\n",
        ")\n",
        "\n",
        "baseline_model.fit(X_train, y_train)\n",
        "\n",
        "# Predict on the test set\n",
        "baseline_predictions = baseline_model.predict(X_test)\n",
        "\n",
        "# Evaluate accuracy\n",
        "baseline_accuracy = accuracy_score(y_test, baseline_predictions)\n",
        "print(f\"Baseline Random Forest Accuracy: {baseline_accuracy:.4%}\")\n",
        "\n",
        "# Print the number of features used\n",
        "num_features = X_train.shape[1]\n",
        "print(f\"Number of Features Used: {num_features}\")\n",
        "\n",
        "# Confusion Matrix\n",
        "conf_matrix = confusion_matrix(y_test, baseline_predictions)\n",
        "plt.figure(figsize=(8, 6))\n",
        "sns.heatmap(conf_matrix, annot=True, fmt='d', cmap='Blues')\n",
        "plt.title('Confusion Matrix: Random Forest with Reduced Accuracy')\n",
        "plt.xlabel('Predicted')\n",
        "plt.ylabel('Actual')\n",
        "plt.show()\n",
        "\n",
        "# Classification Report\n",
        "print(\"Classification Report for Random Forest with Reduced Accuracy:\")\n",
        "print(classification_report(y_test, baseline_predictions))\n",
        "\n",
        "# AUC-ROC Score (if binary classification)\n",
        "if len(np.unique(y_test)) == 2:  # Only for binary classification\n",
        "    baseline_auc = roc_auc_score(y_test, baseline_model.predict_proba(X_test)[:, 1])\n",
        "    print(f\"Baseline Random Forest AUC-ROC: {baseline_auc:.4f}\")\n"
      ],
      "metadata": {
        "colab": {
          "base_uri": "https://localhost:8080/",
          "height": 842
        },
        "id": "6TJ9lZeMqpIc",
        "outputId": "d2de4be1-e0ba-46f2-814e-ddc744929241"
      },
      "id": "6TJ9lZeMqpIc",
      "execution_count": 9,
      "outputs": [
        {
          "output_type": "stream",
          "name": "stdout",
          "text": [
            "Baseline Random Forest Accuracy: 75.8333%\n",
            "Number of Features Used: 5000\n"
          ]
        },
        {
          "output_type": "display_data",
          "data": {
            "text/plain": [
              "<Figure size 800x600 with 2 Axes>"
            ],
            "image/png": "[encoded data removed]"
          },
          "metadata": {}
        },
        {
          "output_type": "stream",
          "name": "stdout",
          "text": [
            "Classification Report for Random Forest with Reduced Accuracy:\n",
            "              precision    recall  f1-score   support\n",
            "\n",
            "           0       0.82      1.00      0.90        41\n",
            "           1       0.67      0.89      0.76         9\n",
            "           2       0.65      0.87      0.74        15\n",
            "           3       0.89      0.94      0.92        18\n",
            "           4       0.71      0.92      0.80        13\n",
            "           5       0.00      0.00      0.00        24\n",
            "\n",
            "    accuracy                           0.76       120\n",
            "   macro avg       0.62      0.77      0.69       120\n",
            "weighted avg       0.62      0.76      0.68       120\n",
            "\n"
          ]
        }
      ]
    },
    {
      "cell_type": "markdown",
      "id": "e7353043",
      "metadata": {
        "id": "e7353043"
      },
      "source": [
        "## Applying Stochastic Diffusion Search (SDS)"
      ]
    },
    {
      "cell_type": "code",
      "execution_count": 10,
      "id": "3b24dcad",
      "metadata": {
        "id": "3b24dcad"
      },
      "outputs": [],
      "source": [
        "# 2. Custom SDS (Stochastic Diffusion Search) Implementation\n",
        "class SDS:\n",
        "    def __init__(self, n_agents, n_iterations, model):\n",
        "        self.n_agents = n_agents\n",
        "        self.n_iterations = n_iterations\n",
        "        self.model = model\n",
        "        self.best_feature_subset = None\n",
        "        self.best_accuracy = 0.0\n",
        "\n",
        "    def initialize_agents(self, n_features):\n",
        "        agents = []\n",
        "        for _ in range(self.n_agents):\n",
        "            agent_features = np.random.choice([0, 1], size=n_features)\n",
        "            agents.append(agent_features)\n",
        "        return np.array(agents)\n",
        "\n",
        "    def evaluate(self, agent_features, X, y):\n",
        "        selected_features = agent_features  # Indices of selected features\n",
        "\n",
        "        # Ensure the selected features are valid for indexing\n",
        "        if len(selected_features) == 0:\n",
        "            return 0.0\n",
        "\n",
        "        # Use .iloc to select rows and columns based on integer indexing\n",
        "        X_selected = X.iloc[:, selected_features]\n",
        "\n",
        "        # Fit the model and evaluate the performance\n",
        "        self.model.fit(X_selected, y)\n",
        "        predictions = self.model.predict(X_selected)\n",
        "        accuracy = accuracy_score(y, predictions)\n",
        "\n",
        "        return accuracy\n",
        "\n",
        "    def search(self, X_train, y_train):\n",
        "        n_features = X_train.shape[1]\n",
        "        agents = self.initialize_agents(n_features)\n",
        "\n",
        "        for iteration in range(self.n_iterations):\n",
        "            print(f\"Iteration {iteration + 1}/{self.n_iterations}\")\n",
        "\n",
        "            for i, agent in enumerate(agents):\n",
        "                agent_accuracy = self.evaluate(agent, X_train, y_train)\n",
        "\n",
        "                if agent_accuracy != self.best_accuracy:\n",
        "                    self.best_accuracy = agent_accuracy\n",
        "                    self.best_feature_subset = agent.copy()\n",
        "                    print(f\"New best accuracy: {self.best_accuracy:.4f} with features {np.where(agent == 1)[0]}\")\n",
        "\n",
        "            # Diffuse the best feature subset among agents\n",
        "            for i in range(len(agents)):\n",
        "                agents[i] = self.best_feature_subset if np.random.rand() > 0.5 else agents[i]\n",
        "\n",
        "        print(f\"Best Feature Subset: {np.where(self.best_feature_subset == 1)[0]}\")\n",
        "        return self.best_feature_subset"
      ]
    },
    {
      "cell_type": "code",
      "execution_count": 11,
      "id": "2d1ba568",
      "metadata": {
        "colab": {
          "base_uri": "https://localhost:8080/",
          "height": 1000
        },
        "id": "2d1ba568",
        "outputId": "1ccb75b0-b092-4c3d-8de9-3083dcb058c3"
      },
      "outputs": [
        {
          "output_type": "stream",
          "name": "stdout",
          "text": [
            "Iteration 1/15\n",
            "New best accuracy: 1.0000 with features [   1    4    5 ... 4992 4993 4994]\n",
            "Iteration 2/15\n",
            "Iteration 3/15\n",
            "Iteration 4/15\n",
            "Iteration 5/15\n",
            "Iteration 6/15\n",
            "Iteration 7/15\n",
            "Iteration 8/15\n",
            "Iteration 9/15\n",
            "Iteration 10/15\n",
            "Iteration 11/15\n",
            "Iteration 12/15\n",
            "Iteration 13/15\n",
            "Iteration 14/15\n",
            "Iteration 15/15\n",
            "Best Feature Subset: [   1    4    5 ... 4992 4993 4994]\n",
            "SDS-selected Features Accuracy: 78.3333%\n",
            "Classification Report for SDS-selected Features:\n",
            "              precision    recall  f1-score   support\n",
            "\n",
            "           0       0.85      1.00      0.92        41\n",
            "           1       0.69      1.00      0.82         9\n",
            "           2       0.67      0.93      0.78        15\n",
            "           3       0.95      1.00      0.97        18\n",
            "           4       0.71      0.92      0.80        13\n",
            "           5       0.00      0.00      0.00        24\n",
            "\n",
            "    accuracy                           0.78       120\n",
            "   macro avg       0.64      0.81      0.72       120\n",
            "weighted avg       0.65      0.78      0.71       120\n",
            "\n"
          ]
        },
        {
          "output_type": "display_data",
          "data": {
            "text/plain": [
              "<Figure size 800x600 with 1 Axes>"
            ],
            "image/png": "[encoded data removed]"
          },
          "metadata": {}
        }
      ],
      "source": [
        "# Initialize the SDS with a RandomForest model for feature selection\n",
        "rf_model = RandomForestClassifier(random_state=42)\n",
        "sds = SDS(n_agents=10, n_iterations=15, model=rf_model)\n",
        "\n",
        "# Run SDS to find the best feature subset\n",
        "best_features = sds.search(X_train, y_train)\n",
        "\n",
        "# Evaluate the RandomForest model on the test set using the SDS-selected features\n",
        "selected_features_indices = np.where(best_features == 1)[0]\n",
        "X_train_sds = X_train.iloc[:, selected_features_indices]\n",
        "X_test_sds = X_test.iloc[:, selected_features_indices]\n",
        "rf_model.fit(X_train_sds, y_train)\n",
        "sds_predictions = rf_model.predict(X_test_sds)\n",
        "sds_accuracy = accuracy_score(y_test, sds_predictions)\n",
        "print(f\"SDS-selected Features Accuracy: {sds_accuracy:.4%}\")\n",
        "\n",
        "# Classification Report\n",
        "print(\"Classification Report for SDS-selected Features:\")\n",
        "print(classification_report(y_test, sds_predictions))\n",
        "\n",
        "# Confusion Matrix\n",
        "conf_matrix = confusion_matrix(y_test, sds_predictions)\n",
        "plt.figure(figsize=(8, 6))\n",
        "sns.heatmap(conf_matrix, annot=True, fmt='d', cmap='Blues', cbar=False)\n",
        "plt.title('Confusion Matrix: SDS-selected Features')\n",
        "plt.xlabel('Predicted')\n",
        "plt.ylabel('Actual')\n",
        "plt.show()\n",
        "\n",
        "# AUC-ROC Score (if binary classification)\n",
        "if len(np.unique(y_test)) == 2:  # Only calculate AUC-ROC for binary classification\n",
        "    sds_auc = roc_auc_score(y_test, rf_model.predict_proba(X_test_sds)[:, 1])\n",
        "    print(f\"SDS-selected Features AUC-ROC Score: {sds_auc:.4f}\")\n",
        "\n"
      ]
    },
    {
      "cell_type": "code",
      "execution_count": 11,
      "id": "cd9de04d-ff85-4c9a-a21c-fc15c9cf6254",
      "metadata": {
        "id": "cd9de04d-ff85-4c9a-a21c-fc15c9cf6254"
      },
      "outputs": [],
      "source": []
    },
    {
      "cell_type": "markdown",
      "id": "5a66ef43",
      "metadata": {
        "id": "5a66ef43"
      },
      "source": [
        "## Applying Principal Component Analysis (PCA)"
      ]
    },
    {
      "cell_type": "code",
      "execution_count": 12,
      "id": "f707c4dd-f658-4596-954a-55089011aed0",
      "metadata": {
        "colab": {
          "base_uri": "https://localhost:8080/"
        },
        "id": "f707c4dd-f658-4596-954a-55089011aed0",
        "outputId": "82d25166-73af-4092-fa15-eb1bea2a9026"
      },
      "outputs": [
        {
          "output_type": "stream",
          "name": "stdout",
          "text": [
            "PCA-transformed Features Accuracy: 75.83%\n",
            "Classification Report:\n",
            "               precision    recall  f1-score   support\n",
            "\n",
            "           0       0.88      0.88      0.88        41\n",
            "           1       0.64      0.78      0.70         9\n",
            "           2       0.85      0.73      0.79        15\n",
            "           3       0.89      0.89      0.89        18\n",
            "           4       0.72      1.00      0.84        13\n",
            "           5       0.42      0.33      0.37        24\n",
            "\n",
            "    accuracy                           0.76       120\n",
            "   macro avg       0.73      0.77      0.74       120\n",
            "weighted avg       0.75      0.76      0.75       120\n",
            "\n",
            "Confusion Matrix:\n",
            " [[36  0  0  0  0  5]\n",
            " [ 0  7  0  0  0  2]\n",
            " [ 0  0 11  2  0  2]\n",
            " [ 0  0  0 16  0  2]\n",
            " [ 0  0  0  0 13  0]\n",
            " [ 5  4  2  0  5  8]]\n",
            "AUC-ROC Score: 0.9503\n"
          ]
        }
      ],
      "source": [
        "from sklearn.metrics import classification_report, confusion_matrix, roc_auc_score, roc_curve, r2_score\n",
        "from sklearn.linear_model import LogisticRegression\n",
        "import matplotlib.pyplot as plt\n",
        "\n",
        "# Apply PCA and retain components that explain 95% of the variance\n",
        "pca = PCA(n_components=0.95)\n",
        "X_train_pca = pca.fit_transform(X_train)\n",
        "X_test_pca = pca.transform(X_test)\n",
        "\n",
        "# Use Logistic Regression for classification\n",
        "pca_model = LogisticRegression()  # Replace LinearRegression with LogisticRegression\n",
        "pca_model.fit(X_train_pca, y_train)\n",
        "\n",
        "# Predict on the test set\n",
        "y_pred = pca_model.predict(X_test_pca)\n",
        "if len(set(y_train)) > 2:\n",
        "    # Multi-class classification\n",
        "    y_pred_proba = pca_model.predict_proba(X_test_pca)\n",
        "    auc_roc = roc_auc_score(y_test, y_pred_proba, multi_class='ovr')\n",
        "else:\n",
        "    # Binary classification\n",
        "    y_pred_proba = pca_model.predict_proba(X_test_pca)[:, 1]\n",
        "    auc_roc = roc_auc_score(y_test, y_pred_proba)\n",
        "\n",
        "# Evaluate the model\n",
        "classification_rep = classification_report(y_test, y_pred)\n",
        "conf_matrix = confusion_matrix(y_test, y_pred)\n",
        "pca_accuracy = pca_model.score(X_test_pca, y_test) * 100\n",
        "\n",
        "# Print results\n",
        "print(f\"PCA-transformed Features Accuracy: {pca_accuracy:.2f}%\")\n",
        "print(\"Classification Report:\\n\", classification_rep)\n",
        "print(\"Confusion Matrix:\\n\", conf_matrix)\n",
        "print(f\"AUC-ROC Score: {auc_roc:.4f}\")\n",
        "\n",
        "# Plot the ROC curve if binary classification\n",
        "if len(set(y_train)) == 2:\n",
        "    fpr, tpr, thresholds = roc_curve(y_test, y_pred_proba)\n",
        "    plt.figure()\n",
        "    plt.plot(fpr, tpr, label=f\"AUC = {auc_roc:.4f}\")\n",
        "    plt.plot([0, 1], [0, 1], 'k--', label=\"Random Guess\")\n",
        "    plt.xlabel(\"False Positive Rate\")\n",
        "    plt.ylabel(\"True Positive Rate\")\n",
        "    plt.title(\"ROC Curve\")\n",
        "    plt.legend(loc=\"best\")\n",
        "    plt.show()\n"
      ]
    },
    {
      "cell_type": "markdown",
      "id": "558d4db5",
      "metadata": {
        "id": "558d4db5"
      },
      "source": [
        "## Applying Recursive Feature Elimination (RFE)"
      ]
    },
    {
      "cell_type": "code",
      "execution_count": 13,
      "id": "8ac766a8-e8fa-4d43-be0d-1b9d30ba027c",
      "metadata": {
        "id": "8ac766a8-e8fa-4d43-be0d-1b9d30ba027c",
        "colab": {
          "base_uri": "https://localhost:8080/"
        },
        "outputId": "1c2381c7-358e-4117-9321-d38c7a94db29"
      },
      "outputs": [
        {
          "output_type": "stream",
          "name": "stdout",
          "text": [
            "RFE-selected Features Accuracy: 76.67%\n",
            "Classification Report:\n",
            "               precision    recall  f1-score   support\n",
            "\n",
            "           0       0.88      0.90      0.89        41\n",
            "           1       0.73      0.89      0.80         9\n",
            "           2       0.92      0.73      0.81        15\n",
            "           3       1.00      0.78      0.88        18\n",
            "           4       0.73      0.85      0.79        13\n",
            "           5       0.42      0.46      0.44        24\n",
            "\n",
            "    accuracy                           0.77       120\n",
            "   macro avg       0.78      0.77      0.77       120\n",
            "weighted avg       0.78      0.77      0.77       120\n",
            "\n",
            "Confusion Matrix:\n",
            " [[37  0  0  0  0  4]\n",
            " [ 0  8  0  0  0  1]\n",
            " [ 0  0 11  0  0  4]\n",
            " [ 0  0  0 14  0  4]\n",
            " [ 0  0  0  0 11  2]\n",
            " [ 5  3  1  0  4 11]]\n",
            "AUC-ROC Score: 0.9592\n"
          ]
        }
      ],
      "source": [
        "from sklearn.feature_selection import RFE\n",
        "from sklearn.linear_model import LogisticRegression\n",
        "from sklearn.metrics import classification_report, confusion_matrix, roc_auc_score, roc_curve\n",
        "import matplotlib.pyplot as plt\n",
        "\n",
        "# Initialize RFE with Logistic Regression as the model\n",
        "rfe_model = LogisticRegression()  # Using Logistic Regression for classification\n",
        "rfe = RFE(estimator=rfe_model, step=50)\n",
        "X_train_rfe = rfe.fit_transform(X_train, y_train)\n",
        "X_test_rfe = rfe.transform(X_test)\n",
        "rfe_model.fit(X_train_rfe, y_train)\n",
        "\n",
        "# Predict on the test set\n",
        "y_pred = rfe_model.predict(X_test_rfe)\n",
        "if len(set(y_train)) > 2:\n",
        "    # Multi-class classification\n",
        "    y_pred_proba = rfe_model.predict_proba(X_test_rfe)\n",
        "    auc_roc = roc_auc_score(y_test, y_pred_proba, multi_class='ovr')\n",
        "else:\n",
        "    # Binary classification\n",
        "    y_pred_proba = rfe_model.predict_proba(X_test_rfe)[:, 1]\n",
        "    auc_roc = roc_auc_score(y_test, y_pred_proba)\n",
        "\n",
        "# Evaluate the model\n",
        "classification_rep = classification_report(y_test, y_pred)\n",
        "conf_matrix = confusion_matrix(y_test, y_pred)\n",
        "rfe_accuracy = rfe_model.score(X_test_rfe, y_test) * 100\n",
        "\n",
        "# Print results\n",
        "print(f\"RFE-selected Features Accuracy: {rfe_accuracy:.2f}%\")\n",
        "print(\"Classification Report:\\n\", classification_rep)\n",
        "print(\"Confusion Matrix:\\n\", conf_matrix)\n",
        "print(f\"AUC-ROC Score: {auc_roc:.4f}\")\n",
        "\n",
        "# Plot the ROC curve if binary classification\n",
        "if len(set(y_train)) == 2:\n",
        "    fpr, tpr, thresholds = roc_curve(y_test, y_pred_proba)\n",
        "    plt.figure()\n",
        "    plt.plot(fpr, tpr, label=f\"AUC = {auc_roc:.4f}\")\n",
        "    plt.plot([0, 1], [0, 1], 'k--', label=\"Random Guess\")\n",
        "    plt.xlabel(\"False Positive Rate\")\n",
        "    plt.ylabel(\"True Positive Rate\")\n",
        "    plt.title(\"ROC Curve\")\n",
        "    plt.legend(loc=\"best\")\n",
        "    plt.show()\n"
      ]
    },
    {
      "cell_type": "markdown",
      "source": [
        "# **Mutual Information model - filter method**"
      ],
      "metadata": {
        "id": "f6xd-ZfFyJpD"
      },
      "id": "f6xd-ZfFyJpD"
    },
    {
      "cell_type": "code",
      "execution_count": 14,
      "id": "kmYTpfiWOxX4",
      "metadata": {
        "colab": {
          "base_uri": "https://localhost:8080/"
        },
        "id": "kmYTpfiWOxX4",
        "outputId": "5d38cf38-a095-44a9-c1e1-d50d03d52324"
      },
      "outputs": [
        {
          "output_type": "stream",
          "name": "stdout",
          "text": [
            "Filter Method Accuracy (Mutual Information): 76.67%\n",
            "Classification Report:\n",
            "               precision    recall  f1-score   support\n",
            "\n",
            "           0       0.85      1.00      0.92        41\n",
            "           1       0.67      0.89      0.76         9\n",
            "           2       0.67      0.93      0.78        15\n",
            "           3       0.94      0.89      0.91        18\n",
            "           4       0.72      1.00      0.84        13\n",
            "           5       0.00      0.00      0.00        24\n",
            "\n",
            "    accuracy                           0.77       120\n",
            "   macro avg       0.64      0.79      0.70       120\n",
            "weighted avg       0.64      0.77      0.70       120\n",
            "\n",
            "Confusion Matrix:\n",
            " [[41  0  0  0  0  0]\n",
            " [ 0  8  0  0  0  1]\n",
            " [ 0  0 14  0  0  1]\n",
            " [ 0  0  0 16  0  2]\n",
            " [ 0  0  0  0 13  0]\n",
            " [ 7  4  7  1  5  0]]\n",
            "AUC-ROC Score: 0.8727\n"
          ]
        }
      ],
      "source": [
        "from sklearn.feature_selection import mutual_info_classif\n",
        "from sklearn.ensemble import RandomForestClassifier\n",
        "from sklearn.metrics import accuracy_score, classification_report, confusion_matrix, roc_auc_score, roc_curve\n",
        "import numpy as np\n",
        "import matplotlib.pyplot as plt\n",
        "\n",
        "# Compute Mutual Information scores\n",
        "mi_scores = mutual_info_classif(X_train, y_train, random_state=42)\n",
        "\n",
        "# Select top k features\n",
        "k = 10  # Number of features to select\n",
        "top_k_features = np.argsort(mi_scores)[-k:]\n",
        "X_train_filter = X_train.iloc[:, top_k_features]\n",
        "X_test_filter = X_test.iloc[:, top_k_features]\n",
        "\n",
        "# Train a model with the selected features\n",
        "filter_model = RandomForestClassifier(random_state=42)\n",
        "filter_model.fit(X_train_filter, y_train)\n",
        "\n",
        "# Predict on the test set\n",
        "y_pred = filter_model.predict(X_test_filter)\n",
        "if len(set(y_train)) > 2:\n",
        "    # Multi-class classification\n",
        "    y_pred_proba = filter_model.predict_proba(X_test_filter)\n",
        "    auc_roc = roc_auc_score(y_test, y_pred_proba, multi_class='ovr')\n",
        "else:\n",
        "    # Binary classification\n",
        "    y_pred_proba = filter_model.predict_proba(X_test_filter)[:, 1]\n",
        "    auc_roc = roc_auc_score(y_test, y_pred_proba)\n",
        "\n",
        "# Evaluate the model\n",
        "filter_accuracy = accuracy_score(y_test, y_pred) * 100\n",
        "classification_rep = classification_report(y_test, y_pred)\n",
        "conf_matrix = confusion_matrix(y_test, y_pred)\n",
        "\n",
        "# Print results\n",
        "print(f\"Filter Method Accuracy (Mutual Information): {filter_accuracy:.2f}%\")\n",
        "print(\"Classification Report:\\n\", classification_rep)\n",
        "print(\"Confusion Matrix:\\n\", conf_matrix)\n",
        "print(f\"AUC-ROC Score: {auc_roc:.4f}\")\n",
        "\n",
        "# Plot the ROC curve if binary classification\n",
        "if len(set(y_train)) == 2:\n",
        "    fpr, tpr, thresholds = roc_curve(y_test, y_pred_proba)\n",
        "    plt.figure()\n",
        "    plt.plot(fpr, tpr, label=f\"AUC = {auc_roc:.4f}\")\n",
        "    plt.plot([0, 1], [0, 1], 'k--', label=\"Random Guess\")\n",
        "    plt.xlabel(\"False Positive Rate\")\n",
        "    plt.ylabel(\"True Positive Rate\")\n",
        "    plt.title(\"ROC Curve\")\n",
        "    plt.legend(loc=\"best\")\n",
        "    plt.show()\n"
      ]
    },
    {
      "cell_type": "markdown",
      "source": [
        "# **Comaprison and Visualization**"
      ],
      "metadata": {
        "id": "TD0JGiJwyiFj"
      },
      "id": "TD0JGiJwyiFj"
    },
    {
      "cell_type": "code",
      "execution_count": 15,
      "id": "QHx2ukHiN9zm",
      "metadata": {
        "id": "QHx2ukHiN9zm"
      },
      "outputs": [],
      "source": [
        "# Compile results for comparison\n",
        "results = pd.DataFrame({\n",
        "    'Method': ['Baseline', 'RFE', 'PCA', 'SDS', 'Filter (Mutual Info)'],\n",
        "    'Accuracy': [baseline_accuracy, rfe_accuracy, pca_accuracy, sds_accuracy, filter_accuracy]\n",
        "})\n",
        "\n",
        "# Accuracy scores for each method\n",
        "accuracy_scores = {\n",
        "    'Baseline': baseline_accuracy,\n",
        "    'RFE': rfe_accuracy,\n",
        "    'PCA': pca_accuracy,\n",
        "    'SDS': sds_accuracy,\n",
        "    'Filter (Mutual Info)': filter_accuracy\n",
        "}\n",
        "\n",
        "# Number of features for each method\n",
        "model_features = {\n",
        "    'Baseline': len(X_train.columns),  # Original number of features\n",
        "    'RFE': len(rfe.support_),          # Number of features selected by RFE\n",
        "    'PCA': pca.n_components_,          # Number of components retained by PCA\n",
        "    'SDS': len(selected_features_indices),  # Number of features selected by SDS\n",
        "    'Filter (Mutual Info)': k          # Number of features selected by the filter method\n",
        "\n",
        "}\n",
        "\n",
        "# Identify the best accuracy score for emphasis in visualization\n",
        "best_score = max(accuracy_scores.values())\n"
      ]
    },
    {
      "cell_type": "code",
      "execution_count": 16,
      "id": "3446559c",
      "metadata": {
        "colab": {
          "base_uri": "https://localhost:8080/"
        },
        "id": "3446559c",
        "outputId": "4e18a288-c7a5-4202-9aad-54a5a3759b96"
      },
      "outputs": [
        {
          "output_type": "stream",
          "name": "stdout",
          "text": [
            "RFE Selected Features: Index(['Unnamed: 0', 'gene_1', 'gene_3', 'gene_6', 'gene_7', 'gene_10',\n",
            "       'gene_18', 'gene_20', 'gene_21', 'gene_22',\n",
            "       ...\n",
            "       'gene_4982', 'gene_4983', 'gene_4984', 'gene_4986', 'gene_4988',\n",
            "       'gene_4991', 'gene_4992', 'gene_4994', 'gene_4997', 'gene_4998'],\n",
            "      dtype='object', length=2500)\n",
            "PCA Selected Components: [ 0  1  2  3  4  5  6  7  8  9 10 11 12 13 14 15 16 17 18 19 20 21 22 23\n",
            " 24 25 26 27 28 29 30 31 32 33 34 35 36 37 38 39 40 41 42 43 44 45 46 47\n",
            " 48 49 50 51 52 53 54 55 56 57 58 59 60 61 62]\n",
            "SDS Selected Features Indices: [   1    4    5 ... 4992 4993 4994]\n",
            "SDS Selected Feature Names: Index(['gene_0', 'gene_3', 'gene_4', 'gene_5', 'gene_6', 'gene_8', 'gene_9',\n",
            "       'gene_10', 'gene_11', 'gene_13',\n",
            "       ...\n",
            "       'gene_4974', 'gene_4975', 'gene_4978', 'gene_4980', 'gene_4984',\n",
            "       'gene_4987', 'gene_4989', 'gene_4991', 'gene_4992', 'gene_4993'],\n",
            "      dtype='object', length=2449)\n",
            "Random Forest Selected Features Indices: [  34   45   46   68  100  137  184  233  249  298  308  323  333  334\n",
            "  345  355  388  399  440  451  488  516  539  546  552  599  606  615\n",
            "  632  635  648  698  705  713  729  768  788  836  859  862  889  943\n",
            "  986 1037 1043 1190 1192 1200 1213 1318 1327 1330 1358 1378 1387 1430\n",
            " 1443 1468 1478 1489 1516 1550 1555 1565 1567 1570 1580 1631 1688 1751\n",
            " 1760 1784 1811 1824 1861 1863 1909 1947 1968 1970 2084 2109 2118 2168\n",
            " 2175 2180 2222 2281 2350 2388 2458 2459 2548 2553 2559 2595 2602 2640\n",
            " 2673 2702 2710 2730 2750 2770 2811 2845 2858 2900 2903 2952 2982 3037\n",
            " 3109 3120 3125 3164 3253 3281 3285 3317 3325 3347 3357 3365 3394 3403\n",
            " 3407 3410 3421 3435 3450 3476 3481 3493 3494 3509 3511 3513 3539 3569\n",
            " 3603 3619 3642 3684 3727 3752 3759 3780 3811 3830 3839 3842 3864 3929\n",
            " 3973 3974 4000 4034 4058 4061 4065 4069 4075 4083 4170 4173 4182 4192\n",
            " 4206 4215 4216 4279 4290 4395 4405 4429 4437 4479 4491 4516 4530 4581\n",
            " 4585 4586 4610 4716 4750 4849 4856 4902 4919 4951 4965]\n",
            "Random Forest Selected Feature Names: Index(['gene_33', 'gene_44', 'gene_45', 'gene_67', 'gene_99', 'gene_136',\n",
            "       'gene_183', 'gene_232', 'gene_248', 'gene_297',\n",
            "       ...\n",
            "       'gene_4585', 'gene_4609', 'gene_4715', 'gene_4749', 'gene_4848',\n",
            "       'gene_4855', 'gene_4901', 'gene_4918', 'gene_4950', 'gene_4964'],\n",
            "      dtype='object', length=193)\n",
            "Mutual Information Selected Features Indices: [ 952  776 3542 2779  204 2319  629 2130   90 2640]\n",
            "Mutual Information Selected Feature Names: Index(['gene_951', 'gene_775', 'gene_3541', 'gene_2778', 'gene_203',\n",
            "       'gene_2318', 'gene_628', 'gene_2129', 'gene_89', 'gene_2639'],\n",
            "      dtype='object')\n"
          ]
        }
      ],
      "source": [
        "# 1. **RFE**: Extract selected features based on RFE\n",
        "selected_features_rfe = X_train.columns[rfe.support_]\n",
        "print(\"RFE Selected Features:\", selected_features_rfe)\n",
        "\n",
        "# 2. **PCA**: Extract selected components based on PCA (indices of retained components)\n",
        "selected_features_pca = np.arange(pca.n_components_)\n",
        "print(\"PCA Selected Components:\", selected_features_pca)\n",
        "\n",
        "# 3. **SDS**: Extract selected features from SDS based on the best feature subset\n",
        "selected_features_sds = np.where(best_features == 1)[0]\n",
        "selected_feature_names_sds = X_train.columns[selected_features_sds]\n",
        "print(\"SDS Selected Features Indices:\", selected_features_sds)\n",
        "print(\"SDS Selected Feature Names:\", selected_feature_names_sds)\n",
        "\n",
        "# 4. **Random Forest**: Extract features based on feature importance scores\n",
        "importances = baseline_model.feature_importances_\n",
        "selected_features_rf = np.where(importances != 0)[0]\n",
        "selected_feature_names_rf = X_train.columns[selected_features_rf]\n",
        "print(\"Random Forest Selected Features Indices:\", selected_features_rf)\n",
        "print(\"Random Forest Selected Feature Names:\", selected_feature_names_rf)\n",
        "\n",
        "# 5. **Mutual Information**: Extract selected features based on top scores\n",
        "selected_features_mi = X_train.columns[top_k_features]\n",
        "print(\"Mutual Information Selected Features Indices:\", top_k_features)\n",
        "print(\"Mutual Information Selected Feature Names:\", selected_features_mi)\n"
      ]
    },
    {
      "cell_type": "code",
      "source": [
        "# Store accuracies and number of features for each method in a dictionary\n",
        "model_comparison = {\n",
        "    'Baseline': {\n",
        "        'Accuracy': f\"{baseline_accuracy}\",\n",
        "        'Number of Features': len(X_train.columns)\n",
        "    },\n",
        "    'PCA': {\n",
        "        'Accuracy': f\"{pca_accuracy:.2f}%\",\n",
        "        'Number of Features': pca.n_components_\n",
        "    },\n",
        "    'RFE': {\n",
        "        'Accuracy': f\"{rfe_accuracy:.2f}%\",\n",
        "        'Number of Features': len(rfe.support_[rfe.support_])\n",
        "    },\n",
        "    'Mutual Information': {\n",
        "        'Accuracy': f\"{filter_accuracy:.2f}%\",\n",
        "        'Number of Features': len(top_k_features)\n",
        "    },\n",
        "    'SDS': {\n",
        "        'Accuracy': f\"{sds_accuracy}\",\n",
        "        'Number of Features': len(selected_features_indices)\n",
        "    }\n",
        "}\n",
        "\n",
        "# Print the comparison in a formatted table\n",
        "print(f\"{'Model':<20}{'Accuracy':<15}{'Number of Features'}\")\n",
        "print(\"-\" * 50)\n",
        "for model, metrics in model_comparison.items():\n",
        "    print(f\"{model:<20}{metrics['Accuracy']:<15}{metrics['Number of Features']}\")\n"
      ],
      "metadata": {
        "colab": {
          "base_uri": "https://localhost:8080/"
        },
        "id": "iJZE4Vw1xz7t",
        "outputId": "08b54775-1db1-49d0-9311-8885faaa0429"
      },
      "id": "iJZE4Vw1xz7t",
      "execution_count": 17,
      "outputs": [
        {
          "output_type": "stream",
          "name": "stdout",
          "text": [
            "Model               Accuracy       Number of Features\n",
            "--------------------------------------------------\n",
            "Baseline            0.75833333333333335000\n",
            "PCA                 75.83%         63\n",
            "RFE                 76.67%         2500\n",
            "Mutual Information  76.67%         10\n",
            "SDS                 0.78333333333333332449\n"
          ]
        }
      ]
    },
    {
      "cell_type": "code",
      "source": [
        "import plotly.graph_objects as go\n",
        "\n",
        "# Model performance dictionary with accuracy percentages and feature counts\n",
        "model_performances = {\n",
        "    'Baseline': {'Accuracy (%)': baseline_accuracy * 100, 'Number of Features': len(X_train.columns)},\n",
        "    'SDS': {'Accuracy (%)': sds_accuracy * 100, 'Number of Features': len(selected_features_indices)},\n",
        "    'PCA': {'Accuracy (%)': pca_accuracy, 'Number of Features': pca.n_components_},\n",
        "    'RFE': {'Accuracy (%)': rfe_accuracy, 'Number of Features': len(rfe.support_[rfe.support_])},\n",
        "    'MIFS': {'Accuracy (%)': filter_accuracy, 'Number of Features': len(top_k_features)}\n",
        "}\n",
        "\n",
        "# Create a figure\n",
        "fig = go.Figure()\n",
        "\n",
        "# Add bar chart for Accuracy\n",
        "fig.add_trace(go.Bar(\n",
        "    x=list(model_performances.keys()),\n",
        "    y=[data['Accuracy (%)'] for data in model_performances.values()],\n",
        "    name='Accuracy (%)',\n",
        "    marker_color=[\"#FF7F0E\", \"#1F77B4\", \"#2CA02C\", \"#D62728\", \"#9467BD\"]\n",
        "))\n",
        "\n",
        "# Add line chart for Number of Features\n",
        "fig.add_trace(go.Scatter(\n",
        "    x=list(model_performances.keys()),\n",
        "    y=[data['Number of Features'] for data in model_performances.values()],\n",
        "    name='Number of Features',\n",
        "    mode='lines+markers',\n",
        "    line=dict(color='lightblue', width=3),\n",
        "    marker=dict(size=10, color='lightblue'),\n",
        "    yaxis='y2'\n",
        "))\n",
        "\n",
        "# Layout adjustments\n",
        "fig.update_layout(\n",
        "    title=\"Comparison of Model Performances\",\n",
        "    xaxis=dict(title='Model'),\n",
        "    yaxis=dict(\n",
        "        title='Accuracy (%)',\n",
        "        range=[0, 100],  # Set range for Accuracy in percentage\n",
        "        titlefont=dict(color='#FF7F0E'),\n",
        "        tickfont=dict(color='#FF7F0E')\n",
        "    ),\n",
        "    yaxis2=dict(\n",
        "        title='Number of Features',\n",
        "        overlaying='y',\n",
        "        side='right',\n",
        "        showgrid=False,\n",
        "        titlefont=dict(color='lightblue'),\n",
        "        tickfont=dict(color='lightblue')\n",
        "    ),\n",
        "    legend=dict(\n",
        "        x=1.03,  # Legend positioned outside the graph\n",
        "        y=1.3,\n",
        "        xanchor=\"left\",\n",
        "        yanchor=\"top\",\n",
        "        bordercolor=\"Black\",\n",
        "        borderwidth=1\n",
        "    ),\n",
        "    template='plotly_white',  # Clean white background\n",
        "    margin=dict(r=200)  # Adjust right margin for legend\n",
        ")\n",
        "\n",
        "# Show the interactive plot\n",
        "fig.show()\n"
      ],
      "metadata": {
        "colab": {
          "base_uri": "https://localhost:8080/",
          "height": 542
        },
        "id": "DAf4y8EJu-xM",
        "outputId": "27b92c01-5886-4106-bce9-dc7d20264927"
      },
      "id": "DAf4y8EJu-xM",
      "execution_count": 18,
      "outputs": [
        {
          "output_type": "display_data",
          "data": {
            "text/html": [
              "<html>\n",
              "<head><meta charset=\"utf-8\" /></head>\n",
              "<body>\n",
              "    <div>            <script src=\"https://cdnjs.cloudflare.com/ajax/libs/mathjax/2.7.5/MathJax.js?config=TeX-AMS-MML_SVG\"></script><script type=\"text/javascript\">if (window.MathJax && window.MathJax.Hub && window.MathJax.Hub.Config) {window.MathJax.Hub.Config({SVG: {font: \"STIX-Web\"}});}</script>                <script type=\"text/javascript\">window.PlotlyConfig = {MathJaxConfig: 'local'};</script>\n",
              "        <script charset=\"utf-8\" src=\"https://cdn.plot.ly/plotly-2.35.2.min.js\"></script>                <div id=\"2ea78e68-b2fb-4314-a589-307c90611803\" class=\"plotly-graph-div\" style=\"height:525px; width:100%;\"></div>            <script type=\"text/javascript\">                                    window.PLOTLYENV=window.PLOTLYENV || {};                                    if (document.getElementById(\"2ea78e68-b2fb-4314-a589-307c90611803\")) {                    Plotly.newPlot(                        \"2ea78e68-b2fb-4314-a589-307c90611803\",                        [{\"marker\":{\"color\":[\"#FF7F0E\",\"#1F77B4\",\"#2CA02C\",\"#D62728\",\"#9467BD\"]},\"name\":\"Accuracy (%)\",\"x\":[\"Baseline\",\"SDS\",\"PCA\",\"RFE\",\"MIFS\"],\"y\":[75.83333333333333,78.33333333333333,75.83333333333333,76.66666666666667,76.66666666666667],\"type\":\"bar\"},{\"line\":{\"color\":\"lightblue\",\"width\":3},\"marker\":{\"color\":\"lightblue\",\"size\":10},\"mode\":\"lines+markers\",\"name\":\"Number of Features\",\"x\":[\"Baseline\",\"SDS\",\"PCA\",\"RFE\",\"MIFS\"],\"y\":[5000,2449,63,2500,10],\"yaxis\":\"y2\",\"type\":\"scatter\"}],                        {\"template\":{\"data\":{\"barpolar\":[{\"marker\":{\"line\":{\"color\":\"white\",\"width\":0.5},\"pattern\":{\"fillmode\":\"overlay\",\"size\":10,\"solidity\":0.2}},\"type\":\"barpolar\"}],\"bar\":[{\"error_x\":{\"color\":\"#2a3f5f\"},\"error_y\":{\"color\":\"#2a3f5f\"},\"marker\":{\"line\":{\"color\":\"white\",\"width\":0.5},\"pattern\":{\"fillmode\":\"overlay\",\"size\":10,\"solidity\":0.2}},\"type\":\"bar\"}],\"carpet\":[{\"aaxis\":{\"endlinecolor\":\"#2a3f5f\",\"gridcolor\":\"#C8D4E3\",\"linecolor\":\"#C8D4E3\",\"minorgridcolor\":\"#C8D4E3\",\"startlinecolor\":\"#2a3f5f\"},\"baxis\":{\"endlinecolor\":\"#2a3f5f\",\"gridcolor\":\"#C8D4E3\",\"linecolor\":\"#C8D4E3\",\"minorgridcolor\":\"#C8D4E3\",\"startlinecolor\":\"#2a3f5f\"},\"type\":\"carpet\"}],\"choropleth\":[{\"colorbar\":{\"outlinewidth\":0,\"ticks\":\"\"},\"type\":\"choropleth\"}],\"contourcarpet\":[{\"colorbar\":{\"outlinewidth\":0,\"ticks\":\"\"},\"type\":\"contourcarpet\"}],\"contour\":[{\"colorbar\":{\"outlinewidth\":0,\"ticks\":\"\"},\"colorscale\":[[0.0,\"#0d0887\"],[0.1111111111111111,\"#46039f\"],[0.2222222222222222,\"#7201a8\"],[0.3333333333333333,\"#9c179e\"],[0.4444444444444444,\"#bd3786\"],[0.5555555555555556,\"#d8576b\"],[0.6666666666666666,\"#ed7953\"],[0.7777777777777778,\"#fb9f3a\"],[0.8888888888888888,\"#fdca26\"],[1.0,\"#f0f921\"]],\"type\":\"contour\"}],\"heatmapgl\":[{\"colorbar\":{\"outlinewidth\":0,\"ticks\":\"\"},\"colorscale\":[[0.0,\"#0d0887\"],[0.1111111111111111,\"#46039f\"],[0.2222222222222222,\"#7201a8\"],[0.3333333333333333,\"#9c179e\"],[0.4444444444444444,\"#bd3786\"],[0.5555555555555556,\"#d8576b\"],[0.6666666666666666,\"#ed7953\"],[0.7777777777777778,\"#fb9f3a\"],[0.8888888888888888,\"#fdca26\"],[1.0,\"#f0f921\"]],\"type\":\"heatmapgl\"}],\"heatmap\":[{\"colorbar\":{\"outlinewidth\":0,\"ticks\":\"\"},\"colorscale\":[[0.0,\"#0d0887\"],[0.1111111111111111,\"#46039f\"],[0.2222222222222222,\"#7201a8\"],[0.3333333333333333,\"#9c179e\"],[0.4444444444444444,\"#bd3786\"],[0.5555555555555556,\"#d8576b\"],[0.6666666666666666,\"#ed7953\"],[0.7777777777777778,\"#fb9f3a\"],[0.8888888888888888,\"#fdca26\"],[1.0,\"#f0f921\"]],\"type\":\"heatmap\"}],\"histogram2dcontour\":[{\"colorbar\":{\"outlinewidth\":0,\"ticks\":\"\"},\"colorscale\":[[0.0,\"#0d0887\"],[0.1111111111111111,\"#46039f\"],[0.2222222222222222,\"#7201a8\"],[0.3333333333333333,\"#9c179e\"],[0.4444444444444444,\"#bd3786\"],[0.5555555555555556,\"#d8576b\"],[0.6666666666666666,\"#ed7953\"],[0.7777777777777778,\"#fb9f3a\"],[0.8888888888888888,\"#fdca26\"],[1.0,\"#f0f921\"]],\"type\":\"histogram2dcontour\"}],\"histogram2d\":[{\"colorbar\":{\"outlinewidth\":0,\"ticks\":\"\"},\"colorscale\":[[0.0,\"#0d0887\"],[0.1111111111111111,\"#46039f\"],[0.2222222222222222,\"#7201a8\"],[0.3333333333333333,\"#9c179e\"],[0.4444444444444444,\"#bd3786\"],[0.5555555555555556,\"#d8576b\"],[0.6666666666666666,\"#ed7953\"],[0.7777777777777778,\"#fb9f3a\"],[0.8888888888888888,\"#fdca26\"],[1.0,\"#f0f921\"]],\"type\":\"histogram2d\"}],\"histogram\":[{\"marker\":{\"pattern\":{\"fillmode\":\"overlay\",\"size\":10,\"solidity\":0.2}},\"type\":\"histogram\"}],\"mesh3d\":[{\"colorbar\":{\"outlinewidth\":0,\"ticks\":\"\"},\"type\":\"mesh3d\"}],\"parcoords\":[{\"line\":{\"colorbar\":{\"outlinewidth\":0,\"ticks\":\"\"}},\"type\":\"parcoords\"}],\"pie\":[{\"automargin\":true,\"type\":\"pie\"}],\"scatter3d\":[{\"line\":{\"colorbar\":{\"outlinewidth\":0,\"ticks\":\"\"}},\"marker\":{\"colorbar\":{\"outlinewidth\":0,\"ticks\":\"\"}},\"type\":\"scatter3d\"}],\"scattercarpet\":[{\"marker\":{\"colorbar\":{\"outlinewidth\":0,\"ticks\":\"\"}},\"type\":\"scattercarpet\"}],\"scattergeo\":[{\"marker\":{\"colorbar\":{\"outlinewidth\":0,\"ticks\":\"\"}},\"type\":\"scattergeo\"}],\"scattergl\":[{\"marker\":{\"colorbar\":{\"outlinewidth\":0,\"ticks\":\"\"}},\"type\":\"scattergl\"}],\"scattermapbox\":[{\"marker\":{\"colorbar\":{\"outlinewidth\":0,\"ticks\":\"\"}},\"type\":\"scattermapbox\"}],\"scatterpolargl\":[{\"marker\":{\"colorbar\":{\"outlinewidth\":0,\"ticks\":\"\"}},\"type\":\"scatterpolargl\"}],\"scatterpolar\":[{\"marker\":{\"colorbar\":{\"outlinewidth\":0,\"ticks\":\"\"}},\"type\":\"scatterpolar\"}],\"scatter\":[{\"fillpattern\":{\"fillmode\":\"overlay\",\"size\":10,\"solidity\":0.2},\"type\":\"scatter\"}],\"scatterternary\":[{\"marker\":{\"colorbar\":{\"outlinewidth\":0,\"ticks\":\"\"}},\"type\":\"scatterternary\"}],\"surface\":[{\"colorbar\":{\"outlinewidth\":0,\"ticks\":\"\"},\"colorscale\":[[0.0,\"#0d0887\"],[0.1111111111111111,\"#46039f\"],[0.2222222222222222,\"#7201a8\"],[0.3333333333333333,\"#9c179e\"],[0.4444444444444444,\"#bd3786\"],[0.5555555555555556,\"#d8576b\"],[0.6666666666666666,\"#ed7953\"],[0.7777777777777778,\"#fb9f3a\"],[0.8888888888888888,\"#fdca26\"],[1.0,\"#f0f921\"]],\"type\":\"surface\"}],\"table\":[{\"cells\":{\"fill\":{\"color\":\"#EBF0F8\"},\"line\":{\"color\":\"white\"}},\"header\":{\"fill\":{\"color\":\"#C8D4E3\"},\"line\":{\"color\":\"white\"}},\"type\":\"table\"}]},\"layout\":{\"annotationdefaults\":{\"arrowcolor\":\"#2a3f5f\",\"arrowhead\":0,\"arrowwidth\":1},\"autotypenumbers\":\"strict\",\"coloraxis\":{\"colorbar\":{\"outlinewidth\":0,\"ticks\":\"\"}},\"colorscale\":{\"diverging\":[[0,\"#8e0152\"],[0.1,\"#c51b7d\"],[0.2,\"#de77ae\"],[0.3,\"#f1b6da\"],[0.4,\"#fde0ef\"],[0.5,\"#f7f7f7\"],[0.6,\"#e6f5d0\"],[0.7,\"#b8e186\"],[0.8,\"#7fbc41\"],[0.9,\"#4d9221\"],[1,\"#276419\"]],\"sequential\":[[0.0,\"#0d0887\"],[0.1111111111111111,\"#46039f\"],[0.2222222222222222,\"#7201a8\"],[0.3333333333333333,\"#9c179e\"],[0.4444444444444444,\"#bd3786\"],[0.5555555555555556,\"#d8576b\"],[0.6666666666666666,\"#ed7953\"],[0.7777777777777778,\"#fb9f3a\"],[0.8888888888888888,\"#fdca26\"],[1.0,\"#f0f921\"]],\"sequentialminus\":[[0.0,\"#0d0887\"],[0.1111111111111111,\"#46039f\"],[0.2222222222222222,\"#7201a8\"],[0.3333333333333333,\"#9c179e\"],[0.4444444444444444,\"#bd3786\"],[0.5555555555555556,\"#d8576b\"],[0.6666666666666666,\"#ed7953\"],[0.7777777777777778,\"#fb9f3a\"],[0.8888888888888888,\"#fdca26\"],[1.0,\"#f0f921\"]]},\"colorway\":[\"#636efa\",\"#EF553B\",\"#00cc96\",\"#ab63fa\",\"#FFA15A\",\"#19d3f3\",\"#FF6692\",\"#B6E880\",\"#FF97FF\",\"#FECB52\"],\"font\":{\"color\":\"#2a3f5f\"},\"geo\":{\"bgcolor\":\"white\",\"lakecolor\":\"white\",\"landcolor\":\"white\",\"showlakes\":true,\"showland\":true,\"subunitcolor\":\"#C8D4E3\"},\"hoverlabel\":{\"align\":\"left\"},\"hovermode\":\"closest\",\"mapbox\":{\"style\":\"light\"},\"paper_bgcolor\":\"white\",\"plot_bgcolor\":\"white\",\"polar\":{\"angularaxis\":{\"gridcolor\":\"#EBF0F8\",\"linecolor\":\"#EBF0F8\",\"ticks\":\"\"},\"bgcolor\":\"white\",\"radialaxis\":{\"gridcolor\":\"#EBF0F8\",\"linecolor\":\"#EBF0F8\",\"ticks\":\"\"}},\"scene\":{\"xaxis\":{\"backgroundcolor\":\"white\",\"gridcolor\":\"#DFE8F3\",\"gridwidth\":2,\"linecolor\":\"#EBF0F8\",\"showbackground\":true,\"ticks\":\"\",\"zerolinecolor\":\"#EBF0F8\"},\"yaxis\":{\"backgroundcolor\":\"white\",\"gridcolor\":\"#DFE8F3\",\"gridwidth\":2,\"linecolor\":\"#EBF0F8\",\"showbackground\":true,\"ticks\":\"\",\"zerolinecolor\":\"#EBF0F8\"},\"zaxis\":{\"backgroundcolor\":\"white\",\"gridcolor\":\"#DFE8F3\",\"gridwidth\":2,\"linecolor\":\"#EBF0F8\",\"showbackground\":true,\"ticks\":\"\",\"zerolinecolor\":\"#EBF0F8\"}},\"shapedefaults\":{\"line\":{\"color\":\"#2a3f5f\"}},\"ternary\":{\"aaxis\":{\"gridcolor\":\"#DFE8F3\",\"linecolor\":\"#A2B1C6\",\"ticks\":\"\"},\"baxis\":{\"gridcolor\":\"#DFE8F3\",\"linecolor\":\"#A2B1C6\",\"ticks\":\"\"},\"bgcolor\":\"white\",\"caxis\":{\"gridcolor\":\"#DFE8F3\",\"linecolor\":\"#A2B1C6\",\"ticks\":\"\"}},\"title\":{\"x\":0.05},\"xaxis\":{\"automargin\":true,\"gridcolor\":\"#EBF0F8\",\"linecolor\":\"#EBF0F8\",\"ticks\":\"\",\"title\":{\"standoff\":15},\"zerolinecolor\":\"#EBF0F8\",\"zerolinewidth\":2},\"yaxis\":{\"automargin\":true,\"gridcolor\":\"#EBF0F8\",\"linecolor\":\"#EBF0F8\",\"ticks\":\"\",\"title\":{\"standoff\":15},\"zerolinecolor\":\"#EBF0F8\",\"zerolinewidth\":2}}},\"yaxis\":{\"title\":{\"text\":\"Accuracy (%)\",\"font\":{\"color\":\"#FF7F0E\"}},\"tickfont\":{\"color\":\"#FF7F0E\"},\"range\":[0,100]},\"yaxis2\":{\"title\":{\"text\":\"Number of Features\",\"font\":{\"color\":\"lightblue\"}},\"overlaying\":\"y\",\"side\":\"right\",\"showgrid\":false,\"tickfont\":{\"color\":\"lightblue\"}},\"legend\":{\"x\":1.03,\"y\":1.3,\"xanchor\":\"left\",\"yanchor\":\"top\",\"bordercolor\":\"Black\",\"borderwidth\":1},\"margin\":{\"r\":200},\"title\":{\"text\":\"Comparison of Model Performances\"},\"xaxis\":{\"title\":{\"text\":\"Model\"}}},                        {\"responsive\": true}                    ).then(function(){\n",
              "                            \n",
              "var gd = document.getElementById('2ea78e68-b2fb-4314-a589-307c90611803');\n",
              "var x = new MutationObserver(function (mutations, observer) {{\n",
              "        var display = window.getComputedStyle(gd).display;\n",
              "        if (!display || display === 'none') {{\n",
              "            console.log([gd, 'removed!']);\n",
              "            Plotly.purge(gd);\n",
              "            observer.disconnect();\n",
              "        }}\n",
              "}});\n",
              "\n",
              "// Listen for the removal of the full notebook cells\n",
              "var notebookContainer = gd.closest('#notebook-container');\n",
              "if (notebookContainer) {{\n",
              "    x.observe(notebookContainer, {childList: true});\n",
              "}}\n",
              "\n",
              "// Listen for the clearing of the current output cell\n",
              "var outputEl = gd.closest('.output');\n",
              "if (outputEl) {{\n",
              "    x.observe(outputEl, {childList: true});\n",
              "}}\n",
              "\n",
              "                        })                };                            </script>        </div>\n",
              "</body>\n",
              "</html>"
            ]
          },
          "metadata": {}
        }
      ]
    },
    {
      "cell_type": "code",
      "source": [],
      "metadata": {
        "id": "YpKaWJQCvwun"
      },
      "id": "YpKaWJQCvwun",
      "execution_count": 20,
      "outputs": []
    }
  ],
  "metadata": {
    "colab": {
      "provenance": [],
      "toc_visible": true
    },
    "kernelspec": {
      "display_name": "Python 3",
      "language": "python",
      "name": "python3"
    },
    "language_info": {
      "codemirror_mode": {
        "name": "ipython",
        "version": 3
      },
      "file_extension": ".py",
      "mimetype": "text/x-python",
      "name": "python",
      "nbconvert_exporter": "python",
      "pygments_lexer": "ipython3",
      "version": "3.13.0"
    }
  },
  "nbformat": 4,
  "nbformat_minor": 5
}